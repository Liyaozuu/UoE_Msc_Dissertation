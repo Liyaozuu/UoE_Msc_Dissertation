{
 "cells": [
  {
   "cell_type": "code",
   "execution_count": 1,
   "id": "d73407ef",
   "metadata": {},
   "outputs": [],
   "source": [
    "import numpy as np\n",
    "import pandas as pd\n",
    "import random\n",
    "import math\n",
    "import statistics as stat\n",
    "import matplotlib.pyplot as plt\n",
    "import itertools\n",
    "import warnings\n",
    "from simul_file import mmn_queueing_jsq, queue_length_time_graph, \\\n",
    "                        mmn_queueing_redundancy_dos, mmn_queueing_redundancy_doc, \\\n",
    "                        mmn_queueing_redundancy_dos_identical, \\\n",
    "                        mmn_queueing_redundancy_doc_identical, \\\n",
    "                        mmn_queueing_redundancy_dos_weibull, \\\n",
    "                        mmn_queueing_redundancy_doc_weibull,\\\n",
    "                        mmn_queueing_jsq_weibull"
   ]
  },
  {
   "cell_type": "code",
   "execution_count": null,
   "id": "a0582c3e",
   "metadata": {},
   "outputs": [],
   "source": [
    "mmn_queueing_jsq(n,arrival_rate,service_rate,simulation_time=60,simuseed=math.nan,policy=\"jsq1\")\n",
    "queue_length_time_graph(event_calendar,other_stat,gtype=\"queue\",sq_no=math.nan)\n",
    "mmn_queueing_redundancy_dos(n,d,arrival_rate,service_rate,simulation_time=60,simuseed=math.nan)\n",
    "mmn_queueing_redundancy_doc(n,d,arrival_rate,service_rate,simulation_time=60,simuseed=math.nan)\n",
    "mmn_queueing_redundancy_dos_identical(n,d,arrival_rate,service_rate,simulation_time=60,simuseed=math.nan)\n",
    "mmn_queueing_redundancy_doc_identical(n,d,arrival_rate,service_rate,simulation_time=60,simuseed=math.nan)\n",
    "mmn_queueing_redundancy_dos_weibull(n,d,arrival_rate,scale,shape,simulation_time=60,simuseed=math.nan)\n",
    "mmn_queueing_redundancy_doc_weibull(n,d,arrival_rate,scale,shape,simulation_time=60,simuseed=math.nan)\n",
    "mmn_queueing_jsq_weibull(n,arrival_rate,scale,shape,simulation_time=60,simuseed=math.nan)"
   ]
  },
  {
   "cell_type": "code",
   "execution_count": null,
   "id": "b9cc1409",
   "metadata": {},
   "outputs": [],
   "source": []
  },
  {
   "cell_type": "code",
   "execution_count": null,
   "id": "ffae18a8",
   "metadata": {},
   "outputs": [],
   "source": []
  },
  {
   "cell_type": "code",
   "execution_count": null,
   "id": "76e383fe",
   "metadata": {},
   "outputs": [],
   "source": []
  },
  {
   "cell_type": "code",
   "execution_count": 4,
   "id": "6e464e1f",
   "metadata": {},
   "outputs": [],
   "source": [
    "aaa = mmn_queueing_jsq(6,50,[13,5,9,22,15,7],simulation_time=1000,simuseed=8,policy=\"jsq1\")\n",
    "bbb = mmn_queueing_redundancy_dos(6,5,50,[13,5,9,22,15,7],simulation_time=1000,simuseed=8)\n",
    "ccc = mmn_queueing_redundancy_doc(6,5,50,[13,5,9,22,15,7],simulation_time=1000,simuseed=8)"
   ]
  },
  {
   "cell_type": "code",
   "execution_count": null,
   "id": "2c858309",
   "metadata": {},
   "outputs": [],
   "source": [
    "def system_compare(system_result1,system_result2):\n",
    "    "
   ]
  },
  {
   "cell_type": "code",
   "execution_count": 5,
   "id": "b92169b0",
   "metadata": {},
   "outputs": [
    {
     "data": {
      "text/html": [
       "<div>\n",
       "<style scoped>\n",
       "    .dataframe tbody tr th:only-of-type {\n",
       "        vertical-align: middle;\n",
       "    }\n",
       "\n",
       "    .dataframe tbody tr th {\n",
       "        vertical-align: top;\n",
       "    }\n",
       "\n",
       "    .dataframe thead th {\n",
       "        text-align: right;\n",
       "    }\n",
       "</style>\n",
       "<table border=\"1\" class=\"dataframe\">\n",
       "  <thead>\n",
       "    <tr style=\"text-align: right;\">\n",
       "      <th></th>\n",
       "      <th>Server1</th>\n",
       "      <th>Server2</th>\n",
       "      <th>Server3</th>\n",
       "      <th>Server4</th>\n",
       "      <th>Server5</th>\n",
       "      <th>Server6</th>\n",
       "      <th>Grand total</th>\n",
       "    </tr>\n",
       "  </thead>\n",
       "  <tbody>\n",
       "    <tr>\n",
       "      <th>Arrived customers</th>\n",
       "      <td>9223.0</td>\n",
       "      <td>4452.0</td>\n",
       "      <td>7007.0</td>\n",
       "      <td>13434.0</td>\n",
       "      <td>10257.0</td>\n",
       "      <td>5786.0</td>\n",
       "      <td>50159.0</td>\n",
       "    </tr>\n",
       "    <tr>\n",
       "      <th>Completed services</th>\n",
       "      <td>9222.0</td>\n",
       "      <td>4452.0</td>\n",
       "      <td>7006.0</td>\n",
       "      <td>13433.0</td>\n",
       "      <td>10257.0</td>\n",
       "      <td>5785.0</td>\n",
       "      <td>50155.0</td>\n",
       "    </tr>\n",
       "  </tbody>\n",
       "</table>\n",
       "</div>"
      ],
      "text/plain": [
       "                    Server1  Server2  Server3  Server4  Server5  Server6  \\\n",
       "Arrived customers    9223.0   4452.0   7007.0  13434.0  10257.0   5786.0   \n",
       "Completed services   9222.0   4452.0   7006.0  13433.0  10257.0   5785.0   \n",
       "\n",
       "                    Grand total  \n",
       "Arrived customers       50159.0  \n",
       "Completed services      50155.0  "
      ]
     },
     "execution_count": 5,
     "metadata": {},
     "output_type": "execute_result"
    }
   ],
   "source": [
    "aaa[6]"
   ]
  },
  {
   "cell_type": "code",
   "execution_count": 6,
   "id": "00071b42",
   "metadata": {
    "scrolled": true
   },
   "outputs": [
    {
     "data": {
      "text/html": [
       "<div>\n",
       "<style scoped>\n",
       "    .dataframe tbody tr th:only-of-type {\n",
       "        vertical-align: middle;\n",
       "    }\n",
       "\n",
       "    .dataframe tbody tr th {\n",
       "        vertical-align: top;\n",
       "    }\n",
       "\n",
       "    .dataframe thead th {\n",
       "        text-align: right;\n",
       "    }\n",
       "</style>\n",
       "<table border=\"1\" class=\"dataframe\">\n",
       "  <thead>\n",
       "    <tr style=\"text-align: right;\">\n",
       "      <th></th>\n",
       "      <th>Server1</th>\n",
       "      <th>Server2</th>\n",
       "      <th>Server3</th>\n",
       "      <th>Server4</th>\n",
       "      <th>Server5</th>\n",
       "      <th>Server6</th>\n",
       "      <th>Grand total</th>\n",
       "    </tr>\n",
       "  </thead>\n",
       "  <tbody>\n",
       "    <tr>\n",
       "      <th>Arrived customers</th>\n",
       "      <td>9291</td>\n",
       "      <td>4180</td>\n",
       "      <td>6975</td>\n",
       "      <td>13872</td>\n",
       "      <td>10379</td>\n",
       "      <td>5629</td>\n",
       "      <td>50326</td>\n",
       "    </tr>\n",
       "    <tr>\n",
       "      <th>Completed services</th>\n",
       "      <td>9291</td>\n",
       "      <td>4179</td>\n",
       "      <td>6974</td>\n",
       "      <td>13871</td>\n",
       "      <td>10378</td>\n",
       "      <td>5628</td>\n",
       "      <td>50321</td>\n",
       "    </tr>\n",
       "  </tbody>\n",
       "</table>\n",
       "</div>"
      ],
      "text/plain": [
       "                    Server1  Server2  Server3  Server4  Server5  Server6  \\\n",
       "Arrived customers      9291     4180     6975    13872    10379     5629   \n",
       "Completed services     9291     4179     6974    13871    10378     5628   \n",
       "\n",
       "                    Grand total  \n",
       "Arrived customers         50326  \n",
       "Completed services        50321  "
      ]
     },
     "execution_count": 6,
     "metadata": {},
     "output_type": "execute_result"
    }
   ],
   "source": [
    "bbb[6]"
   ]
  },
  {
   "cell_type": "code",
   "execution_count": 7,
   "id": "5983374a",
   "metadata": {},
   "outputs": [
    {
     "data": {
      "text/html": [
       "<div>\n",
       "<style scoped>\n",
       "    .dataframe tbody tr th:only-of-type {\n",
       "        vertical-align: middle;\n",
       "    }\n",
       "\n",
       "    .dataframe tbody tr th {\n",
       "        vertical-align: top;\n",
       "    }\n",
       "\n",
       "    .dataframe thead th {\n",
       "        text-align: right;\n",
       "    }\n",
       "</style>\n",
       "<table border=\"1\" class=\"dataframe\">\n",
       "  <thead>\n",
       "    <tr style=\"text-align: right;\">\n",
       "      <th></th>\n",
       "      <th>Server1</th>\n",
       "      <th>Server2</th>\n",
       "      <th>Server3</th>\n",
       "      <th>Server4</th>\n",
       "      <th>Server5</th>\n",
       "      <th>Server6</th>\n",
       "      <th>Grand total</th>\n",
       "    </tr>\n",
       "  </thead>\n",
       "  <tbody>\n",
       "    <tr>\n",
       "      <th>Arrived customers</th>\n",
       "      <td>9154</td>\n",
       "      <td>3575</td>\n",
       "      <td>6309</td>\n",
       "      <td>15411</td>\n",
       "      <td>10616</td>\n",
       "      <td>5012</td>\n",
       "      <td>50077</td>\n",
       "    </tr>\n",
       "    <tr>\n",
       "      <th>Completed services</th>\n",
       "      <td>9153</td>\n",
       "      <td>3574</td>\n",
       "      <td>6308</td>\n",
       "      <td>15410</td>\n",
       "      <td>10615</td>\n",
       "      <td>5012</td>\n",
       "      <td>50072</td>\n",
       "    </tr>\n",
       "  </tbody>\n",
       "</table>\n",
       "</div>"
      ],
      "text/plain": [
       "                    Server1  Server2  Server3  Server4  Server5  Server6  \\\n",
       "Arrived customers      9154     3575     6309    15411    10616     5012   \n",
       "Completed services     9153     3574     6308    15410    10615     5012   \n",
       "\n",
       "                    Grand total  \n",
       "Arrived customers         50077  \n",
       "Completed services        50072  "
      ]
     },
     "execution_count": 7,
     "metadata": {},
     "output_type": "execute_result"
    }
   ],
   "source": [
    "ccc[6]"
   ]
  },
  {
   "cell_type": "code",
   "execution_count": null,
   "id": "f1b072b1",
   "metadata": {},
   "outputs": [],
   "source": []
  },
  {
   "cell_type": "code",
   "execution_count": null,
   "id": "05908106",
   "metadata": {},
   "outputs": [],
   "source": [
    "aaa[6].iloc[]"
   ]
  },
  {
   "cell_type": "code",
   "execution_count": null,
   "id": "ca73021b",
   "metadata": {},
   "outputs": [],
   "source": []
  },
  {
   "cell_type": "code",
   "execution_count": 12,
   "id": "ca1ad266",
   "metadata": {},
   "outputs": [
    {
     "data": {
      "text/html": [
       "<div>\n",
       "<style scoped>\n",
       "    .dataframe tbody tr th:only-of-type {\n",
       "        vertical-align: middle;\n",
       "    }\n",
       "\n",
       "    .dataframe tbody tr th {\n",
       "        vertical-align: top;\n",
       "    }\n",
       "\n",
       "    .dataframe thead th {\n",
       "        text-align: right;\n",
       "    }\n",
       "</style>\n",
       "<table border=\"1\" class=\"dataframe\">\n",
       "  <thead>\n",
       "    <tr style=\"text-align: right;\">\n",
       "      <th></th>\n",
       "      <th>Server1 Average waiting time</th>\n",
       "      <th>Server2 Average waiting time</th>\n",
       "      <th>Server3 Average waiting time</th>\n",
       "      <th>Server4 Average waiting time</th>\n",
       "      <th>Server5 Average waiting time</th>\n",
       "      <th>Server6 Average waiting time</th>\n",
       "      <th>Grand Average waiting time</th>\n",
       "    </tr>\n",
       "  </thead>\n",
       "  <tbody>\n",
       "    <tr>\n",
       "      <th>0</th>\n",
       "      <td>0.028</td>\n",
       "      <td>0.098</td>\n",
       "      <td>0.046</td>\n",
       "      <td>0.014</td>\n",
       "      <td>0.023</td>\n",
       "      <td>0.062</td>\n",
       "      <td>0.036</td>\n",
       "    </tr>\n",
       "  </tbody>\n",
       "</table>\n",
       "</div>"
      ],
      "text/plain": [
       "   Server1 Average waiting time  Server2 Average waiting time  \\\n",
       "0                         0.028                         0.098   \n",
       "\n",
       "   Server3 Average waiting time  Server4 Average waiting time  \\\n",
       "0                         0.046                         0.014   \n",
       "\n",
       "   Server5 Average waiting time  Server6 Average waiting time  \\\n",
       "0                         0.023                         0.062   \n",
       "\n",
       "   Grand Average waiting time  \n",
       "0                       0.036  "
      ]
     },
     "execution_count": 12,
     "metadata": {},
     "output_type": "execute_result"
    }
   ],
   "source": [
    "aaa[4]"
   ]
  },
  {
   "cell_type": "code",
   "execution_count": null,
   "id": "fdbdaf99",
   "metadata": {},
   "outputs": [],
   "source": []
  },
  {
   "cell_type": "code",
   "execution_count": null,
   "id": "90dd13f4",
   "metadata": {},
   "outputs": [],
   "source": []
  },
  {
   "cell_type": "code",
   "execution_count": null,
   "id": "3db030da",
   "metadata": {},
   "outputs": [],
   "source": []
  }
 ],
 "metadata": {
  "kernelspec": {
   "display_name": "Python 3",
   "language": "python",
   "name": "python3"
  },
  "language_info": {
   "codemirror_mode": {
    "name": "ipython",
    "version": 3
   },
   "file_extension": ".py",
   "mimetype": "text/x-python",
   "name": "python",
   "nbconvert_exporter": "python",
   "pygments_lexer": "ipython3",
   "version": "3.8.8"
  }
 },
 "nbformat": 4,
 "nbformat_minor": 5
}
