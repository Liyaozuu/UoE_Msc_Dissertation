{
 "cells": [
  {
   "cell_type": "code",
   "execution_count": 1,
   "id": "d73407ef",
   "metadata": {},
   "outputs": [],
   "source": [
    "import numpy as np\n",
    "import pandas as pd\n",
    "import random\n",
    "import math\n",
    "import statistics as stat\n",
    "import matplotlib.pyplot as plt\n",
    "import itertools\n",
    "import warnings"
   ]
  },
  {
   "cell_type": "code",
   "execution_count": 100,
   "id": "ca73021b",
   "metadata": {},
   "outputs": [],
   "source": [
    "def system_compare_exp(system1,system2):\n",
    "    '''\n",
    "    Please input the outputs of the queueing function of the two systems.\n",
    "    '''\n",
    "    #sys1_time = np.arange(0,system1[7]['simulation_time']+1,system1[7]['simulation_time']/20)\n",
    "    #sys2_time = np.arange(0,system2[7]['simulation_time']+1,system2[7]['simulation_time']/20)\n",
    "    \n",
    "    if system1[7]['simulation_time'] != system2[7]['simulation_time']:\n",
    "        raise Exception(\"the two system should have same simulation time\")\n",
    "\n",
    "    aaa = system1[0].iloc[np.where(system1[0][\"Time\"][1:].to_numpy() != system1[0][\"Next Customer\"][:-1].to_numpy())[0][:-1]+1,:]\n",
    "    bbb = system2[0].iloc[np.where(system2[0][\"Time\"][1:].to_numpy() != system2[0][\"Next Customer\"][:-1].to_numpy())[0][:-1]+1,:]\n",
    "\n",
    "    plt.plot(aaa['Time'],aaa['Live_track'],label='system1')\n",
    "    plt.plot(bbb['Time'],bbb['Live_track'],label='system2')\n",
    "    plt.title('Comparison of the two systems')\n",
    "    plt.xlabel('Time')\n",
    "    plt.ylabel('# Customers')\n",
    "    plt.legend()\n",
    "\n",
    "    sys1_data = np.array([])\n",
    "    for i in range(1,system1[7]['simulation_time']+1):\n",
    "        sys1_data=np.append(sys1_data,aaa[aaa['Time']<i].iloc[-1,-3])\n",
    "    sys2_data = np.array([])\n",
    "    for i in range(1,system2[7]['simulation_time']+1):\n",
    "        sys2_data=np.append(sys2_data,bbb[bbb['Time']<i].iloc[-1,-3])\n",
    "    diff = sys1_data - sys2_data\n",
    "    \n",
    "    result = np.array([sum(diff>0)/system1[7]['simulation_time'],\\\n",
    "                       sum(diff==0)/system1[7]['simulation_time'],\\\n",
    "                       sum(diff<0)/system1[7]['simulation_time']])\n",
    "\n",
    "    # Forward order\n",
    "    if result[0] - result[2] > 0.75:\n",
    "        print(\"System 1 is significantly better than system 2\")\n",
    "        print(f\"System 1 is better on {result[0]*100}% of the time\")\n",
    "        print(f\"System 2 is better on {result[2]*100}% of the time\")\n",
    "    elif 0.75 >= result[0] - result[2] > 0.55:\n",
    "        print(\"System 1 is substantially better than system 2\")\n",
    "        print(f\"System 1 is better on {result[0]*100}% of the time\")\n",
    "        print(f\"System 2 is better on {result[2]*100}% of the time\")\n",
    "    elif 0.55 >= result[0] - result[2] > 0.35:\n",
    "        print(\"System 1 is moderately better than system 2\")\n",
    "        print(f\"System 1 is better on {result[0]*100}% of the time\")\n",
    "        print(f\"System 2 is better on {result[2]*100}% of the time\")\n",
    "    elif 0.35 >= result[0] - result[2] > 0.15:\n",
    "        print(\"System 1 is slightly better than system 2\")\n",
    "        print(f\"System 1 is better on {result[0]*100}% of the time\")\n",
    "        print(f\"System 2 is better on {result[2]*100}% of the time\")\n",
    "    \n",
    "    # 5/5\n",
    "    elif 0.15 >= result[0] - result[2] > -0.15:\n",
    "        print(\"The 2 systems have almost the same performance\")\n",
    "        print(f\"System 1 is better on {result[0]*100}% of the time\")\n",
    "        print(f\"System 2 is better on {result[2]*100}% of the time\")\n",
    "    \n",
    "    # reverse order\n",
    "    elif -0.15 >= result[0] - result[2] > -0.35:\n",
    "        print(\"System 2 is slightly better than system 1\")\n",
    "        print(f\"System 1 is better on {result[0]*100}% of the time\")\n",
    "        print(f\"System 2 is better on {result[2]} of the time\")\n",
    "    elif -0.35 >= result[0] - result[2] > -0.55:\n",
    "        print(\"System 2 is moderately better than system 1\")\n",
    "        print(f\"System 1 is better on {result[0]*100}% of the time\")\n",
    "        print(f\"System 2 is better on {result[2]*100}% of the time\")\n",
    "    elif -0.55 >= result[0] - result[2] > -0.75:\n",
    "        print(\"System 2 is substantially better than system 1\")\n",
    "        print(f\"System 1 is better on {result[0]*100}% of the time\")\n",
    "        print(f\"System 2 is better on {result[2]*100}% of the time\")\n",
    "    elif -0.75 >= result[0] - result[2]:\n",
    "        print(\"System 2 is significantly better than system 1\")\n",
    "        print(f\"System 1 is better on {result[0]*100}% of the time\")\n",
    "        print(f\"System 2 is better on {result[2]*100}% of the time\")\n"
   ]
  },
  {
   "cell_type": "code",
   "execution_count": null,
   "id": "b85fd459",
   "metadata": {},
   "outputs": [],
   "source": []
  },
  {
   "cell_type": "code",
   "execution_count": null,
   "id": "861d39dc",
   "metadata": {},
   "outputs": [],
   "source": []
  },
  {
   "cell_type": "code",
   "execution_count": null,
   "id": "f01c79ea",
   "metadata": {},
   "outputs": [],
   "source": [
    "# aaa = \n",
    "# bbb = "
   ]
  },
  {
   "cell_type": "code",
   "execution_count": 102,
   "id": "3d13852b",
   "metadata": {},
   "outputs": [
    {
     "name": "stdout",
     "output_type": "stream",
     "text": [
      "System 2 is moderately better than system 1\n",
      "System 1 is better on 30.0% of the time\n",
      "System 2 is better on 67.0% of the time\n"
     ]
    },
    {
     "data": {
      "image/png": "[encoded data removed]",
      "text/plain": [
       "<Figure size 432x288 with 1 Axes>"
      ]
     },
     "metadata": {
      "needs_background": "light"
     },
     "output_type": "display_data"
    }
   ],
   "source": [
    "system_compare_exp(aaa,bbb)"
   ]
  },
  {
   "cell_type": "code",
   "execution_count": null,
   "id": "7303ab24",
   "metadata": {},
   "outputs": [],
   "source": []
  },
  {
   "cell_type": "code",
   "execution_count": null,
   "id": "ab78eaac",
   "metadata": {},
   "outputs": [],
   "source": []
  },
  {
   "cell_type": "code",
   "execution_count": null,
   "id": "26d0277b",
   "metadata": {},
   "outputs": [],
   "source": []
  },
  {
   "cell_type": "code",
   "execution_count": null,
   "id": "9e871dfd",
   "metadata": {},
   "outputs": [],
   "source": []
  },
  {
   "cell_type": "code",
   "execution_count": null,
   "id": "266fb590",
   "metadata": {},
   "outputs": [],
   "source": []
  },
  {
   "cell_type": "code",
   "execution_count": null,
   "id": "10fcc3e0",
   "metadata": {},
   "outputs": [],
   "source": []
  },
  {
   "cell_type": "code",
   "execution_count": null,
   "id": "053bb063",
   "metadata": {},
   "outputs": [],
   "source": []
  },
  {
   "cell_type": "code",
   "execution_count": null,
   "id": "92d64d2a",
   "metadata": {},
   "outputs": [],
   "source": []
  },
  {
   "cell_type": "code",
   "execution_count": null,
   "id": "6aef8cc3",
   "metadata": {},
   "outputs": [],
   "source": []
  },
  {
   "cell_type": "code",
   "execution_count": null,
   "id": "3db030da",
   "metadata": {},
   "outputs": [],
   "source": []
  }
 ],
 "metadata": {
  "kernelspec": {
   "display_name": "Python 3",
   "language": "python",
   "name": "python3"
  },
  "language_info": {
   "codemirror_mode": {
    "name": "ipython",
    "version": 3
   },
   "file_extension": ".py",
   "mimetype": "text/x-python",
   "name": "python",
   "nbconvert_exporter": "python",
   "pygments_lexer": "ipython3",
   "version": "3.8.8"
  }
 },
 "nbformat": 4,
 "nbformat_minor": 5
}
