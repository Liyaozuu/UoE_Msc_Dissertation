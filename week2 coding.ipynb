{
 "cells": [
  {
   "cell_type": "code",
   "execution_count": 2,
   "id": "614f30c7",
   "metadata": {},
   "outputs": [],
   "source": [
    "import numpy as np\n",
    "import pandas as pd\n",
    "import random\n",
    "import math\n",
    "import matplotlib as plt\n",
    "import itertools"
   ]
  },
  {
   "cell_type": "code",
   "execution_count": null,
   "id": "0776ebdf",
   "metadata": {},
   "outputs": [],
   "source": []
  },
  {
   "cell_type": "code",
   "execution_count": 124,
   "id": "e5d1b522",
   "metadata": {},
   "outputs": [],
   "source": [
    "def mmn_queueing_jsq(n,arrival_rate,service_rate,simulation_time=60,simuseed=math.nan):\n",
    "    '''\n",
    "    Simulating the mmn queueing system using the method of JSQ \n",
    "    (namely join the shortest queue method), the user needs to provide\n",
    "    the number of servers (n),arrival rate (lambda) and service rate (mu),\n",
    "    in case of n >= 2, if mu is provided as a scaler, then all servers\n",
    "    share the same mu, if mu is provided as a vector, then all servers may have different mu,\n",
    "    the simulation time is by default 60 units, and for reproducibility purposes, the user\n",
    "    can define simulation seed, by default the seed value is not set.\n",
    "    \n",
    "    n:               the number of servers, a positive finite integer\n",
    "    arrival_rate:    exponential rate of arrival\n",
    "    service_rate:    exponential rate of service time\n",
    "    simulation_time: the simulation time, a positive finite number\n",
    "    simuseed:        the simulation seed number\n",
    "    \n",
    "    The output will xxx\n",
    "    '''\n",
    "    \n",
    "    if math.isnan(simuseed) == True:\n",
    "        pass\n",
    "    else:\n",
    "        random.seed(simuseed)\n",
    "\n",
    "    if not type(n) is int:\n",
    "        raise TypeError(\"n needs to be integer\")\n",
    "    if n < 0:\n",
    "        raise Exception(\"n needs to be positive\")\n",
    "    \n",
    "    lamb =  arrival_rate\n",
    "    \n",
    "    if isinstance(service_rate, list):\n",
    "        if len(service_rate) == n:\n",
    "            mu = service_rate\n",
    "        elif (n > 1 and len(service_rate) == 1):\n",
    "            mu = n*service_rate\n",
    "        else:\n",
    "            raise Exception(\"Unmatched cardinality for service rate and n\")\n",
    "    elif isinstance(service_rate, int):\n",
    "        if n == 1:\n",
    "            mu = [service_rate]\n",
    "        elif n > 1:\n",
    "            mu = n*[service_rate]\n",
    "    else:\n",
    "        raise Exception(\"Please use int or list type for service rate\")\n",
    "    \n",
    "    \n",
    "    # Simulating the event calendar\n",
    "    table_col = np.arange(n)*4+3\n",
    "    avail_col = np.arange(n)*4+4\n",
    "    queue_col = np.arange(n)*4+5\n",
    "    total_col = np.arange(n)*4+6\n",
    "    compare_col = np.insert(avail_col,0,[1,2])\n",
    "    \n",
    "    event_calendar = np.zeros([2,3+4*n])\n",
    "    event_calendar[-1,1] = random.expovariate(lamb)\n",
    "    event_calendar[-1,2] = simulation_time\n",
    "    event_calendar[-1,avail_col] = math.nan\n",
    "    \n",
    "    while event_calendar[-1,0] < simulation_time:\n",
    "        event_calendar = np.vstack([event_calendar,event_calendar[-1,:]])\n",
    "        event_calendar[-1,0] = min(event_calendar[-2,compare_col])\n",
    "        \n",
    "        # If the next event is an arrival\n",
    "        if event_calendar[-1,0] == event_calendar[-2,1]:\n",
    "            event_calendar[-1,1] = event_calendar[-1,0]+random.expovariate(lamb)\n",
    "            server_assignment = random.choice(np.where(event_calendar[-1,total_col] == \\\n",
    "                                   min(event_calendar[-1,total_col]))[0])\n",
    "            \n",
    "            # If the server is not occupied\n",
    "            if event_calendar[-1,table_col[server_assignment]] == 0:\n",
    "                event_calendar[-1,table_col[server_assignment]] += 1\n",
    "                event_calendar[-1,avail_col[server_assignment]] = event_calendar[-1,0] + \\\n",
    "                                                        random.expovariate(mu[server_assignment])\n",
    "                event_calendar[-1,total_col[server_assignment]] += 1\n",
    "            \n",
    "            # Else if the server is occupied\n",
    "            elif event_calendar[-1,table_col[server_assignment]] == 1:\n",
    "                event_calendar[-1,queue_col[server_assignment]] += 1\n",
    "                event_calendar[-1,total_col[server_assignment]] += 1\n",
    "            \n",
    "        # Else if the next event is the simulation termination\n",
    "        elif event_calendar[-1,0] == simulation_time:\n",
    "            pass\n",
    "        \n",
    "        # Else if the next event is a service completion\n",
    "        else:\n",
    "            server_completion = np.where(event_calendar[-2,avail_col] == event_calendar[-1,0])[0][0]\n",
    "            \n",
    "            # If there is no queue behind\n",
    "            if event_calendar[-1,queue_col[server_completion]] == 0:\n",
    "                event_calendar[-1,table_col[server_completion]] -= 1\n",
    "                event_calendar[-1,avail_col[server_completion]] = math.nan\n",
    "                event_calendar[-1,total_col[server_completion]] -= 1\n",
    "            \n",
    "            # Else if there is a queue behind\n",
    "            elif event_calendar[-1,queue_col[server_completion]] > 0:\n",
    "                event_calendar[-1,avail_col[server_completion]] = event_calendar[-1,0] + \\\n",
    "                                                        random.expovariate(mu[server_completion])\n",
    "                event_calendar[-1,queue_col[server_completion]] -= 1\n",
    "                event_calendar[-1,total_col[server_completion]] -= 1\n",
    "    \n",
    "    event_calendar = pd.DataFrame(event_calendar).tail(-1)\n",
    "    event_calendar.columns = ['Time','Next Customer','Finish Time'] + \\\n",
    "                    list(itertools.chain.from_iterable([[f\"Server{i}\", \\\n",
    "                    f\"Server{i} Available Time\",f\"Server{i} Queue\",f\"Server{i} Total\"] for i in range(1,n+1)]))\n",
    "    \n",
    "    # Concluding performance measures\n",
    "    #pm_drop_cols = np.concatenate([np.array([1,2]), avail_col], axis=0)\n",
    "    #pm = event_calendar.drop(event_calendar.iloc[:,pm_drop_cols], axis=1)\n",
    "    \n",
    "    # Calculate the utilization for each server\n",
    "    utiliz_time1 = event_calendar.iloc[:-1,0].to_numpy()\n",
    "    utiliz_time2 = event_calendar.iloc[1:,0].to_numpy()\n",
    "    utiliz_time3 = utiliz_time2 - utiliz_time1\n",
    "    utiliz_server = event_calendar.iloc[:-1,table_col].to_numpy()\n",
    "    utiliz_data = ((utiliz_time3 @ utiliz_server)/simulation_time).round(3)\n",
    "    utiliz = pd.DataFrame(utiliz_data).transpose()\n",
    "    utiliz.columns = [f\"Server{i} Utilization\" for i in range(1,n+1)]\n",
    "    \n",
    "    return utiliz\n"
   ]
  },
  {
   "cell_type": "code",
   "execution_count": null,
   "id": "8ad00186",
   "metadata": {},
   "outputs": [],
   "source": []
  },
  {
   "cell_type": "code",
   "execution_count": null,
   "id": "422153f9",
   "metadata": {},
   "outputs": [],
   "source": []
  },
  {
   "cell_type": "code",
   "execution_count": null,
   "id": "3e4bb144",
   "metadata": {},
   "outputs": [],
   "source": []
  },
  {
   "cell_type": "code",
   "execution_count": 84,
   "id": "d6149fec",
   "metadata": {},
   "outputs": [
    {
     "data": {
      "text/plain": [
       "1.3139448286660824"
      ]
     },
     "execution_count": 84,
     "metadata": {},
     "output_type": "execute_result"
    }
   ],
   "source": [
    "sum(ayy[\"Server1\"]*att)"
   ]
  },
  {
   "cell_type": "code",
   "execution_count": null,
   "id": "6adfb5dd",
   "metadata": {},
   "outputs": [],
   "source": []
  },
  {
   "cell_type": "code",
   "execution_count": null,
   "id": "c6a09649",
   "metadata": {},
   "outputs": [],
   "source": []
  },
  {
   "cell_type": "code",
   "execution_count": 113,
   "id": "75b59066",
   "metadata": {},
   "outputs": [
    {
     "data": {
      "text/plain": [
       "0.262788966"
      ]
     },
     "execution_count": 113,
     "metadata": {},
     "output_type": "execute_result"
    }
   ],
   "source": [
    "1.31394483/5"
   ]
  },
  {
   "cell_type": "code",
   "execution_count": 114,
   "id": "9acca94c",
   "metadata": {},
   "outputs": [
    {
     "data": {
      "text/plain": [
       "0.223328654"
      ]
     },
     "execution_count": 114,
     "metadata": {},
     "output_type": "execute_result"
    }
   ],
   "source": [
    "1.11664327/5"
   ]
  },
  {
   "cell_type": "code",
   "execution_count": 111,
   "id": "52576355",
   "metadata": {},
   "outputs": [
    {
     "data": {
      "text/plain": [
       "array([1.31394483, 1.11664327])"
      ]
     },
     "execution_count": 111,
     "metadata": {},
     "output_type": "execute_result"
    }
   ],
   "source": [
    "mmn_queueing_jsq(2,10,[19,26],simulation_time=5,simuseed=8)"
   ]
  },
  {
   "cell_type": "code",
   "execution_count": 116,
   "id": "fb1cbaab",
   "metadata": {},
   "outputs": [
    {
     "data": {
      "text/plain": [
       "array([0.26278897, 0.22332865])"
      ]
     },
     "execution_count": 116,
     "metadata": {},
     "output_type": "execute_result"
    }
   ],
   "source": [
    "mmn_queueing_jsq(2,10,[19,26],simulation_time=5,simuseed=8)"
   ]
  },
  {
   "cell_type": "code",
   "execution_count": 126,
   "id": "387a294a",
   "metadata": {},
   "outputs": [
    {
     "data": {
      "text/html": [
       "<div>\n",
       "<style scoped>\n",
       "    .dataframe tbody tr th:only-of-type {\n",
       "        vertical-align: middle;\n",
       "    }\n",
       "\n",
       "    .dataframe tbody tr th {\n",
       "        vertical-align: top;\n",
       "    }\n",
       "\n",
       "    .dataframe thead th {\n",
       "        text-align: right;\n",
       "    }\n",
       "</style>\n",
       "<table border=\"1\" class=\"dataframe\">\n",
       "  <thead>\n",
       "    <tr style=\"text-align: right;\">\n",
       "      <th></th>\n",
       "      <th>Server1 Utilization</th>\n",
       "      <th>Server2 Utilization</th>\n",
       "      <th>Server3 Utilization</th>\n",
       "      <th>Server4 Utilization</th>\n",
       "    </tr>\n",
       "  </thead>\n",
       "  <tbody>\n",
       "    <tr>\n",
       "      <th>0</th>\n",
       "      <td>0.999</td>\n",
       "      <td>0.998</td>\n",
       "      <td>0.997</td>\n",
       "      <td>0.997</td>\n",
       "    </tr>\n",
       "  </tbody>\n",
       "</table>\n",
       "</div>"
      ],
      "text/plain": [
       "   Server1 Utilization  Server2 Utilization  Server3 Utilization  \\\n",
       "0                0.999                0.998                0.997   \n",
       "\n",
       "   Server4 Utilization  \n",
       "0                0.997  "
      ]
     },
     "execution_count": 126,
     "metadata": {},
     "output_type": "execute_result"
    }
   ],
   "source": [
    "mmn_queueing_jsq(4,60,[3,10,19,5],simulation_time=70,simuseed=8)"
   ]
  },
  {
   "cell_type": "code",
   "execution_count": null,
   "id": "1253bb3b",
   "metadata": {},
   "outputs": [],
   "source": []
  },
  {
   "cell_type": "code",
   "execution_count": null,
   "id": "c4266066",
   "metadata": {},
   "outputs": [],
   "source": []
  },
  {
   "cell_type": "code",
   "execution_count": null,
   "id": "0966588b",
   "metadata": {},
   "outputs": [],
   "source": []
  },
  {
   "cell_type": "code",
   "execution_count": null,
   "id": "513ef5b5",
   "metadata": {},
   "outputs": [],
   "source": []
  },
  {
   "cell_type": "code",
   "execution_count": null,
   "id": "4a646d8b",
   "metadata": {},
   "outputs": [],
   "source": []
  },
  {
   "cell_type": "code",
   "execution_count": null,
   "id": "4c3af556",
   "metadata": {},
   "outputs": [],
   "source": []
  },
  {
   "cell_type": "code",
   "execution_count": null,
   "id": "0e2a587b",
   "metadata": {},
   "outputs": [],
   "source": []
  },
  {
   "cell_type": "code",
   "execution_count": null,
   "id": "c4ec59d5",
   "metadata": {},
   "outputs": [],
   "source": []
  },
  {
   "cell_type": "code",
   "execution_count": 27,
   "id": "83ff8612",
   "metadata": {},
   "outputs": [
    {
     "data": {
      "text/html": [
       "<div>\n",
       "<style scoped>\n",
       "    .dataframe tbody tr th:only-of-type {\n",
       "        vertical-align: middle;\n",
       "    }\n",
       "\n",
       "    .dataframe tbody tr th {\n",
       "        vertical-align: top;\n",
       "    }\n",
       "\n",
       "    .dataframe thead th {\n",
       "        text-align: right;\n",
       "    }\n",
       "</style>\n",
       "<table border=\"1\" class=\"dataframe\">\n",
       "  <thead>\n",
       "    <tr style=\"text-align: right;\">\n",
       "      <th></th>\n",
       "      <th>Time</th>\n",
       "      <th>Server1</th>\n",
       "      <th>Server1 Queue</th>\n",
       "      <th>Server2</th>\n",
       "      <th>Server2 Queue</th>\n",
       "    </tr>\n",
       "  </thead>\n",
       "  <tbody>\n",
       "    <tr>\n",
       "      <th>1</th>\n",
       "      <td>0.000000</td>\n",
       "      <td>0.0</td>\n",
       "      <td>0.0</td>\n",
       "      <td>0.0</td>\n",
       "      <td>0.0</td>\n",
       "    </tr>\n",
       "    <tr>\n",
       "      <th>2</th>\n",
       "      <td>0.025710</td>\n",
       "      <td>1.0</td>\n",
       "      <td>0.0</td>\n",
       "      <td>0.0</td>\n",
       "      <td>0.0</td>\n",
       "    </tr>\n",
       "    <tr>\n",
       "      <th>3</th>\n",
       "      <td>0.037003</td>\n",
       "      <td>0.0</td>\n",
       "      <td>0.0</td>\n",
       "      <td>0.0</td>\n",
       "      <td>0.0</td>\n",
       "    </tr>\n",
       "    <tr>\n",
       "      <th>4</th>\n",
       "      <td>0.353506</td>\n",
       "      <td>1.0</td>\n",
       "      <td>0.0</td>\n",
       "      <td>0.0</td>\n",
       "      <td>0.0</td>\n",
       "    </tr>\n",
       "    <tr>\n",
       "      <th>5</th>\n",
       "      <td>0.357982</td>\n",
       "      <td>1.0</td>\n",
       "      <td>0.0</td>\n",
       "      <td>1.0</td>\n",
       "      <td>0.0</td>\n",
       "    </tr>\n",
       "    <tr>\n",
       "      <th>...</th>\n",
       "      <td>...</td>\n",
       "      <td>...</td>\n",
       "      <td>...</td>\n",
       "      <td>...</td>\n",
       "      <td>...</td>\n",
       "    </tr>\n",
       "    <tr>\n",
       "      <th>100</th>\n",
       "      <td>4.824693</td>\n",
       "      <td>1.0</td>\n",
       "      <td>0.0</td>\n",
       "      <td>0.0</td>\n",
       "      <td>0.0</td>\n",
       "    </tr>\n",
       "    <tr>\n",
       "      <th>101</th>\n",
       "      <td>4.825154</td>\n",
       "      <td>1.0</td>\n",
       "      <td>0.0</td>\n",
       "      <td>1.0</td>\n",
       "      <td>0.0</td>\n",
       "    </tr>\n",
       "    <tr>\n",
       "      <th>102</th>\n",
       "      <td>4.880737</td>\n",
       "      <td>0.0</td>\n",
       "      <td>0.0</td>\n",
       "      <td>1.0</td>\n",
       "      <td>0.0</td>\n",
       "    </tr>\n",
       "    <tr>\n",
       "      <th>103</th>\n",
       "      <td>4.973112</td>\n",
       "      <td>0.0</td>\n",
       "      <td>0.0</td>\n",
       "      <td>0.0</td>\n",
       "      <td>0.0</td>\n",
       "    </tr>\n",
       "    <tr>\n",
       "      <th>104</th>\n",
       "      <td>5.000000</td>\n",
       "      <td>0.0</td>\n",
       "      <td>0.0</td>\n",
       "      <td>0.0</td>\n",
       "      <td>0.0</td>\n",
       "    </tr>\n",
       "  </tbody>\n",
       "</table>\n",
       "<p>104 rows × 5 columns</p>\n",
       "</div>"
      ],
      "text/plain": [
       "         Time  Server1  Server1 Queue  Server2  Server2 Queue\n",
       "1    0.000000      0.0            0.0      0.0            0.0\n",
       "2    0.025710      1.0            0.0      0.0            0.0\n",
       "3    0.037003      0.0            0.0      0.0            0.0\n",
       "4    0.353506      1.0            0.0      0.0            0.0\n",
       "5    0.357982      1.0            0.0      1.0            0.0\n",
       "..        ...      ...            ...      ...            ...\n",
       "100  4.824693      1.0            0.0      0.0            0.0\n",
       "101  4.825154      1.0            0.0      1.0            0.0\n",
       "102  4.880737      0.0            0.0      1.0            0.0\n",
       "103  4.973112      0.0            0.0      0.0            0.0\n",
       "104  5.000000      0.0            0.0      0.0            0.0\n",
       "\n",
       "[104 rows x 5 columns]"
      ]
     },
     "execution_count": 27,
     "metadata": {},
     "output_type": "execute_result"
    }
   ],
   "source": [
    "ahgb = mmn_queueing_jsq(2,10,[19,26],simulation_time=5,simuseed=8)\n",
    "ahgb"
   ]
  },
  {
   "cell_type": "code",
   "execution_count": 24,
   "id": "a0f52f7f",
   "metadata": {},
   "outputs": [],
   "source": [
    "ahgb[\"sbd\"] = 1"
   ]
  },
  {
   "cell_type": "code",
   "execution_count": null,
   "id": "0ac7a831",
   "metadata": {},
   "outputs": [],
   "source": []
  },
  {
   "cell_type": "code",
   "execution_count": null,
   "id": "22bd6a30",
   "metadata": {},
   "outputs": [],
   "source": []
  },
  {
   "cell_type": "code",
   "execution_count": 172,
   "id": "c8bf30c1",
   "metadata": {},
   "outputs": [
    {
     "data": {
      "text/plain": [
       "array([ 4, 12])"
      ]
     },
     "execution_count": 172,
     "metadata": {},
     "output_type": "execute_result"
    }
   ],
   "source": [
    "np.array([3,2]) + np.array([1,10])"
   ]
  },
  {
   "cell_type": "code",
   "execution_count": 34,
   "id": "12bc61f3",
   "metadata": {},
   "outputs": [
    {
     "data": {
      "text/plain": [
       "array([ 1,  2,  4,  8, 12])"
      ]
     },
     "execution_count": 34,
     "metadata": {},
     "output_type": "execute_result"
    }
   ],
   "source": [
    "np.insert(np.arange(3)*4+4,0,[1,2])"
   ]
  },
  {
   "cell_type": "code",
   "execution_count": null,
   "id": "1c1459ce",
   "metadata": {},
   "outputs": [],
   "source": []
  },
  {
   "cell_type": "code",
   "execution_count": null,
   "id": "18dba4b2",
   "metadata": {},
   "outputs": [],
   "source": []
  },
  {
   "cell_type": "code",
   "execution_count": null,
   "id": "3eac70b0",
   "metadata": {},
   "outputs": [],
   "source": []
  },
  {
   "cell_type": "code",
   "execution_count": null,
   "id": "3a36c123",
   "metadata": {},
   "outputs": [],
   "source": []
  }
 ],
 "metadata": {
  "kernelspec": {
   "display_name": "Python 3",
   "language": "python",
   "name": "python3"
  },
  "language_info": {
   "codemirror_mode": {
    "name": "ipython",
    "version": 3
   },
   "file_extension": ".py",
   "mimetype": "text/x-python",
   "name": "python",
   "nbconvert_exporter": "python",
   "pygments_lexer": "ipython3",
   "version": "3.8.8"
  }
 },
 "nbformat": 4,
 "nbformat_minor": 5
}
