{
 "cells": [
  {
   "cell_type": "code",
   "execution_count": null,
   "id": "445b4945",
   "metadata": {},
   "outputs": [],
   "source": [
    "import numpy as np\n",
    "import pandas as pd\n",
    "import random\n",
    "import math\n",
    "import statistics as stat\n",
    "import matplotlib.pyplot as plt\n",
    "import itertools\n",
    "import warnings\n",
    "from simul_file import mmn_queueing_jsq, queue_length_time_graph, \\\n",
    "                        mmn_queueing_redundancy_dos, mmn_queueing_redundancy_doc, \\\n",
    "                        mmn_queueing_redundancy_dos_identical, \\\n",
    "                        mmn_queueing_redundancy_doc_identical, \\\n",
    "                        mmn_queueing_redundancy_dos_weibull, \\\n",
    "                        mmn_queueing_redundancy_doc_weibull,\\\n",
    "                        mmn_queueing_jsq_weibull, weibull_scale_calculator, \\\n",
    "                        system_compare_exp"
   ]
  },
  {
   "cell_type": "code",
   "execution_count": null,
   "id": "846223fd",
   "metadata": {},
   "outputs": [],
   "source": [
    "mmn_queueing_jsq(n,arrival_rate,service_rate,simulation_time=60,simuseed=math.nan,policy=\"jsq1\")\n",
    "queue_length_time_graph(event_calendar,other_stat,gtype=\"queue\",sq_no=math.nan)\n",
    "mmn_queueing_redundancy_dos(n,d,arrival_rate,service_rate,simulation_time=60,simuseed=math.nan)\n",
    "mmn_queueing_redundancy_doc(n,d,arrival_rate,service_rate,simulation_time=60,simuseed=math.nan)\n",
    "mmn_queueing_redundancy_dos_identical(n,d,arrival_rate,service_rate,simulation_time=60,simuseed=math.nan)\n",
    "mmn_queueing_redundancy_doc_identical(n,d,arrival_rate,service_rate,simulation_time=60,simuseed=math.nan)\n",
    "mmn_queueing_redundancy_dos_weibull(n,d,arrival_rate,scale,shape,simulation_time=60,simuseed=math.nan)\n",
    "mmn_queueing_redundancy_doc_weibull(n,d,arrival_rate,scale,shape,simulation_time=60,simuseed=math.nan)\n",
    "mmn_queueing_jsq_weibull(n,arrival_rate,scale,shape,simulation_time=60,simuseed=math.nan)\n",
    "weibull_scale_calculator(desired_mean,shape)\n",
    "system_compare_exp(system1,system2)"
   ]
  },
  {
   "cell_type": "code",
   "execution_count": null,
   "id": "747ceff5",
   "metadata": {},
   "outputs": [],
   "source": [
    "aaa = mmn_queueing_jsq(5,14,[3,1,4,2,5],simulation_time=1000,simuseed=8,policy=\"jsq1\")\n",
    "bbb = mmn_queueing_redundancy_dos(5,3,14,[3,1,4,2,5],simulation_time=1000,simuseed=8)\n",
    "ccc = mmn_queueing_redundancy_doc(5,3,14,[3,1,4,2,5],simulation_time=1000,simuseed=8)"
   ]
  },
  {
   "cell_type": "code",
   "execution_count": null,
   "id": "4dbdcc51",
   "metadata": {},
   "outputs": [],
   "source": []
  },
  {
   "cell_type": "code",
   "execution_count": null,
   "id": "379fe845",
   "metadata": {},
   "outputs": [],
   "source": []
  },
  {
   "cell_type": "code",
   "execution_count": null,
   "id": "cdb04fa8",
   "metadata": {},
   "outputs": [],
   "source": []
  },
  {
   "cell_type": "code",
   "execution_count": null,
   "id": "a0b1122d",
   "metadata": {},
   "outputs": [],
   "source": []
  },
  {
   "cell_type": "code",
   "execution_count": null,
   "id": "8c7f9bf7",
   "metadata": {},
   "outputs": [],
   "source": []
  },
  {
   "cell_type": "code",
   "execution_count": null,
   "id": "0f8eaee8",
   "metadata": {},
   "outputs": [],
   "source": []
  }
 ],
 "metadata": {
  "kernelspec": {
   "display_name": "Python 3",
   "language": "python",
   "name": "python3"
  },
  "language_info": {
   "codemirror_mode": {
    "name": "ipython",
    "version": 3
   },
   "file_extension": ".py",
   "mimetype": "text/x-python",
   "name": "python",
   "nbconvert_exporter": "python",
   "pygments_lexer": "ipython3",
   "version": "3.8.8"
  }
 },
 "nbformat": 4,
 "nbformat_minor": 5
}
