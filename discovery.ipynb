{
 "cells": [
  {
   "cell_type": "code",
   "execution_count": 165,
   "id": "b133326c",
   "metadata": {},
   "outputs": [],
   "source": [
    "import numpy as np\n",
    "import pandas as pd\n",
    "import random\n",
    "import math\n",
    "import statistics as stat\n",
    "import matplotlib.pyplot as plt\n",
    "from scipy import stats\n",
    "import itertools\n",
    "import warnings\n",
    "warnings.simplefilter(action='ignore', category=FutureWarning)\n",
    "import bisect\n",
    "from simul_file import mmn_queueing_jsq, queue_length_time_graph, \\\n",
    "                        mmn_queueing_redundancy_dos, mmn_queueing_redundancy_doc, \\\n",
    "                        mmn_queueing_redundancy_dos_identical, \\\n",
    "                        mmn_queueing_redundancy_doc_identical, \\\n",
    "                        mmn_queueing_redundancy_dos_weibull, \\\n",
    "                        mmn_queueing_redundancy_doc_weibull,\\\n",
    "                        mmn_queueing_jsq_weibull, weibull_scale_calculator, \\\n",
    "                        system_compare\n",
    "data1 = pd.read_excel(\"result_data.xlsx\",sheet_name=\"simutime\")\n",
    "data2 = pd.read_excel(\"result_data.xlsx\",sheet_name=\"homo\")\n",
    "data3 = pd.read_excel(\"result_data.xlsx\",sheet_name=\"heter\")"
   ]
  },
  {
   "cell_type": "code",
   "execution_count": null,
   "id": "dc2a4484",
   "metadata": {},
   "outputs": [],
   "source": [
    "mmn_queueing_jsq(n,arrival_rate,service_rate,simulation_time=60,simuseed=math.nan,policy=\"jsq1\")\n",
    "queue_length_time_graph(event_calendar,other_stat,gtype=\"queue\",sq_no=math.nan)\n",
    "mmn_queueing_redundancy_dos(n,d,arrival_rate,service_rate,simulation_time=60,simuseed=math.nan)\n",
    "mmn_queueing_redundancy_doc(n,d,arrival_rate,service_rate,simulation_time=60,simuseed=math.nan)\n",
    "mmn_queueing_redundancy_dos_identical(n,d,arrival_rate,service_rate,simulation_time=60,simuseed=math.nan)\n",
    "mmn_queueing_redundancy_doc_identical(n,d,arrival_rate,service_rate,simulation_time=60,simuseed=math.nan)\n",
    "mmn_queueing_redundancy_dos_weibull(n,d,arrival_rate,scale,shape,simulation_time=60,simuseed=math.nan)\n",
    "mmn_queueing_redundancy_doc_weibull(n,d,arrival_rate,scale,shape,simulation_time=60,simuseed=math.nan)\n",
    "mmn_queueing_jsq_weibull(n,arrival_rate,scale,shape,simulation_time=60,simuseed=math.nan)\n",
    "weibull_scale_calculator(desired_mean,shape)\n",
    "system_compare(system1,system2)"
   ]
  },
  {
   "cell_type": "code",
   "execution_count": null,
   "id": "281afbc2",
   "metadata": {},
   "outputs": [],
   "source": []
  },
  {
   "cell_type": "code",
   "execution_count": null,
   "id": "499b749b",
   "metadata": {},
   "outputs": [],
   "source": []
  },
  {
   "cell_type": "code",
   "execution_count": 5,
   "id": "e641f75f",
   "metadata": {},
   "outputs": [],
   "source": [
    "aaa = mmn_queueing_jsq(4,8,2.2,simulation_time=3000,simuseed=8,policy=\"jsq1\")\n",
    "bbb = mmn_queueing_redundancy_dos(4,4,8,2.2,simulation_time=3000,simuseed=8)\n",
    "#ccc = mmn_queueing_redundancy_doc(4,4,8,2.2,simulation_time=1000,simuseed=8)"
   ]
  },
  {
   "cell_type": "code",
   "execution_count": null,
   "id": "761fa224",
   "metadata": {},
   "outputs": [],
   "source": []
  },
  {
   "cell_type": "code",
   "execution_count": 4,
   "id": "a0a2351a",
   "metadata": {},
   "outputs": [],
   "source": [
    "dm = 1/2.2\n",
    "shp = 1\n",
    "aaa = mmn_queueing_jsq_weibull(5,10,weibull_scale_calculator(dm,shp),2,simulation_time=1000,simuseed=8)"
   ]
  },
  {
   "cell_type": "code",
   "execution_count": 5,
   "id": "9a177a62",
   "metadata": {},
   "outputs": [],
   "source": [
    "dm = 1/2.2\n",
    "shp = 1\n",
    "bbb = mmn_queueing_redundancy_dos_weibull(5,5,10,weibull_scale_calculator(dm,shp),\\\n",
    "                                          shp,simulation_time=1000,simuseed=8)\n",
    "ccc = mmn_queueing_redundancy_doc_weibull(5,5,10,weibull_scale_calculator(dm,shp),\\\n",
    "                                          shp,simulation_time=1000,simuseed=8)"
   ]
  },
  {
   "cell_type": "code",
   "execution_count": null,
   "id": "0d66b454",
   "metadata": {},
   "outputs": [],
   "source": [
    "system_compare(aaa,bbb)"
   ]
  },
  {
   "cell_type": "code",
   "execution_count": null,
   "id": "604d1bc3",
   "metadata": {},
   "outputs": [],
   "source": []
  },
  {
   "cell_type": "code",
   "execution_count": null,
   "id": "e7b7447e",
   "metadata": {},
   "outputs": [],
   "source": []
  },
  {
   "cell_type": "code",
   "execution_count": null,
   "id": "dd786ea7",
   "metadata": {},
   "outputs": [],
   "source": []
  },
  {
   "cell_type": "code",
   "execution_count": null,
   "id": "c47600e8",
   "metadata": {},
   "outputs": [],
   "source": []
  },
  {
   "cell_type": "code",
   "execution_count": null,
   "id": "0b1cdbdc",
   "metadata": {},
   "outputs": [],
   "source": [
    "lb = 3\n",
    "ub = 14\n",
    "\n",
    "sys1 = np.array([])\n",
    "sys2 = np.array([])\n",
    "sys3 = np.array([])\n",
    "for i in range(lb,ub):\n",
    "    sys1 = np.append(sys1,mmn_queueing_jsq(5,i,[3,1,4,2,5],simulation_time=300,simuseed=66,policy=\"jsq1\")[5]['Grand Average cycle time'][0])\n",
    "    sys2 = np.append(sys2,mmn_queueing_redundancy_dos(5,5,i,[3,1,4,2,5],simulation_time=300,simuseed=66)[5]['Grand Average cycle time'][0])\n",
    "    sys3 = np.append(sys3,mmn_queueing_redundancy_doc(5,5,i,[3,1,4,2,5],simulation_time=300,simuseed=66)[5]['Grand Average cycle time'][0])\n",
    "\n",
    "\n",
    "plt.plot(np.arange(lb,ub),sys1,label='system1')\n",
    "plt.plot(np.arange(lb,ub),sys2,label='system2')\n",
    "plt.plot(np.arange(lb,ub),sys3,label='system3')\n",
    "plt.title('Comparison of three systems')\n",
    "plt.xlabel('Arrival rate')\n",
    "plt.ylabel('ACT')\n",
    "plt.legend()"
   ]
  },
  {
   "cell_type": "code",
   "execution_count": null,
   "id": "fb7cb249",
   "metadata": {},
   "outputs": [],
   "source": []
  },
  {
   "cell_type": "code",
   "execution_count": null,
   "id": "91704607",
   "metadata": {},
   "outputs": [],
   "source": []
  },
  {
   "cell_type": "code",
   "execution_count": null,
   "id": "e6c14da1",
   "metadata": {},
   "outputs": [],
   "source": []
  },
  {
   "cell_type": "code",
   "execution_count": 36,
   "id": "2b0f7fa8",
   "metadata": {},
   "outputs": [],
   "source": [
    "aaa = mmn_queueing_jsq(5,14,[3,1,4,2,5],simulation_time=1000,simuseed=66,policy=\"jsq1\")"
   ]
  },
  {
   "cell_type": "code",
   "execution_count": 42,
   "id": "f23d0ecd",
   "metadata": {},
   "outputs": [],
   "source": [
    "bbb = mmn_queueing_jsq(5,15.01,[3,1,4,2,5],simulation_time=1000,simuseed=88,policy=\"jsq1\")"
   ]
  },
  {
   "cell_type": "code",
   "execution_count": null,
   "id": "a90502f3",
   "metadata": {},
   "outputs": [],
   "source": [
    "a0pos = aaa[0]['Time'].to_numpy()[np.where(aaa[0]['Server1 Queue']==0)[0]]\n",
    "b0pos = bbb[0]['Time'].to_numpy()[np.where(bbb[0]['Server1 Queue']==0)[0]]\n",
    "data = [a0pos, b0pos]\n",
    "fig, ax = plt.subplots()\n",
    "ax.boxplot(data,vert=False)\n",
    "ax.set_yticklabels(['Stable system', 'Unstable system'])\n",
    "ax.set_xlabel('Simulation Time')\n",
    "ax.set_title('boxplot example')\n",
    "plt.show()"
   ]
  },
  {
   "cell_type": "code",
   "execution_count": null,
   "id": "57b3d7ba",
   "metadata": {},
   "outputs": [],
   "source": []
  },
  {
   "cell_type": "code",
   "execution_count": null,
   "id": "96c38b6a",
   "metadata": {},
   "outputs": [],
   "source": []
  },
  {
   "cell_type": "code",
   "execution_count": null,
   "id": "e55203ab",
   "metadata": {},
   "outputs": [],
   "source": []
  },
  {
   "cell_type": "code",
   "execution_count": null,
   "id": "68348612",
   "metadata": {},
   "outputs": [],
   "source": []
  },
  {
   "cell_type": "markdown",
   "id": "862070e3",
   "metadata": {},
   "source": [
    "How long is long?"
   ]
  },
  {
   "cell_type": "code",
   "execution_count": 395,
   "id": "d75ad534",
   "metadata": {
    "scrolled": true
   },
   "outputs": [],
   "source": [
    "s1d = 39\n",
    "aaa = mmn_queueing_jsq(4,8,2.2,simulation_time=2000,policy=\"jsq1\")\n",
    "#bbb = mmn_queueing_redundancy_dos(4,4,8,2.2,simulation_time=6000,simuseed=s1d)\n",
    "ccc = mmn_queueing_redundancy_doc(4,4,8,2.2,simulation_time=2000,simuseed=s1d)"
   ]
  },
  {
   "cell_type": "code",
   "execution_count": null,
   "id": "941e53b5",
   "metadata": {
    "scrolled": false
   },
   "outputs": [],
   "source": [
    "system_compare(aaa,ccc)"
   ]
  },
  {
   "cell_type": "code",
   "execution_count": null,
   "id": "b3569b33",
   "metadata": {
    "scrolled": true
   },
   "outputs": [],
   "source": [
    "aaa[8][aaa[8]['Finish']<2000]"
   ]
  },
  {
   "cell_type": "code",
   "execution_count": null,
   "id": "049a53ef",
   "metadata": {
    "scrolled": true
   },
   "outputs": [],
   "source": [
    "aaa[8]"
   ]
  },
  {
   "cell_type": "code",
   "execution_count": 168,
   "id": "31e8807e",
   "metadata": {},
   "outputs": [
    {
     "data": {
      "text/plain": [
       "Ttest_relResult(statistic=0.6235277145514919, pvalue=0.53656774714141)"
      ]
     },
     "execution_count": 168,
     "metadata": {},
     "output_type": "execute_result"
    }
   ],
   "source": [
    "stats.ttest_rel(data1['homo_jsq1_2000'], data1['homo_jsq1_4000'])"
   ]
  },
  {
   "cell_type": "code",
   "execution_count": 391,
   "id": "ff8e309c",
   "metadata": {},
   "outputs": [],
   "source": [
    "def yyy(system1):\n",
    "    \n",
    "    bbb = system1[0].iloc[np.where(system1[0][\"Time\"][1:].to_numpy() != system1[0][\"Next Customer\"][:-1].to_numpy())[0][:-1]+1,:]\n",
    "    sys1_timing = system1[8]\n",
    "    sys1_timing['act'] = sys1_timing['Finish'] - sys1_timing['Start']\n",
    "    sys1_timing['cma'] = sys1_timing['act'].expanding().mean()\n",
    "\n",
    "    plt.plot(bbb['Time'],sys1_timing['cma'],label='jsq1')\n",
    "    #plt.title('Warm up period')\n",
    "    plt.xlabel('Time')\n",
    "    plt.ylabel('ACT')\n",
    "    plt.legend()"
   ]
  },
  {
   "cell_type": "code",
   "execution_count": null,
   "id": "a680ff00",
   "metadata": {},
   "outputs": [],
   "source": [
    "yyy(aaa)"
   ]
  },
  {
   "cell_type": "code",
   "execution_count": null,
   "id": "14d48b4c",
   "metadata": {},
   "outputs": [],
   "source": []
  },
  {
   "cell_type": "code",
   "execution_count": null,
   "id": "9ea6ac9a",
   "metadata": {},
   "outputs": [],
   "source": []
  },
  {
   "cell_type": "code",
   "execution_count": 337,
   "id": "26cef425",
   "metadata": {},
   "outputs": [],
   "source": [
    "s1d = 30\n",
    "#aaa = mmn_queueing_jsq_weibull(4,8,weibull_scale_calculator(1/2.2,0.5),0.5,simulation_time=2000,simuseed=s1d)\n",
    "#bbb = mmn_queueing_redundancy_dos_weibull(4,4,8,weibull_scale_calculator(1/2.2,0.5),0.5,simulation_time=2000,simuseed=s1d)\n",
    "#ccc = mmn_queueing_redundancy_doc_weibull(4,4,8,weibull_scale_calculator(1/2.2,0.5),0.5,simulation_time=2000,simuseed=s1d)\n",
    "#ddd = mmn_queueing_jsq(4,8,2.2,simulation_time=4000,simuseed=s1d,policy='jiq1')\n",
    "#eee = mmn_queueing_jsq(4,8,2.2,simulation_time=4000,simuseed=s1d,policy='jsq1')\n",
    "fff = mmn_queueing_redundancy_doc(4,4,8,2.2,simulation_time=4000,simuseed=s1d)"
   ]
  },
  {
   "cell_type": "code",
   "execution_count": 338,
   "id": "195a1715",
   "metadata": {
    "scrolled": true
   },
   "outputs": [
    {
     "data": {
      "image/png": "[encoded data removed]",
      "text/plain": [
       "<Figure size 432x288 with 1 Axes>"
      ]
     },
     "metadata": {
      "needs_background": "light"
     },
     "output_type": "display_data"
    },
    {
     "data": {
      "image/png": "[encoded data removed]",
      "text/plain": [
       "<Figure size 432x288 with 1 Axes>"
      ]
     },
     "metadata": {
      "needs_background": "light"
     },
     "output_type": "display_data"
    }
   ],
   "source": [
    "system_compare(fff,eee)"
   ]
  },
  {
   "cell_type": "code",
   "execution_count": 339,
   "id": "c0d696ff",
   "metadata": {},
   "outputs": [
    {
     "data": {
      "text/html": [
       "<div>\n",
       "<style scoped>\n",
       "    .dataframe tbody tr th:only-of-type {\n",
       "        vertical-align: middle;\n",
       "    }\n",
       "\n",
       "    .dataframe tbody tr th {\n",
       "        vertical-align: top;\n",
       "    }\n",
       "\n",
       "    .dataframe thead th {\n",
       "        text-align: right;\n",
       "    }\n",
       "</style>\n",
       "<table border=\"1\" class=\"dataframe\">\n",
       "  <thead>\n",
       "    <tr style=\"text-align: right;\">\n",
       "      <th></th>\n",
       "      <th>Arrival_label</th>\n",
       "      <th>Start</th>\n",
       "      <th>Queue</th>\n",
       "      <th>Finish</th>\n",
       "      <th>Server</th>\n",
       "      <th>act</th>\n",
       "      <th>cma</th>\n",
       "    </tr>\n",
       "  </thead>\n",
       "  <tbody>\n",
       "    <tr>\n",
       "      <th>1</th>\n",
       "      <td>1.0</td>\n",
       "      <td>0.096817</td>\n",
       "      <td>0.096817</td>\n",
       "      <td>0.110679</td>\n",
       "      <td>1.0</td>\n",
       "      <td>0.013862</td>\n",
       "      <td>0.013862</td>\n",
       "    </tr>\n",
       "    <tr>\n",
       "      <th>2</th>\n",
       "      <td>2.0</td>\n",
       "      <td>0.139487</td>\n",
       "      <td>0.139487</td>\n",
       "      <td>0.420864</td>\n",
       "      <td>1.0</td>\n",
       "      <td>0.281377</td>\n",
       "      <td>0.147620</td>\n",
       "    </tr>\n",
       "    <tr>\n",
       "      <th>3</th>\n",
       "      <td>3.0</td>\n",
       "      <td>0.202758</td>\n",
       "      <td>0.420864</td>\n",
       "      <td>0.455145</td>\n",
       "      <td>4.0</td>\n",
       "      <td>0.252387</td>\n",
       "      <td>0.182542</td>\n",
       "    </tr>\n",
       "    <tr>\n",
       "      <th>4</th>\n",
       "      <td>4.0</td>\n",
       "      <td>0.815570</td>\n",
       "      <td>0.815570</td>\n",
       "      <td>1.163824</td>\n",
       "      <td>4.0</td>\n",
       "      <td>0.348254</td>\n",
       "      <td>0.223970</td>\n",
       "    </tr>\n",
       "    <tr>\n",
       "      <th>5</th>\n",
       "      <td>5.0</td>\n",
       "      <td>0.929967</td>\n",
       "      <td>1.163824</td>\n",
       "      <td>1.542874</td>\n",
       "      <td>3.0</td>\n",
       "      <td>0.612907</td>\n",
       "      <td>0.301757</td>\n",
       "    </tr>\n",
       "    <tr>\n",
       "      <th>...</th>\n",
       "      <td>...</td>\n",
       "      <td>...</td>\n",
       "      <td>...</td>\n",
       "      <td>...</td>\n",
       "      <td>...</td>\n",
       "      <td>...</td>\n",
       "      <td>...</td>\n",
       "    </tr>\n",
       "    <tr>\n",
       "      <th>32117</th>\n",
       "      <td>32117.0</td>\n",
       "      <td>3999.522024</td>\n",
       "      <td>3999.522024</td>\n",
       "      <td>3999.639887</td>\n",
       "      <td>4.0</td>\n",
       "      <td>0.117863</td>\n",
       "      <td>1.065992</td>\n",
       "    </tr>\n",
       "    <tr>\n",
       "      <th>32118</th>\n",
       "      <td>32118.0</td>\n",
       "      <td>3999.615514</td>\n",
       "      <td>3999.639887</td>\n",
       "      <td>3999.652463</td>\n",
       "      <td>2.0</td>\n",
       "      <td>0.036949</td>\n",
       "      <td>1.065960</td>\n",
       "    </tr>\n",
       "    <tr>\n",
       "      <th>32119</th>\n",
       "      <td>32119.0</td>\n",
       "      <td>3999.648344</td>\n",
       "      <td>3999.652463</td>\n",
       "      <td>3999.764030</td>\n",
       "      <td>4.0</td>\n",
       "      <td>0.115686</td>\n",
       "      <td>1.065931</td>\n",
       "    </tr>\n",
       "    <tr>\n",
       "      <th>32120</th>\n",
       "      <td>32120.0</td>\n",
       "      <td>3999.648896</td>\n",
       "      <td>3999.764030</td>\n",
       "      <td>3999.780383</td>\n",
       "      <td>3.0</td>\n",
       "      <td>0.131487</td>\n",
       "      <td>1.065902</td>\n",
       "    </tr>\n",
       "    <tr>\n",
       "      <th>32121</th>\n",
       "      <td>32121.0</td>\n",
       "      <td>3999.902982</td>\n",
       "      <td>3999.902982</td>\n",
       "      <td>3999.984475</td>\n",
       "      <td>3.0</td>\n",
       "      <td>0.081493</td>\n",
       "      <td>1.065871</td>\n",
       "    </tr>\n",
       "  </tbody>\n",
       "</table>\n",
       "<p>32121 rows × 7 columns</p>\n",
       "</div>"
      ],
      "text/plain": [
       "       Arrival_label        Start        Queue       Finish  Server       act  \\\n",
       "1                1.0     0.096817     0.096817     0.110679     1.0  0.013862   \n",
       "2                2.0     0.139487     0.139487     0.420864     1.0  0.281377   \n",
       "3                3.0     0.202758     0.420864     0.455145     4.0  0.252387   \n",
       "4                4.0     0.815570     0.815570     1.163824     4.0  0.348254   \n",
       "5                5.0     0.929967     1.163824     1.542874     3.0  0.612907   \n",
       "...              ...          ...          ...          ...     ...       ...   \n",
       "32117        32117.0  3999.522024  3999.522024  3999.639887     4.0  0.117863   \n",
       "32118        32118.0  3999.615514  3999.639887  3999.652463     2.0  0.036949   \n",
       "32119        32119.0  3999.648344  3999.652463  3999.764030     4.0  0.115686   \n",
       "32120        32120.0  3999.648896  3999.764030  3999.780383     3.0  0.131487   \n",
       "32121        32121.0  3999.902982  3999.902982  3999.984475     3.0  0.081493   \n",
       "\n",
       "            cma  \n",
       "1      0.013862  \n",
       "2      0.147620  \n",
       "3      0.182542  \n",
       "4      0.223970  \n",
       "5      0.301757  \n",
       "...         ...  \n",
       "32117  1.065992  \n",
       "32118  1.065960  \n",
       "32119  1.065931  \n",
       "32120  1.065902  \n",
       "32121  1.065871  \n",
       "\n",
       "[32121 rows x 7 columns]"
      ]
     },
     "execution_count": 339,
     "metadata": {},
     "output_type": "execute_result"
    }
   ],
   "source": [
    "fff[8]"
   ]
  },
  {
   "cell_type": "code",
   "execution_count": null,
   "id": "7f665630",
   "metadata": {},
   "outputs": [],
   "source": []
  },
  {
   "cell_type": "code",
   "execution_count": null,
   "id": "77dba1ad",
   "metadata": {},
   "outputs": [],
   "source": []
  },
  {
   "cell_type": "code",
   "execution_count": null,
   "id": "fba22bba",
   "metadata": {},
   "outputs": [],
   "source": []
  },
  {
   "cell_type": "code",
   "execution_count": 167,
   "id": "14ce31c1",
   "metadata": {},
   "outputs": [
    {
     "data": {
      "text/plain": [
       "Ttest_relResult(statistic=0.46367188623859523, pvalue=0.6454603855924186)"
      ]
     },
     "execution_count": 167,
     "metadata": {},
     "output_type": "execute_result"
    }
   ],
   "source": [
    "stats.ttest_rel(data1['homo_jiq_2000'], data1['homo_jiq_4000'])"
   ]
  },
  {
   "cell_type": "code",
   "execution_count": 173,
   "id": "230ddcf5",
   "metadata": {},
   "outputs": [
    {
     "data": {
      "text/plain": [
       "Ttest_relResult(statistic=0.6235277145514919, pvalue=0.53656774714141)"
      ]
     },
     "execution_count": 173,
     "metadata": {},
     "output_type": "execute_result"
    }
   ],
   "source": [
    "stats.ttest_rel(data1['homo_jswq_2000'], data1['homo_jswq_4000'])"
   ]
  },
  {
   "cell_type": "code",
   "execution_count": null,
   "id": "30984035",
   "metadata": {},
   "outputs": [],
   "source": []
  },
  {
   "cell_type": "code",
   "execution_count": null,
   "id": "d44c5f6f",
   "metadata": {},
   "outputs": [],
   "source": []
  },
  {
   "cell_type": "code",
   "execution_count": null,
   "id": "b18db4a2",
   "metadata": {},
   "outputs": [],
   "source": []
  },
  {
   "cell_type": "code",
   "execution_count": null,
   "id": "6363f05a",
   "metadata": {},
   "outputs": [],
   "source": []
  },
  {
   "cell_type": "code",
   "execution_count": null,
   "id": "30c973d1",
   "metadata": {},
   "outputs": [],
   "source": []
  },
  {
   "cell_type": "code",
   "execution_count": null,
   "id": "a8d088de",
   "metadata": {},
   "outputs": [],
   "source": []
  },
  {
   "cell_type": "markdown",
   "id": "94be413b",
   "metadata": {},
   "source": [
    "Stability Analysis"
   ]
  },
  {
   "cell_type": "code",
   "execution_count": null,
   "id": "a5c29545",
   "metadata": {},
   "outputs": [],
   "source": [
    "queue_length_time_graph(event_calendar,other_stat,gtype=\"queue\",sq_no=math.nan)"
   ]
  },
  {
   "cell_type": "code",
   "execution_count": null,
   "id": "e690fb0d",
   "metadata": {},
   "outputs": [],
   "source": []
  },
  {
   "cell_type": "code",
   "execution_count": null,
   "id": "92431194",
   "metadata": {},
   "outputs": [],
   "source": []
  },
  {
   "cell_type": "code",
   "execution_count": null,
   "id": "765e6668",
   "metadata": {},
   "outputs": [],
   "source": []
  },
  {
   "cell_type": "markdown",
   "id": "36c325e9",
   "metadata": {},
   "source": [
    "Homo"
   ]
  },
  {
   "cell_type": "code",
   "execution_count": 831,
   "id": "70d1c8ce",
   "metadata": {},
   "outputs": [],
   "source": [
    "s1d = 13\n",
    "#aaa = mmn_queueing_jsq_weibull(4,8,weibull_scale_calculator(1/2.2,0.5),0.5,simulation_time=2000,simuseed=s1d)\n",
    "#bbb = mmn_queueing_redundancy_dos_weibull(4,4,8,weibull_scale_calculator(1/2.2,0.5),0.5,simulation_time=2000,simuseed=s1d)\n",
    "ccc = mmn_queueing_redundancy_doc_weibull(4,4,8,weibull_scale_calculator(1/2.2,0.5),0.5,simulation_time=2000,simuseed=s1d)"
   ]
  },
  {
   "cell_type": "code",
   "execution_count": null,
   "id": "bfd405b6",
   "metadata": {
    "scrolled": true
   },
   "outputs": [],
   "source": [
    "system_compare(ccc,ddd)"
   ]
  },
  {
   "cell_type": "code",
   "execution_count": null,
   "id": "f4ee3109",
   "metadata": {},
   "outputs": [],
   "source": [
    "ccc[8]"
   ]
  },
  {
   "cell_type": "code",
   "execution_count": null,
   "id": "faf0312e",
   "metadata": {},
   "outputs": [],
   "source": []
  },
  {
   "cell_type": "code",
   "execution_count": null,
   "id": "056fa968",
   "metadata": {},
   "outputs": [],
   "source": []
  },
  {
   "cell_type": "code",
   "execution_count": null,
   "id": "0fbb9abd",
   "metadata": {},
   "outputs": [],
   "source": []
  },
  {
   "cell_type": "markdown",
   "id": "b81eb11b",
   "metadata": {},
   "source": [
    "Hetero"
   ]
  },
  {
   "cell_type": "code",
   "execution_count": null,
   "id": "b3a51d49",
   "metadata": {},
   "outputs": [],
   "source": []
  },
  {
   "cell_type": "code",
   "execution_count": null,
   "id": "762cd924",
   "metadata": {},
   "outputs": [],
   "source": []
  },
  {
   "cell_type": "code",
   "execution_count": null,
   "id": "7471720e",
   "metadata": {},
   "outputs": [],
   "source": []
  },
  {
   "cell_type": "code",
   "execution_count": null,
   "id": "4d88ac3f",
   "metadata": {},
   "outputs": [],
   "source": []
  },
  {
   "cell_type": "code",
   "execution_count": null,
   "id": "01198551",
   "metadata": {},
   "outputs": [],
   "source": []
  },
  {
   "cell_type": "code",
   "execution_count": null,
   "id": "250a2bd2",
   "metadata": {},
   "outputs": [],
   "source": []
  },
  {
   "cell_type": "code",
   "execution_count": null,
   "id": "e1298901",
   "metadata": {},
   "outputs": [],
   "source": []
  },
  {
   "cell_type": "code",
   "execution_count": null,
   "id": "0cb90e65",
   "metadata": {},
   "outputs": [],
   "source": []
  }
 ],
 "metadata": {
  "kernelspec": {
   "display_name": "Python 3",
   "language": "python",
   "name": "python3"
  },
  "language_info": {
   "codemirror_mode": {
    "name": "ipython",
    "version": 3
   },
   "file_extension": ".py",
   "mimetype": "text/x-python",
   "name": "python",
   "nbconvert_exporter": "python",
   "pygments_lexer": "ipython3",
   "version": "3.8.8"
  }
 },
 "nbformat": 4,
 "nbformat_minor": 5
}
