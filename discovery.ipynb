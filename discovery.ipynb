{
 "cells": [
  {
   "cell_type": "code",
   "execution_count": 1,
   "id": "b133326c",
   "metadata": {},
   "outputs": [],
   "source": [
    "import numpy as np\n",
    "import pandas as pd\n",
    "import random\n",
    "import math\n",
    "import statistics as stat\n",
    "import matplotlib.pyplot as plt\n",
    "from scipy import stats\n",
    "import itertools\n",
    "import warnings\n",
    "warnings.simplefilter(action='ignore', category=FutureWarning)\n",
    "import bisect\n",
    "from simul_file import mmn_queueing_jsq, queue_length_time_graph, \\\n",
    "                        mmn_queueing_redundancy_dos, mmn_queueing_redundancy_doc, \\\n",
    "                        mmn_queueing_redundancy_dos_identical, \\\n",
    "                        mmn_queueing_redundancy_doc_identical, \\\n",
    "                        mmn_queueing_redundancy_dos_weibull, \\\n",
    "                        mmn_queueing_redundancy_doc_weibull,\\\n",
    "                        mmn_queueing_jsq_weibull, weibull_scale_calculator, \\\n",
    "                        system_compare\n",
    "data1 = pd.read_excel(\"result_data.xlsx\",sheet_name=\"simutime\")\n",
    "data2 = pd.read_excel(\"result_data.xlsx\",sheet_name=\"homo\")\n",
    "data3 = pd.read_excel(\"result_data.xlsx\",sheet_name=\"heter\")"
   ]
  },
  {
   "cell_type": "code",
   "execution_count": null,
   "id": "dc2a4484",
   "metadata": {},
   "outputs": [],
   "source": [
    "mmn_queueing_jsq(n,arrival_rate,service_rate,simulation_time=60,simuseed=math.nan,policy=\"jsq1\")\n",
    "queue_length_time_graph(event_calendar,other_stat,gtype=\"queue\",sq_no=math.nan)\n",
    "mmn_queueing_redundancy_dos(n,d,arrival_rate,service_rate,simulation_time=60,simuseed=math.nan)\n",
    "mmn_queueing_redundancy_doc(n,d,arrival_rate,service_rate,simulation_time=60,simuseed=math.nan)\n",
    "mmn_queueing_redundancy_dos_identical(n,d,arrival_rate,service_rate,simulation_time=60,simuseed=math.nan)\n",
    "mmn_queueing_redundancy_doc_identical(n,d,arrival_rate,service_rate,simulation_time=60,simuseed=math.nan)\n",
    "mmn_queueing_redundancy_dos_weibull(n,d,arrival_rate,scale,shape,simulation_time=60,simuseed=math.nan)\n",
    "mmn_queueing_redundancy_doc_weibull(n,d,arrival_rate,scale,shape,simulation_time=60,simuseed=math.nan)\n",
    "mmn_queueing_jsq_weibull(n,arrival_rate,scale,shape,simulation_time=60,simuseed=math.nan)\n",
    "weibull_scale_calculator(desired_mean,shape)\n",
    "system_compare(system1,system2)"
   ]
  },
  {
   "cell_type": "code",
   "execution_count": null,
   "id": "281afbc2",
   "metadata": {},
   "outputs": [],
   "source": []
  },
  {
   "cell_type": "code",
   "execution_count": null,
   "id": "499b749b",
   "metadata": {},
   "outputs": [],
   "source": []
  },
  {
   "cell_type": "code",
   "execution_count": 5,
   "id": "e641f75f",
   "metadata": {},
   "outputs": [],
   "source": [
    "aaa = mmn_queueing_jsq(4,8,2.2,simulation_time=3000,simuseed=8,policy=\"jsq1\")\n",
    "bbb = mmn_queueing_redundancy_dos(4,4,8,2.2,simulation_time=3000,simuseed=8)\n",
    "#ccc = mmn_queueing_redundancy_doc(4,4,8,2.2,simulation_time=1000,simuseed=8)"
   ]
  },
  {
   "cell_type": "code",
   "execution_count": null,
   "id": "761fa224",
   "metadata": {},
   "outputs": [],
   "source": []
  },
  {
   "cell_type": "code",
   "execution_count": 4,
   "id": "a0a2351a",
   "metadata": {},
   "outputs": [],
   "source": [
    "dm = 1/2.2\n",
    "shp = 1\n",
    "aaa = mmn_queueing_jsq_weibull(5,10,weibull_scale_calculator(dm,shp),2,simulation_time=1000,simuseed=8)"
   ]
  },
  {
   "cell_type": "code",
   "execution_count": 5,
   "id": "9a177a62",
   "metadata": {},
   "outputs": [],
   "source": [
    "dm = 1/2.2\n",
    "shp = 1\n",
    "bbb = mmn_queueing_redundancy_dos_weibull(5,5,10,weibull_scale_calculator(dm,shp),\\\n",
    "                                          shp,simulation_time=1000,simuseed=8)\n",
    "ccc = mmn_queueing_redundancy_doc_weibull(5,5,10,weibull_scale_calculator(dm,shp),\\\n",
    "                                          shp,simulation_time=1000,simuseed=8)"
   ]
  },
  {
   "cell_type": "code",
   "execution_count": null,
   "id": "0d66b454",
   "metadata": {},
   "outputs": [],
   "source": [
    "system_compare(aaa,bbb)"
   ]
  },
  {
   "cell_type": "code",
   "execution_count": null,
   "id": "604d1bc3",
   "metadata": {},
   "outputs": [],
   "source": []
  },
  {
   "cell_type": "code",
   "execution_count": null,
   "id": "e7b7447e",
   "metadata": {},
   "outputs": [],
   "source": []
  },
  {
   "cell_type": "code",
   "execution_count": null,
   "id": "dd786ea7",
   "metadata": {},
   "outputs": [],
   "source": []
  },
  {
   "cell_type": "code",
   "execution_count": null,
   "id": "c47600e8",
   "metadata": {},
   "outputs": [],
   "source": []
  },
  {
   "cell_type": "code",
   "execution_count": null,
   "id": "0b1cdbdc",
   "metadata": {},
   "outputs": [],
   "source": [
    "lb = 3\n",
    "ub = 14\n",
    "\n",
    "sys1 = np.array([])\n",
    "sys2 = np.array([])\n",
    "sys3 = np.array([])\n",
    "for i in range(lb,ub):\n",
    "    sys1 = np.append(sys1,mmn_queueing_jsq(5,i,[3,1,4,2,5],simulation_time=300,simuseed=66,policy=\"jsq1\")[5]['Grand Average cycle time'][0])\n",
    "    sys2 = np.append(sys2,mmn_queueing_redundancy_dos(5,5,i,[3,1,4,2,5],simulation_time=300,simuseed=66)[5]['Grand Average cycle time'][0])\n",
    "    sys3 = np.append(sys3,mmn_queueing_redundancy_doc(5,5,i,[3,1,4,2,5],simulation_time=300,simuseed=66)[5]['Grand Average cycle time'][0])\n",
    "\n",
    "\n",
    "plt.plot(np.arange(lb,ub),sys1,label='system1')\n",
    "plt.plot(np.arange(lb,ub),sys2,label='system2')\n",
    "plt.plot(np.arange(lb,ub),sys3,label='system3')\n",
    "plt.title('Comparison of three systems')\n",
    "plt.xlabel('Arrival rate')\n",
    "plt.ylabel('ACT')\n",
    "plt.legend()"
   ]
  },
  {
   "cell_type": "code",
   "execution_count": null,
   "id": "fb7cb249",
   "metadata": {},
   "outputs": [],
   "source": []
  },
  {
   "cell_type": "code",
   "execution_count": null,
   "id": "91704607",
   "metadata": {},
   "outputs": [],
   "source": []
  },
  {
   "cell_type": "code",
   "execution_count": null,
   "id": "e6c14da1",
   "metadata": {},
   "outputs": [],
   "source": []
  },
  {
   "cell_type": "code",
   "execution_count": 36,
   "id": "2b0f7fa8",
   "metadata": {},
   "outputs": [],
   "source": [
    "aaa = mmn_queueing_jsq(5,14,[3,1,4,2,5],simulation_time=1000,simuseed=66,policy=\"jsq1\")"
   ]
  },
  {
   "cell_type": "code",
   "execution_count": 42,
   "id": "f23d0ecd",
   "metadata": {},
   "outputs": [],
   "source": [
    "bbb = mmn_queueing_jsq(5,15.01,[3,1,4,2,5],simulation_time=1000,simuseed=88,policy=\"jsq1\")"
   ]
  },
  {
   "cell_type": "code",
   "execution_count": null,
   "id": "a90502f3",
   "metadata": {},
   "outputs": [],
   "source": []
  },
  {
   "cell_type": "code",
   "execution_count": null,
   "id": "57b3d7ba",
   "metadata": {},
   "outputs": [],
   "source": []
  },
  {
   "cell_type": "code",
   "execution_count": null,
   "id": "96c38b6a",
   "metadata": {},
   "outputs": [],
   "source": []
  },
  {
   "cell_type": "code",
   "execution_count": null,
   "id": "e55203ab",
   "metadata": {},
   "outputs": [],
   "source": []
  },
  {
   "cell_type": "code",
   "execution_count": null,
   "id": "68348612",
   "metadata": {},
   "outputs": [],
   "source": []
  },
  {
   "cell_type": "markdown",
   "id": "862070e3",
   "metadata": {},
   "source": [
    "How long is long?"
   ]
  },
  {
   "cell_type": "code",
   "execution_count": 44,
   "id": "d75ad534",
   "metadata": {
    "scrolled": true
   },
   "outputs": [],
   "source": [
    "aaa = mmn_queueing_jsq(4,8,2.2,simulation_time=4000,simuseed=5,policy=\"jsq1\")"
   ]
  },
  {
   "cell_type": "code",
   "execution_count": 3,
   "id": "cb9d3c6d",
   "metadata": {},
   "outputs": [],
   "source": [
    "bbb = mmn_queueing_jsq(4,8,2.2,simulation_time=4000,simuseed=1,policy=\"jiq1\")"
   ]
  },
  {
   "cell_type": "code",
   "execution_count": 22,
   "id": "b7478808",
   "metadata": {},
   "outputs": [],
   "source": [
    "ccc = mmn_queueing_jsq(4,8,2.2,simulation_time=4000,simuseed=2,policy=\"jswq\")"
   ]
  },
  {
   "cell_type": "code",
   "execution_count": 30,
   "id": "faef2ccf",
   "metadata": {},
   "outputs": [],
   "source": [
    "ddd = mmn_queueing_redundancy_dos(4,4,8,2.2,simulation_time=4000,simuseed=4)"
   ]
  },
  {
   "cell_type": "code",
   "execution_count": 34,
   "id": "3f4ec268",
   "metadata": {},
   "outputs": [],
   "source": [
    "eee = mmn_queueing_redundancy_doc(4,4,8,2.2,simulation_time=4000,simuseed=2)"
   ]
  },
  {
   "cell_type": "code",
   "execution_count": null,
   "id": "f8a2c4da",
   "metadata": {},
   "outputs": [],
   "source": []
  },
  {
   "cell_type": "code",
   "execution_count": null,
   "id": "b3569b33",
   "metadata": {
    "scrolled": true
   },
   "outputs": [],
   "source": [
    "aaa[8][aaa[8]['Finish']<2000]"
   ]
  },
  {
   "cell_type": "code",
   "execution_count": null,
   "id": "049a53ef",
   "metadata": {
    "scrolled": true
   },
   "outputs": [],
   "source": [
    "aaa[8]"
   ]
  },
  {
   "cell_type": "code",
   "execution_count": 48,
   "id": "ff8e309c",
   "metadata": {},
   "outputs": [],
   "source": [
    "def howlongislong(system1,system2,system3,system4,system5):\n",
    "    \n",
    "    a1 = system1[0].iloc[np.where(system1[0][\"Time\"][1:].to_numpy() != system1[0][\"Next Customer\"][:-1].to_numpy())[0][:-1]+1,:]\n",
    "    b2 = system2[0].iloc[np.where(system2[0][\"Time\"][1:].to_numpy() != system2[0][\"Next Customer\"][:-1].to_numpy())[0][:-1]+1,:]\n",
    "    c3 = system3[0].iloc[np.where(system3[0][\"Time\"][1:].to_numpy() != system3[0][\"Next Customer\"][:-1].to_numpy())[0][:-1]+1,:]\n",
    "    d4 = system4[0].iloc[np.where(system4[0][\"Time\"][1:].to_numpy() != system4[0][\"Next Customer\"][:-1].to_numpy())[0][:-1]+1,:]\n",
    "    e5 = system5[0].iloc[np.where(system5[0][\"Time\"][1:].to_numpy() != system5[0][\"Next Customer\"][:-1].to_numpy())[0][:-1]+1,:]\n",
    "    \n",
    "    sys1_timing = system1[8]\n",
    "    sys1_timing['act'] = sys1_timing['Finish'] - sys1_timing['Start']\n",
    "    sys1_timing['cma'] = sys1_timing['act'].expanding().mean()\n",
    "    sys2_timing = system2[8]\n",
    "    sys2_timing['act'] = sys2_timing['Finish'] - sys2_timing['Start']\n",
    "    sys2_timing['cma'] = sys2_timing['act'].expanding().mean()\n",
    "    sys3_timing = system3[8]\n",
    "    sys3_timing['act'] = sys3_timing['Finish'] - sys3_timing['Start']\n",
    "    sys3_timing['cma'] = sys3_timing['act'].expanding().mean()\n",
    "    sys4_timing = system4[8]\n",
    "    sys4_timing['act'] = sys4_timing['Finish'] - sys4_timing['Start']\n",
    "    sys4_timing['cma'] = sys4_timing['act'].expanding().mean()\n",
    "    sys5_timing = system5[8]\n",
    "    sys5_timing['act'] = sys5_timing['Finish'] - sys5_timing['Start']\n",
    "    sys5_timing['cma'] = sys5_timing['act'].expanding().mean()\n",
    "\n",
    "    plt.plot(a1['Time'],sys1_timing['cma'],label='jsq')\n",
    "    plt.plot(b2['Time'],sys2_timing['cma'],label='jiq')\n",
    "    plt.plot(c3['Time'],sys3_timing['cma'],label='jswq')\n",
    "    plt.plot(d4['Time'],sys4_timing['cma'],label='DOS')\n",
    "    plt.plot(e5['Time'],sys5_timing['cma'],label='DOC')\n",
    "    plt.title('ACT vs Time Graph')\n",
    "    plt.xlabel('Time')\n",
    "    plt.ylabel('ACT')\n",
    "    plt.legend()\n",
    "    "
   ]
  },
  {
   "cell_type": "code",
   "execution_count": 49,
   "id": "a680ff00",
   "metadata": {},
   "outputs": [
    {
     "data": {
      "image/png": "[encoded data removed]",
      "text/plain": [
       "<Figure size 432x288 with 1 Axes>"
      ]
     },
     "metadata": {
      "needs_background": "light"
     },
     "output_type": "display_data"
    }
   ],
   "source": [
    "howlongislong(aaa,bbb,ccc,ddd,eee)"
   ]
  },
  {
   "cell_type": "code",
   "execution_count": null,
   "id": "1e99f88b",
   "metadata": {},
   "outputs": [],
   "source": []
  },
  {
   "cell_type": "code",
   "execution_count": null,
   "id": "c4b354ab",
   "metadata": {},
   "outputs": [],
   "source": []
  },
  {
   "cell_type": "code",
   "execution_count": null,
   "id": "21cb9e73",
   "metadata": {},
   "outputs": [],
   "source": []
  },
  {
   "cell_type": "code",
   "execution_count": null,
   "id": "14d48b4c",
   "metadata": {},
   "outputs": [],
   "source": []
  },
  {
   "cell_type": "code",
   "execution_count": null,
   "id": "e8c39685",
   "metadata": {},
   "outputs": [],
   "source": []
  },
  {
   "cell_type": "code",
   "execution_count": 337,
   "id": "26cef425",
   "metadata": {},
   "outputs": [],
   "source": [
    "s1d = 30\n",
    "#aaa = mmn_queueing_jsq_weibull(4,8,weibull_scale_calculator(1/2.2,0.5),0.5,simulation_time=2000,simuseed=s1d)\n",
    "#bbb = mmn_queueing_redundancy_dos_weibull(4,4,8,weibull_scale_calculator(1/2.2,0.5),0.5,simulation_time=2000,simuseed=s1d)\n",
    "#ccc = mmn_queueing_redundancy_doc_weibull(4,4,8,weibull_scale_calculator(1/2.2,0.5),0.5,simulation_time=2000,simuseed=s1d)\n",
    "#ddd = mmn_queueing_jsq(4,8,2.2,simulation_time=4000,simuseed=s1d,policy='jiq1')\n",
    "#eee = mmn_queueing_jsq(4,8,2.2,simulation_time=4000,simuseed=s1d,policy='jsq1')\n",
    "fff = mmn_queueing_redundancy_doc(4,4,8,2.2,simulation_time=4000,simuseed=s1d)"
   ]
  },
  {
   "cell_type": "code",
   "execution_count": null,
   "id": "195a1715",
   "metadata": {
    "scrolled": true
   },
   "outputs": [],
   "source": [
    "system_compare(fff,eee)"
   ]
  },
  {
   "cell_type": "code",
   "execution_count": null,
   "id": "c0d696ff",
   "metadata": {},
   "outputs": [],
   "source": [
    "fff[8]"
   ]
  },
  {
   "cell_type": "code",
   "execution_count": null,
   "id": "a94bac7b",
   "metadata": {},
   "outputs": [],
   "source": []
  },
  {
   "cell_type": "code",
   "execution_count": null,
   "id": "9a1b0f72",
   "metadata": {},
   "outputs": [],
   "source": []
  },
  {
   "cell_type": "code",
   "execution_count": 50,
   "id": "e095257e",
   "metadata": {},
   "outputs": [
    {
     "data": {
      "text/plain": [
       "Ttest_relResult(statistic=0.6235277145514919, pvalue=0.53656774714141)"
      ]
     },
     "execution_count": 50,
     "metadata": {},
     "output_type": "execute_result"
    }
   ],
   "source": [
    "stats.ttest_rel(data1['jsq_2000'], data1['jsq_4000'])"
   ]
  },
  {
   "cell_type": "code",
   "execution_count": 51,
   "id": "49f52c76",
   "metadata": {},
   "outputs": [
    {
     "data": {
      "text/plain": [
       "Ttest_relResult(statistic=0.46367188623859523, pvalue=0.6454603855924186)"
      ]
     },
     "execution_count": 51,
     "metadata": {},
     "output_type": "execute_result"
    }
   ],
   "source": [
    "stats.ttest_rel(data1['jiq_2000'], data1['jiq_4000'])"
   ]
  },
  {
   "cell_type": "code",
   "execution_count": 52,
   "id": "c3eab2bd",
   "metadata": {},
   "outputs": [
    {
     "data": {
      "text/plain": [
       "Ttest_relResult(statistic=0.6235277145514919, pvalue=0.53656774714141)"
      ]
     },
     "execution_count": 52,
     "metadata": {},
     "output_type": "execute_result"
    }
   ],
   "source": [
    "stats.ttest_rel(data1['jswq_2000'], data1['jswq_4000'])"
   ]
  },
  {
   "cell_type": "code",
   "execution_count": 53,
   "id": "82318fb1",
   "metadata": {},
   "outputs": [
    {
     "data": {
      "text/plain": [
       "Ttest_relResult(statistic=-0.7595495376631464, pvalue=0.45209084262645827)"
      ]
     },
     "execution_count": 53,
     "metadata": {},
     "output_type": "execute_result"
    }
   ],
   "source": [
    "stats.ttest_rel(data1['dos_2000'], data1['dos_4000'])"
   ]
  },
  {
   "cell_type": "code",
   "execution_count": 54,
   "id": "5d1109d7",
   "metadata": {},
   "outputs": [
    {
     "data": {
      "text/plain": [
       "Ttest_relResult(statistic=-0.2864186565457613, pvalue=0.7760735547786916)"
      ]
     },
     "execution_count": 54,
     "metadata": {},
     "output_type": "execute_result"
    }
   ],
   "source": [
    "stats.ttest_rel(data1['doc_2000'], data1['doc_4000'])"
   ]
  },
  {
   "cell_type": "code",
   "execution_count": null,
   "id": "e840a441",
   "metadata": {},
   "outputs": [],
   "source": []
  },
  {
   "cell_type": "code",
   "execution_count": 61,
   "id": "d64dcdcb",
   "metadata": {},
   "outputs": [
    {
     "data": {
      "text/plain": [
       "1.444892025"
      ]
     },
     "execution_count": 61,
     "metadata": {},
     "output_type": "execute_result"
    }
   ],
   "source": [
    "stat.mean(data1['dos_2000'])"
   ]
  },
  {
   "cell_type": "code",
   "execution_count": 62,
   "id": "d11c70b6",
   "metadata": {},
   "outputs": [
    {
     "data": {
      "text/plain": [
       "1.46128565"
      ]
     },
     "execution_count": 62,
     "metadata": {},
     "output_type": "execute_result"
    }
   ],
   "source": [
    "stat.mean(data1['dos_4000'])"
   ]
  },
  {
   "cell_type": "code",
   "execution_count": null,
   "id": "a8d088de",
   "metadata": {},
   "outputs": [],
   "source": []
  },
  {
   "cell_type": "markdown",
   "id": "94be413b",
   "metadata": {},
   "source": [
    "Stability Analysis"
   ]
  },
  {
   "cell_type": "code",
   "execution_count": 64,
   "id": "194a2868",
   "metadata": {},
   "outputs": [],
   "source": [
    "#stab_sys = mmn_queueing_jsq(4,8,2.2,simulation_time=2000,simuseed=66,policy='jsq1')"
   ]
  },
  {
   "cell_type": "code",
   "execution_count": 179,
   "id": "e8385654",
   "metadata": {},
   "outputs": [],
   "source": [
    "def stab(system1,system2):\n",
    "    \n",
    "    a1 = system1[0].iloc[np.where(system1[0][\"Time\"][1:].to_numpy() != system1[0][\"Next Customer\"][:-1].to_numpy())[0][:-1]+1,:]\n",
    "    b2 = system2[0].iloc[np.where(system2[0][\"Time\"][1:].to_numpy() != system2[0][\"Next Customer\"][:-1].to_numpy())[0][:-1]+1,:]\n",
    "    \n",
    "    plt.figure(1)\n",
    "    plt.plot(a1['Time'],a1['Live_track'],label='stable system')\n",
    "    plt.plot(b2['Time'],b2['Live_track'],label=comp_model)\n",
    "    plt.xlabel('Time')\n",
    "    plt.ylabel('# Customers')\n",
    "    plt.legend()\n",
    "    \n",
    "    \n",
    "#     a0pos = system1[0]['Time'].to_numpy()[np.where(system1[0]['Server1 Queue']==0)[0]]\n",
    "#     b0pos = system2[0]['Time'].to_numpy()[np.where(system2[0]['Server1 Queue']==0)[0]]\n",
    "#     data = [a0pos, b0pos]\n",
    "#     fig, ax = plt.subplots()\n",
    "#     ax.boxplot(data,vert=False)\n",
    "#     ax.set_yticklabels(['Stable system', comp_model])\n",
    "#     ax.set_xlabel('Simulation Time')\n",
    "#     plt.show()\n",
    "    \n",
    "    #plt.savefig('my_plot.jpg')\n",
    "    "
   ]
  },
  {
   "cell_type": "code",
   "execution_count": 200,
   "id": "96ee01d1",
   "metadata": {},
   "outputs": [],
   "source": [
    "comp_model = 'DOC'\n",
    "#aaa = mmn_queueing_jsq_weibull(4,8,scl_dec,0.5,simulation_time=2000,simuseed=1)\n",
    "bbb = mmn_queueing_redundancy_doc_weibull(4,4,8,scl_dec,0.5,simulation_time=2000,simuseed=1)\n",
    "#ccc = mmn_queueing_redundancy_doc_weibull(4,4,8,scl_dec,0.5,simulation_time=2000,simuseed=1)\n",
    "#ddd = mmn_queueing_jsq(4,8,[1.5,2,4,1],simulation_time=2000,simuseed=1,policy=comp_model)\n",
    "#eee = mmn_queueing_jsq(4,8,2.2,simulation_time=2000,simuseed=s1d,policy=comp_model)\n",
    "#fff = mmn_queueing_redundancy_doc_identical(4,4,8,[1.5,2,4,1],simulation_time=2000,simuseed=1)"
   ]
  },
  {
   "cell_type": "code",
   "execution_count": 201,
   "id": "c5721f66",
   "metadata": {},
   "outputs": [
    {
     "data": {
      "image/png": "[encoded data removed]",
      "text/plain": [
       "<Figure size 432x288 with 1 Axes>"
      ]
     },
     "metadata": {
      "needs_background": "light"
     },
     "output_type": "display_data"
    }
   ],
   "source": [
    "stab(stab_sys,bbb)"
   ]
  },
  {
   "cell_type": "code",
   "execution_count": null,
   "id": "7bb686ea",
   "metadata": {},
   "outputs": [],
   "source": []
  },
  {
   "cell_type": "code",
   "execution_count": null,
   "id": "eb4e19a1",
   "metadata": {},
   "outputs": [],
   "source": []
  },
  {
   "cell_type": "code",
   "execution_count": null,
   "id": "8d1251d8",
   "metadata": {},
   "outputs": [],
   "source": []
  },
  {
   "cell_type": "code",
   "execution_count": null,
   "id": "8a4a8b6d",
   "metadata": {},
   "outputs": [],
   "source": []
  },
  {
   "cell_type": "code",
   "execution_count": null,
   "id": "a3383250",
   "metadata": {},
   "outputs": [],
   "source": []
  },
  {
   "cell_type": "code",
   "execution_count": null,
   "id": "10e48a07",
   "metadata": {},
   "outputs": [],
   "source": []
  },
  {
   "cell_type": "code",
   "execution_count": null,
   "id": "e690fb0d",
   "metadata": {},
   "outputs": [],
   "source": []
  },
  {
   "cell_type": "code",
   "execution_count": null,
   "id": "92431194",
   "metadata": {},
   "outputs": [],
   "source": []
  },
  {
   "cell_type": "code",
   "execution_count": null,
   "id": "765e6668",
   "metadata": {},
   "outputs": [],
   "source": []
  },
  {
   "cell_type": "markdown",
   "id": "36c325e9",
   "metadata": {},
   "source": [
    "Homo"
   ]
  },
  {
   "cell_type": "code",
   "execution_count": 831,
   "id": "70d1c8ce",
   "metadata": {},
   "outputs": [],
   "source": [
    "s1d = 13\n",
    "#aaa = mmn_queueing_jsq_weibull(4,8,weibull_scale_calculator(1/2.2,0.5),0.5,simulation_time=2000,simuseed=s1d)\n",
    "#bbb = mmn_queueing_redundancy_dos_weibull(4,4,8,weibull_scale_calculator(1/2.2,0.5),0.5,simulation_time=2000,simuseed=s1d)\n",
    "ccc = mmn_queueing_redundancy_doc_weibull(4,4,8,weibull_scale_calculator(1/2.2,0.5),0.5,simulation_time=2000,simuseed=s1d)"
   ]
  },
  {
   "cell_type": "code",
   "execution_count": null,
   "id": "bfd405b6",
   "metadata": {
    "scrolled": true
   },
   "outputs": [],
   "source": [
    "system_compare(ccc,ddd)"
   ]
  },
  {
   "cell_type": "code",
   "execution_count": null,
   "id": "f4ee3109",
   "metadata": {},
   "outputs": [],
   "source": [
    "ccc[8]"
   ]
  },
  {
   "cell_type": "code",
   "execution_count": null,
   "id": "4dce7423",
   "metadata": {},
   "outputs": [],
   "source": []
  },
  {
   "cell_type": "code",
   "execution_count": 210,
   "id": "d15a5a30",
   "metadata": {},
   "outputs": [
    {
     "data": {
      "image/png": "[encoded data removed]",
      "text/plain": [
       "<Figure size 432x288 with 1 Axes>"
      ]
     },
     "metadata": {
      "needs_background": "light"
     },
     "output_type": "display_data"
    }
   ],
   "source": [
    "fig, ax = plt.subplots()\n",
    "ax.boxplot(data2.iloc[:,:6])\n",
    "ax.set_xticklabels(['jsq1','jsq2','jiq1','jswq','DOS','DOC'])\n",
    "ax.set_ylabel('ACT')\n",
    "plt.show()"
   ]
  },
  {
   "cell_type": "code",
   "execution_count": null,
   "id": "5de39ff0",
   "metadata": {},
   "outputs": [],
   "source": []
  },
  {
   "cell_type": "code",
   "execution_count": null,
   "id": "c3ef7730",
   "metadata": {},
   "outputs": [],
   "source": []
  },
  {
   "cell_type": "code",
   "execution_count": 212,
   "id": "cf8e9b52",
   "metadata": {},
   "outputs": [],
   "source": [
    "abcde = data2.iloc[:,:6]\n",
    "abcde.columns = ['jsq1','jsq2','jiq','jswq','DOS','DOC']"
   ]
  },
  {
   "cell_type": "code",
   "execution_count": null,
   "id": "b6b658e5",
   "metadata": {},
   "outputs": [],
   "source": []
  },
  {
   "cell_type": "code",
   "execution_count": 214,
   "id": "cd7b64f3",
   "metadata": {},
   "outputs": [
    {
     "data": {
      "text/html": [
       "<div>\n",
       "<style scoped>\n",
       "    .dataframe tbody tr th:only-of-type {\n",
       "        vertical-align: middle;\n",
       "    }\n",
       "\n",
       "    .dataframe tbody tr th {\n",
       "        vertical-align: top;\n",
       "    }\n",
       "\n",
       "    .dataframe thead th {\n",
       "        text-align: right;\n",
       "    }\n",
       "</style>\n",
       "<table border=\"1\" class=\"dataframe\">\n",
       "  <thead>\n",
       "    <tr style=\"text-align: right;\">\n",
       "      <th></th>\n",
       "      <th>jsq1</th>\n",
       "      <th>jsq2</th>\n",
       "      <th>jiq</th>\n",
       "      <th>jswq</th>\n",
       "      <th>DOS</th>\n",
       "      <th>DOC</th>\n",
       "    </tr>\n",
       "  </thead>\n",
       "  <tbody>\n",
       "    <tr>\n",
       "      <th>count</th>\n",
       "      <td>40.000</td>\n",
       "      <td>40.000</td>\n",
       "      <td>40.000</td>\n",
       "      <td>40.000</td>\n",
       "      <td>40.000</td>\n",
       "      <td>40.000</td>\n",
       "    </tr>\n",
       "    <tr>\n",
       "      <th>mean</th>\n",
       "      <td>1.614</td>\n",
       "      <td>1.600</td>\n",
       "      <td>2.126</td>\n",
       "      <td>1.613</td>\n",
       "      <td>1.445</td>\n",
       "      <td>1.232</td>\n",
       "    </tr>\n",
       "    <tr>\n",
       "      <th>std</th>\n",
       "      <td>0.231</td>\n",
       "      <td>0.236</td>\n",
       "      <td>0.320</td>\n",
       "      <td>0.230</td>\n",
       "      <td>0.186</td>\n",
       "      <td>0.200</td>\n",
       "    </tr>\n",
       "    <tr>\n",
       "      <th>min</th>\n",
       "      <td>1.315</td>\n",
       "      <td>1.235</td>\n",
       "      <td>1.631</td>\n",
       "      <td>1.315</td>\n",
       "      <td>1.167</td>\n",
       "      <td>0.925</td>\n",
       "    </tr>\n",
       "    <tr>\n",
       "      <th>25%</th>\n",
       "      <td>1.478</td>\n",
       "      <td>1.423</td>\n",
       "      <td>1.958</td>\n",
       "      <td>1.478</td>\n",
       "      <td>1.318</td>\n",
       "      <td>1.080</td>\n",
       "    </tr>\n",
       "    <tr>\n",
       "      <th>50%</th>\n",
       "      <td>1.564</td>\n",
       "      <td>1.562</td>\n",
       "      <td>2.080</td>\n",
       "      <td>1.563</td>\n",
       "      <td>1.408</td>\n",
       "      <td>1.226</td>\n",
       "    </tr>\n",
       "    <tr>\n",
       "      <th>75%</th>\n",
       "      <td>1.677</td>\n",
       "      <td>1.712</td>\n",
       "      <td>2.207</td>\n",
       "      <td>1.677</td>\n",
       "      <td>1.591</td>\n",
       "      <td>1.333</td>\n",
       "    </tr>\n",
       "    <tr>\n",
       "      <th>max</th>\n",
       "      <td>2.402</td>\n",
       "      <td>2.248</td>\n",
       "      <td>3.329</td>\n",
       "      <td>2.400</td>\n",
       "      <td>2.000</td>\n",
       "      <td>1.815</td>\n",
       "    </tr>\n",
       "  </tbody>\n",
       "</table>\n",
       "</div>"
      ],
      "text/plain": [
       "         jsq1    jsq2     jiq    jswq     DOS     DOC\n",
       "count  40.000  40.000  40.000  40.000  40.000  40.000\n",
       "mean    1.614   1.600   2.126   1.613   1.445   1.232\n",
       "std     0.231   0.236   0.320   0.230   0.186   0.200\n",
       "min     1.315   1.235   1.631   1.315   1.167   0.925\n",
       "25%     1.478   1.423   1.958   1.478   1.318   1.080\n",
       "50%     1.564   1.562   2.080   1.563   1.408   1.226\n",
       "75%     1.677   1.712   2.207   1.677   1.591   1.333\n",
       "max     2.402   2.248   3.329   2.400   2.000   1.815"
      ]
     },
     "execution_count": 214,
     "metadata": {},
     "output_type": "execute_result"
    }
   ],
   "source": [
    "abcde.describe().round(3)"
   ]
  },
  {
   "cell_type": "code",
   "execution_count": null,
   "id": "159bcfde",
   "metadata": {},
   "outputs": [],
   "source": []
  },
  {
   "cell_type": "code",
   "execution_count": null,
   "id": "65054cf3",
   "metadata": {},
   "outputs": [],
   "source": []
  },
  {
   "cell_type": "code",
   "execution_count": null,
   "id": "8e055598",
   "metadata": {},
   "outputs": [],
   "source": []
  },
  {
   "cell_type": "code",
   "execution_count": null,
   "id": "ddcc110c",
   "metadata": {},
   "outputs": [],
   "source": []
  },
  {
   "cell_type": "code",
   "execution_count": null,
   "id": "ed66c475",
   "metadata": {},
   "outputs": [],
   "source": []
  },
  {
   "cell_type": "code",
   "execution_count": null,
   "id": "c73b438f",
   "metadata": {},
   "outputs": [],
   "source": []
  },
  {
   "cell_type": "code",
   "execution_count": null,
   "id": "25c5a35a",
   "metadata": {},
   "outputs": [],
   "source": []
  },
  {
   "cell_type": "code",
   "execution_count": null,
   "id": "b165654a",
   "metadata": {},
   "outputs": [],
   "source": []
  },
  {
   "cell_type": "code",
   "execution_count": null,
   "id": "7045a721",
   "metadata": {},
   "outputs": [],
   "source": []
  },
  {
   "cell_type": "code",
   "execution_count": null,
   "id": "faf0312e",
   "metadata": {},
   "outputs": [],
   "source": []
  },
  {
   "cell_type": "code",
   "execution_count": null,
   "id": "741ef724",
   "metadata": {},
   "outputs": [],
   "source": []
  },
  {
   "cell_type": "code",
   "execution_count": null,
   "id": "235b4a01",
   "metadata": {},
   "outputs": [],
   "source": []
  },
  {
   "cell_type": "code",
   "execution_count": null,
   "id": "056fa968",
   "metadata": {},
   "outputs": [],
   "source": []
  },
  {
   "cell_type": "markdown",
   "id": "b81eb11b",
   "metadata": {},
   "source": [
    "Hetero"
   ]
  },
  {
   "cell_type": "code",
   "execution_count": 170,
   "id": "85bbfba3",
   "metadata": {},
   "outputs": [],
   "source": [
    "scl_inc = [weibull_scale_calculator(1/1.5,2),weibull_scale_calculator(1/2,2),\\\n",
    "           weibull_scale_calculator(1/4,2),weibull_scale_calculator(1/1,2)]\n",
    "\n",
    "scl_dec = [weibull_scale_calculator(1/1.5,0.5),weibull_scale_calculator(1/2,0.5),\\\n",
    "           weibull_scale_calculator(1/4,0.5),weibull_scale_calculator(1/1,0.5)]"
   ]
  },
  {
   "cell_type": "code",
   "execution_count": 750,
   "id": "b3a51d49",
   "metadata": {},
   "outputs": [],
   "source": [
    "s1d = 40\n",
    "aaa = mmn_queueing_jsq_weibull(4,8,scl_dec,0.5,simulation_time=2000,simuseed=s1d)\n",
    "bbb = mmn_queueing_redundancy_dos_weibull(4,4,8,scl_dec,0.5,simulation_time=2000,simuseed=s1d)\n",
    "#ccc = mmn_queueing_redundancy_doc_weibull(4,4,8,scl_dec,0.5,simulation_time=2000,simuseed=s1d)\n",
    "#ddd = mmn_queueing_jsq(4,8,[1.5,2,4,1],simulation_time=2000,simuseed=s1d,policy='jsq2')\n",
    "#eee = mmn_queueing_jsq(4,8,2.2,simulation_time=2000,simuseed=s1d,policy='jsq1')\n",
    "#fff = mmn_queueing_redundancy_dos_identical(4,4,8,[1.5,2,4,1],simulation_time=2000,simuseed=s1d)"
   ]
  },
  {
   "cell_type": "code",
   "execution_count": null,
   "id": "762cd924",
   "metadata": {
    "scrolled": true
   },
   "outputs": [],
   "source": [
    "system_compare(aaa,bbb)"
   ]
  },
  {
   "cell_type": "code",
   "execution_count": null,
   "id": "4d88ac3f",
   "metadata": {},
   "outputs": [],
   "source": [
    "aaa[8]"
   ]
  },
  {
   "cell_type": "code",
   "execution_count": null,
   "id": "2433ac67",
   "metadata": {},
   "outputs": [],
   "source": [
    "bbb[8]"
   ]
  },
  {
   "cell_type": "code",
   "execution_count": null,
   "id": "7328c41c",
   "metadata": {},
   "outputs": [],
   "source": []
  },
  {
   "cell_type": "code",
   "execution_count": null,
   "id": "7dd0e5e6",
   "metadata": {},
   "outputs": [],
   "source": []
  },
  {
   "cell_type": "code",
   "execution_count": null,
   "id": "dcb1f08a",
   "metadata": {},
   "outputs": [],
   "source": []
  },
  {
   "cell_type": "code",
   "execution_count": null,
   "id": "98504515",
   "metadata": {},
   "outputs": [],
   "source": []
  },
  {
   "cell_type": "code",
   "execution_count": null,
   "id": "e3bfb3f7",
   "metadata": {},
   "outputs": [],
   "source": []
  },
  {
   "cell_type": "code",
   "execution_count": null,
   "id": "82bb63d6",
   "metadata": {},
   "outputs": [],
   "source": []
  },
  {
   "cell_type": "code",
   "execution_count": null,
   "id": "36007c76",
   "metadata": {},
   "outputs": [],
   "source": []
  },
  {
   "cell_type": "code",
   "execution_count": null,
   "id": "f6bbe6a7",
   "metadata": {},
   "outputs": [],
   "source": []
  },
  {
   "cell_type": "code",
   "execution_count": null,
   "id": "250a2bd2",
   "metadata": {},
   "outputs": [],
   "source": []
  },
  {
   "cell_type": "code",
   "execution_count": null,
   "id": "e1298901",
   "metadata": {},
   "outputs": [],
   "source": []
  },
  {
   "cell_type": "code",
   "execution_count": null,
   "id": "0cb90e65",
   "metadata": {},
   "outputs": [],
   "source": []
  }
 ],
 "metadata": {
  "kernelspec": {
   "display_name": "Python 3",
   "language": "python",
   "name": "python3"
  },
  "language_info": {
   "codemirror_mode": {
    "name": "ipython",
    "version": 3
   },
   "file_extension": ".py",
   "mimetype": "text/x-python",
   "name": "python",
   "nbconvert_exporter": "python",
   "pygments_lexer": "ipython3",
   "version": "3.8.8"
  }
 },
 "nbformat": 4,
 "nbformat_minor": 5
}
