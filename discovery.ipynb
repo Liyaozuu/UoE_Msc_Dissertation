{
 "cells": [
  {
   "cell_type": "code",
   "execution_count": 452,
   "id": "b133326c",
   "metadata": {},
   "outputs": [],
   "source": [
    "import numpy as np\n",
    "import pandas as pd\n",
    "import random\n",
    "import math\n",
    "import statistics as stat\n",
    "import matplotlib.pyplot as plt\n",
    "from scipy import stats\n",
    "import itertools\n",
    "import warnings\n",
    "warnings.simplefilter(action='ignore', category=FutureWarning)\n",
    "import bisect\n",
    "from simul_file import mmn_queueing_jsq, queue_length_time_graph, \\\n",
    "                        mmn_queueing_redundancy_dos, mmn_queueing_redundancy_doc, \\\n",
    "                        mmn_queueing_redundancy_dos_identical, \\\n",
    "                        mmn_queueing_redundancy_doc_identical, \\\n",
    "                        mmn_queueing_redundancy_dos_weibull, \\\n",
    "                        mmn_queueing_redundancy_doc_weibull,\\\n",
    "                        mmn_queueing_jsq_weibull, weibull_scale_calculator, \\\n",
    "                        system_compare\n",
    "data1 = pd.read_excel(\"result_data.xlsx\",sheet_name=\"simutime\")\n",
    "data2 = pd.read_excel(\"result_data.xlsx\",sheet_name=\"homo\")\n",
    "data3 = pd.read_excel(\"result_data.xlsx\",sheet_name=\"heter\")\n"
   ]
  },
  {
   "cell_type": "code",
   "execution_count": null,
   "id": "dc2a4484",
   "metadata": {},
   "outputs": [],
   "source": [
    "mmn_queueing_jsq(n,arrival_rate,service_rate,simulation_time=60,simuseed=math.nan,policy=\"jsq1\")\n",
    "queue_length_time_graph(event_calendar,other_stat,gtype=\"queue\",sq_no=math.nan)\n",
    "mmn_queueing_redundancy_dos(n,d,arrival_rate,service_rate,simulation_time=60,simuseed=math.nan)\n",
    "mmn_queueing_redundancy_doc(n,d,arrival_rate,service_rate,simulation_time=60,simuseed=math.nan)\n",
    "mmn_queueing_redundancy_dos_identical(n,d,arrival_rate,service_rate,simulation_time=60,simuseed=math.nan)\n",
    "mmn_queueing_redundancy_doc_identical(n,d,arrival_rate,service_rate,simulation_time=60,simuseed=math.nan)\n",
    "mmn_queueing_redundancy_dos_weibull(n,d,arrival_rate,scale,shape,simulation_time=60,simuseed=math.nan)\n",
    "mmn_queueing_redundancy_doc_weibull(n,d,arrival_rate,scale,shape,simulation_time=60,simuseed=math.nan)\n",
    "mmn_queueing_jsq_weibull(n,arrival_rate,scale,shape,simulation_time=60,simuseed=math.nan)\n",
    "weibull_scale_calculator(desired_mean,shape)\n",
    "system_compare(system1,system2)"
   ]
  },
  {
   "cell_type": "code",
   "execution_count": null,
   "id": "281afbc2",
   "metadata": {},
   "outputs": [],
   "source": []
  },
  {
   "cell_type": "code",
   "execution_count": null,
   "id": "499b749b",
   "metadata": {},
   "outputs": [],
   "source": []
  },
  {
   "cell_type": "code",
   "execution_count": 5,
   "id": "e641f75f",
   "metadata": {},
   "outputs": [],
   "source": [
    "aaa = mmn_queueing_jsq(4,8,2.2,simulation_time=3000,simuseed=8,policy=\"jsq1\")\n",
    "bbb = mmn_queueing_redundancy_dos(4,4,8,2.2,simulation_time=3000,simuseed=8)\n",
    "#ccc = mmn_queueing_redundancy_doc(4,4,8,2.2,simulation_time=1000,simuseed=8)"
   ]
  },
  {
   "cell_type": "code",
   "execution_count": null,
   "id": "761fa224",
   "metadata": {},
   "outputs": [],
   "source": []
  },
  {
   "cell_type": "code",
   "execution_count": 4,
   "id": "a0a2351a",
   "metadata": {},
   "outputs": [],
   "source": [
    "dm = 1/2.2\n",
    "shp = 1\n",
    "aaa = mmn_queueing_jsq_weibull(5,10,weibull_scale_calculator(dm,shp),2,simulation_time=1000,simuseed=8)"
   ]
  },
  {
   "cell_type": "code",
   "execution_count": 5,
   "id": "9a177a62",
   "metadata": {},
   "outputs": [],
   "source": [
    "dm = 1/2.2\n",
    "shp = 1\n",
    "bbb = mmn_queueing_redundancy_dos_weibull(5,5,10,weibull_scale_calculator(dm,shp),\\\n",
    "                                          shp,simulation_time=1000,simuseed=8)\n",
    "ccc = mmn_queueing_redundancy_doc_weibull(5,5,10,weibull_scale_calculator(dm,shp),\\\n",
    "                                          shp,simulation_time=1000,simuseed=8)"
   ]
  },
  {
   "cell_type": "code",
   "execution_count": null,
   "id": "0d66b454",
   "metadata": {},
   "outputs": [],
   "source": [
    "system_compare(aaa,bbb)"
   ]
  },
  {
   "cell_type": "code",
   "execution_count": null,
   "id": "604d1bc3",
   "metadata": {},
   "outputs": [],
   "source": []
  },
  {
   "cell_type": "code",
   "execution_count": null,
   "id": "e7b7447e",
   "metadata": {},
   "outputs": [],
   "source": []
  },
  {
   "cell_type": "code",
   "execution_count": null,
   "id": "dd786ea7",
   "metadata": {},
   "outputs": [],
   "source": []
  },
  {
   "cell_type": "code",
   "execution_count": null,
   "id": "c47600e8",
   "metadata": {},
   "outputs": [],
   "source": []
  },
  {
   "cell_type": "code",
   "execution_count": null,
   "id": "0b1cdbdc",
   "metadata": {},
   "outputs": [],
   "source": [
    "lb = 3\n",
    "ub = 14\n",
    "\n",
    "sys1 = np.array([])\n",
    "sys2 = np.array([])\n",
    "sys3 = np.array([])\n",
    "for i in range(lb,ub):\n",
    "    sys1 = np.append(sys1,mmn_queueing_jsq(5,i,[3,1,4,2,5],simulation_time=300,simuseed=66,policy=\"jsq1\")[5]['Grand Average cycle time'][0])\n",
    "    sys2 = np.append(sys2,mmn_queueing_redundancy_dos(5,5,i,[3,1,4,2,5],simulation_time=300,simuseed=66)[5]['Grand Average cycle time'][0])\n",
    "    sys3 = np.append(sys3,mmn_queueing_redundancy_doc(5,5,i,[3,1,4,2,5],simulation_time=300,simuseed=66)[5]['Grand Average cycle time'][0])\n",
    "\n",
    "\n",
    "plt.plot(np.arange(lb,ub),sys1,label='system1')\n",
    "plt.plot(np.arange(lb,ub),sys2,label='system2')\n",
    "plt.plot(np.arange(lb,ub),sys3,label='system3')\n",
    "plt.title('Comparison of three systems')\n",
    "plt.xlabel('Arrival rate')\n",
    "plt.ylabel('ACT')\n",
    "plt.legend()"
   ]
  },
  {
   "cell_type": "code",
   "execution_count": null,
   "id": "fb7cb249",
   "metadata": {},
   "outputs": [],
   "source": []
  },
  {
   "cell_type": "code",
   "execution_count": null,
   "id": "91704607",
   "metadata": {},
   "outputs": [],
   "source": []
  },
  {
   "cell_type": "code",
   "execution_count": null,
   "id": "e6c14da1",
   "metadata": {},
   "outputs": [],
   "source": []
  },
  {
   "cell_type": "code",
   "execution_count": 36,
   "id": "2b0f7fa8",
   "metadata": {},
   "outputs": [],
   "source": [
    "aaa = mmn_queueing_jsq(5,14,[3,1,4,2,5],simulation_time=1000,simuseed=66,policy=\"jsq1\")"
   ]
  },
  {
   "cell_type": "code",
   "execution_count": 42,
   "id": "f23d0ecd",
   "metadata": {},
   "outputs": [],
   "source": [
    "bbb = mmn_queueing_jsq(5,15.01,[3,1,4,2,5],simulation_time=1000,simuseed=88,policy=\"jsq1\")"
   ]
  },
  {
   "cell_type": "code",
   "execution_count": null,
   "id": "a90502f3",
   "metadata": {},
   "outputs": [],
   "source": []
  },
  {
   "cell_type": "code",
   "execution_count": null,
   "id": "57b3d7ba",
   "metadata": {},
   "outputs": [],
   "source": []
  },
  {
   "cell_type": "code",
   "execution_count": null,
   "id": "96c38b6a",
   "metadata": {},
   "outputs": [],
   "source": []
  },
  {
   "cell_type": "code",
   "execution_count": null,
   "id": "e55203ab",
   "metadata": {},
   "outputs": [],
   "source": []
  },
  {
   "cell_type": "code",
   "execution_count": null,
   "id": "68348612",
   "metadata": {},
   "outputs": [],
   "source": []
  },
  {
   "cell_type": "markdown",
   "id": "862070e3",
   "metadata": {},
   "source": [
    "How long is long?"
   ]
  },
  {
   "cell_type": "code",
   "execution_count": 44,
   "id": "d75ad534",
   "metadata": {
    "scrolled": true
   },
   "outputs": [],
   "source": [
    "aaa = mmn_queueing_jsq(4,8,2.2,simulation_time=4000,simuseed=5,policy=\"jsq1\")"
   ]
  },
  {
   "cell_type": "code",
   "execution_count": 3,
   "id": "78cbccca",
   "metadata": {},
   "outputs": [],
   "source": [
    "bbb = mmn_queueing_jsq(4,8,2.2,simulation_time=4000,simuseed=1,policy=\"jiq1\")"
   ]
  },
  {
   "cell_type": "code",
   "execution_count": 22,
   "id": "428b0141",
   "metadata": {},
   "outputs": [],
   "source": [
    "ccc = mmn_queueing_jsq(4,8,2.2,simulation_time=4000,simuseed=2,policy=\"jswq\")"
   ]
  },
  {
   "cell_type": "code",
   "execution_count": 30,
   "id": "0622e10f",
   "metadata": {},
   "outputs": [],
   "source": [
    "ddd = mmn_queueing_redundancy_dos(4,4,8,2.2,simulation_time=4000,simuseed=4)"
   ]
  },
  {
   "cell_type": "code",
   "execution_count": 34,
   "id": "0c291f93",
   "metadata": {},
   "outputs": [],
   "source": [
    "eee = mmn_queueing_redundancy_doc(4,4,8,2.2,simulation_time=4000,simuseed=2)"
   ]
  },
  {
   "cell_type": "code",
   "execution_count": null,
   "id": "40b7ad8f",
   "metadata": {},
   "outputs": [],
   "source": []
  },
  {
   "cell_type": "code",
   "execution_count": null,
   "id": "b3569b33",
   "metadata": {
    "scrolled": true
   },
   "outputs": [],
   "source": [
    "aaa[8][aaa[8]['Finish']<2000]"
   ]
  },
  {
   "cell_type": "code",
   "execution_count": null,
   "id": "049a53ef",
   "metadata": {
    "scrolled": true
   },
   "outputs": [],
   "source": [
    "aaa[8]"
   ]
  },
  {
   "cell_type": "code",
   "execution_count": 48,
   "id": "ff8e309c",
   "metadata": {},
   "outputs": [],
   "source": [
    "def howlongislong(system1,system2,system3,system4,system5):\n",
    "    \n",
    "    a1 = system1[0].iloc[np.where(system1[0][\"Time\"][1:].to_numpy() != system1[0][\"Next Customer\"][:-1].to_numpy())[0][:-1]+1,:]\n",
    "    b2 = system2[0].iloc[np.where(system2[0][\"Time\"][1:].to_numpy() != system2[0][\"Next Customer\"][:-1].to_numpy())[0][:-1]+1,:]\n",
    "    c3 = system3[0].iloc[np.where(system3[0][\"Time\"][1:].to_numpy() != system3[0][\"Next Customer\"][:-1].to_numpy())[0][:-1]+1,:]\n",
    "    d4 = system4[0].iloc[np.where(system4[0][\"Time\"][1:].to_numpy() != system4[0][\"Next Customer\"][:-1].to_numpy())[0][:-1]+1,:]\n",
    "    e5 = system5[0].iloc[np.where(system5[0][\"Time\"][1:].to_numpy() != system5[0][\"Next Customer\"][:-1].to_numpy())[0][:-1]+1,:]\n",
    "    \n",
    "    sys1_timing = system1[8]\n",
    "    sys1_timing['act'] = sys1_timing['Finish'] - sys1_timing['Start']\n",
    "    sys1_timing['cma'] = sys1_timing['act'].expanding().mean()\n",
    "    sys2_timing = system2[8]\n",
    "    sys2_timing['act'] = sys2_timing['Finish'] - sys2_timing['Start']\n",
    "    sys2_timing['cma'] = sys2_timing['act'].expanding().mean()\n",
    "    sys3_timing = system3[8]\n",
    "    sys3_timing['act'] = sys3_timing['Finish'] - sys3_timing['Start']\n",
    "    sys3_timing['cma'] = sys3_timing['act'].expanding().mean()\n",
    "    sys4_timing = system4[8]\n",
    "    sys4_timing['act'] = sys4_timing['Finish'] - sys4_timing['Start']\n",
    "    sys4_timing['cma'] = sys4_timing['act'].expanding().mean()\n",
    "    sys5_timing = system5[8]\n",
    "    sys5_timing['act'] = sys5_timing['Finish'] - sys5_timing['Start']\n",
    "    sys5_timing['cma'] = sys5_timing['act'].expanding().mean()\n",
    "\n",
    "    plt.plot(a1['Time'],sys1_timing['cma'],label='jsq')\n",
    "    plt.plot(b2['Time'],sys2_timing['cma'],label='jiq')\n",
    "    plt.plot(c3['Time'],sys3_timing['cma'],label='jswq')\n",
    "    plt.plot(d4['Time'],sys4_timing['cma'],label='DOS')\n",
    "    plt.plot(e5['Time'],sys5_timing['cma'],label='DOC')\n",
    "    plt.title('ACT vs Time Graph')\n",
    "    plt.xlabel('Time')\n",
    "    plt.ylabel('ACT')\n",
    "    plt.legend()\n",
    "    "
   ]
  },
  {
   "cell_type": "code",
   "execution_count": 49,
   "id": "a680ff00",
   "metadata": {},
   "outputs": [
    {
     "data": {
      "image/png": "[encoded data removed]",
      "text/plain": [
       "<Figure size 432x288 with 1 Axes>"
      ]
     },
     "metadata": {
      "needs_background": "light"
     },
     "output_type": "display_data"
    }
   ],
   "source": [
    "howlongislong(aaa,bbb,ccc,ddd,eee)"
   ]
  },
  {
   "cell_type": "code",
   "execution_count": null,
   "id": "5763fa1d",
   "metadata": {},
   "outputs": [],
   "source": []
  },
  {
   "cell_type": "code",
   "execution_count": null,
   "id": "344baf41",
   "metadata": {},
   "outputs": [],
   "source": []
  },
  {
   "cell_type": "code",
   "execution_count": null,
   "id": "8d797ac8",
   "metadata": {},
   "outputs": [],
   "source": []
  },
  {
   "cell_type": "code",
   "execution_count": null,
   "id": "14d48b4c",
   "metadata": {},
   "outputs": [],
   "source": []
  },
  {
   "cell_type": "code",
   "execution_count": null,
   "id": "e8c39685",
   "metadata": {},
   "outputs": [],
   "source": []
  },
  {
   "cell_type": "code",
   "execution_count": 337,
   "id": "26cef425",
   "metadata": {},
   "outputs": [],
   "source": [
    "s1d = 30\n",
    "#aaa = mmn_queueing_jsq_weibull(4,8,weibull_scale_calculator(1/2.2,0.5),0.5,simulation_time=2000,simuseed=s1d)\n",
    "#bbb = mmn_queueing_redundancy_dos_weibull(4,4,8,weibull_scale_calculator(1/2.2,0.5),0.5,simulation_time=2000,simuseed=s1d)\n",
    "#ccc = mmn_queueing_redundancy_doc_weibull(4,4,8,weibull_scale_calculator(1/2.2,0.5),0.5,simulation_time=2000,simuseed=s1d)\n",
    "#ddd = mmn_queueing_jsq(4,8,2.2,simulation_time=4000,simuseed=s1d,policy='jiq1')\n",
    "#eee = mmn_queueing_jsq(4,8,2.2,simulation_time=4000,simuseed=s1d,policy='jsq1')\n",
    "fff = mmn_queueing_redundancy_doc(4,4,8,2.2,simulation_time=4000,simuseed=s1d)"
   ]
  },
  {
   "cell_type": "code",
   "execution_count": null,
   "id": "195a1715",
   "metadata": {
    "scrolled": true
   },
   "outputs": [],
   "source": [
    "system_compare(fff,eee)"
   ]
  },
  {
   "cell_type": "code",
   "execution_count": null,
   "id": "c0d696ff",
   "metadata": {},
   "outputs": [],
   "source": [
    "fff[8]"
   ]
  },
  {
   "cell_type": "code",
   "execution_count": null,
   "id": "a94bac7b",
   "metadata": {},
   "outputs": [],
   "source": []
  },
  {
   "cell_type": "code",
   "execution_count": null,
   "id": "9a1b0f72",
   "metadata": {},
   "outputs": [],
   "source": []
  },
  {
   "cell_type": "code",
   "execution_count": 50,
   "id": "e095257e",
   "metadata": {},
   "outputs": [
    {
     "data": {
      "text/plain": [
       "Ttest_relResult(statistic=0.6235277145514919, pvalue=0.53656774714141)"
      ]
     },
     "execution_count": 50,
     "metadata": {},
     "output_type": "execute_result"
    }
   ],
   "source": [
    "stats.ttest_rel(data1['jsq_2000'], data1['jsq_4000'])"
   ]
  },
  {
   "cell_type": "code",
   "execution_count": 51,
   "id": "49f52c76",
   "metadata": {},
   "outputs": [
    {
     "data": {
      "text/plain": [
       "Ttest_relResult(statistic=0.46367188623859523, pvalue=0.6454603855924186)"
      ]
     },
     "execution_count": 51,
     "metadata": {},
     "output_type": "execute_result"
    }
   ],
   "source": [
    "stats.ttest_rel(data1['jiq_2000'], data1['jiq_4000'])"
   ]
  },
  {
   "cell_type": "code",
   "execution_count": 52,
   "id": "c3eab2bd",
   "metadata": {},
   "outputs": [
    {
     "data": {
      "text/plain": [
       "Ttest_relResult(statistic=0.6235277145514919, pvalue=0.53656774714141)"
      ]
     },
     "execution_count": 52,
     "metadata": {},
     "output_type": "execute_result"
    }
   ],
   "source": [
    "stats.ttest_rel(data1['jswq_2000'], data1['jswq_4000'])"
   ]
  },
  {
   "cell_type": "code",
   "execution_count": 53,
   "id": "82318fb1",
   "metadata": {},
   "outputs": [
    {
     "data": {
      "text/plain": [
       "Ttest_relResult(statistic=-0.7595495376631464, pvalue=0.45209084262645827)"
      ]
     },
     "execution_count": 53,
     "metadata": {},
     "output_type": "execute_result"
    }
   ],
   "source": [
    "stats.ttest_rel(data1['dos_2000'], data1['dos_4000'])"
   ]
  },
  {
   "cell_type": "code",
   "execution_count": 54,
   "id": "5d1109d7",
   "metadata": {},
   "outputs": [
    {
     "data": {
      "text/plain": [
       "Ttest_relResult(statistic=-0.2864186565457613, pvalue=0.7760735547786916)"
      ]
     },
     "execution_count": 54,
     "metadata": {},
     "output_type": "execute_result"
    }
   ],
   "source": [
    "stats.ttest_rel(data1['doc_2000'], data1['doc_4000'])"
   ]
  },
  {
   "cell_type": "code",
   "execution_count": null,
   "id": "e840a441",
   "metadata": {},
   "outputs": [],
   "source": []
  },
  {
   "cell_type": "code",
   "execution_count": 61,
   "id": "d64dcdcb",
   "metadata": {},
   "outputs": [
    {
     "data": {
      "text/plain": [
       "1.444892025"
      ]
     },
     "execution_count": 61,
     "metadata": {},
     "output_type": "execute_result"
    }
   ],
   "source": [
    "stat.mean(data1['dos_2000'])"
   ]
  },
  {
   "cell_type": "code",
   "execution_count": 62,
   "id": "d11c70b6",
   "metadata": {},
   "outputs": [
    {
     "data": {
      "text/plain": [
       "1.46128565"
      ]
     },
     "execution_count": 62,
     "metadata": {},
     "output_type": "execute_result"
    }
   ],
   "source": [
    "stat.mean(data1['dos_4000'])"
   ]
  },
  {
   "cell_type": "code",
   "execution_count": null,
   "id": "a8d088de",
   "metadata": {},
   "outputs": [],
   "source": []
  },
  {
   "cell_type": "markdown",
   "id": "94be413b",
   "metadata": {},
   "source": [
    "Stability Analysis"
   ]
  },
  {
   "cell_type": "code",
   "execution_count": 64,
   "id": "29ab9237",
   "metadata": {},
   "outputs": [],
   "source": [
    "#stab_sys = mmn_queueing_jsq(4,8,2.2,simulation_time=2000,simuseed=66,policy='jsq1')"
   ]
  },
  {
   "cell_type": "code",
   "execution_count": 179,
   "id": "66b66fe2",
   "metadata": {},
   "outputs": [],
   "source": [
    "def stab(system1,system2):\n",
    "    \n",
    "    a1 = system1[0].iloc[np.where(system1[0][\"Time\"][1:].to_numpy() != system1[0][\"Next Customer\"][:-1].to_numpy())[0][:-1]+1,:]\n",
    "    b2 = system2[0].iloc[np.where(system2[0][\"Time\"][1:].to_numpy() != system2[0][\"Next Customer\"][:-1].to_numpy())[0][:-1]+1,:]\n",
    "    \n",
    "    plt.figure(1)\n",
    "    plt.plot(a1['Time'],a1['Live_track'],label='stable system')\n",
    "    plt.plot(b2['Time'],b2['Live_track'],label=comp_model)\n",
    "    plt.xlabel('Time')\n",
    "    plt.ylabel('# Customers')\n",
    "    plt.legend()\n",
    "    \n",
    "    \n",
    "#     a0pos = system1[0]['Time'].to_numpy()[np.where(system1[0]['Server1 Queue']==0)[0]]\n",
    "#     b0pos = system2[0]['Time'].to_numpy()[np.where(system2[0]['Server1 Queue']==0)[0]]\n",
    "#     data = [a0pos, b0pos]\n",
    "#     fig, ax = plt.subplots()\n",
    "#     ax.boxplot(data,vert=False)\n",
    "#     ax.set_yticklabels(['Stable system', comp_model])\n",
    "#     ax.set_xlabel('Simulation Time')\n",
    "#     plt.show()\n",
    "    \n",
    "    #plt.savefig('my_plot.jpg')\n",
    "    "
   ]
  },
  {
   "cell_type": "code",
   "execution_count": 200,
   "id": "07eaa8af",
   "metadata": {},
   "outputs": [],
   "source": [
    "comp_model = 'DOC'\n",
    "#aaa = mmn_queueing_jsq_weibull(4,8,scl_dec,0.5,simulation_time=2000,simuseed=1)\n",
    "bbb = mmn_queueing_redundancy_doc_weibull(4,4,8,scl_dec,0.5,simulation_time=2000,simuseed=1)\n",
    "#ccc = mmn_queueing_redundancy_doc_weibull(4,4,8,scl_dec,0.5,simulation_time=2000,simuseed=1)\n",
    "#ddd = mmn_queueing_jsq(4,8,[1.5,2,4,1],simulation_time=2000,simuseed=1,policy=comp_model)\n",
    "#eee = mmn_queueing_jsq(4,8,2.2,simulation_time=2000,simuseed=s1d,policy=comp_model)\n",
    "#fff = mmn_queueing_redundancy_doc_identical(4,4,8,[1.5,2,4,1],simulation_time=2000,simuseed=1)"
   ]
  },
  {
   "cell_type": "code",
   "execution_count": 201,
   "id": "e288e989",
   "metadata": {},
   "outputs": [
    {
     "data": {
      "image/png": "[encoded data removed]",
      "text/plain": [
       "<Figure size 432x288 with 1 Axes>"
      ]
     },
     "metadata": {
      "needs_background": "light"
     },
     "output_type": "display_data"
    }
   ],
   "source": [
    "stab(stab_sys,bbb)"
   ]
  },
  {
   "cell_type": "code",
   "execution_count": null,
   "id": "333094af",
   "metadata": {},
   "outputs": [],
   "source": []
  },
  {
   "cell_type": "code",
   "execution_count": null,
   "id": "3c3e9ab8",
   "metadata": {},
   "outputs": [],
   "source": []
  },
  {
   "cell_type": "code",
   "execution_count": null,
   "id": "ba1918e1",
   "metadata": {},
   "outputs": [],
   "source": []
  },
  {
   "cell_type": "code",
   "execution_count": null,
   "id": "983dfe2a",
   "metadata": {},
   "outputs": [],
   "source": []
  },
  {
   "cell_type": "code",
   "execution_count": null,
   "id": "4ab0d80b",
   "metadata": {},
   "outputs": [],
   "source": []
  },
  {
   "cell_type": "code",
   "execution_count": null,
   "id": "93e58b26",
   "metadata": {},
   "outputs": [],
   "source": []
  },
  {
   "cell_type": "code",
   "execution_count": null,
   "id": "e690fb0d",
   "metadata": {},
   "outputs": [],
   "source": []
  },
  {
   "cell_type": "code",
   "execution_count": null,
   "id": "92431194",
   "metadata": {},
   "outputs": [],
   "source": []
  },
  {
   "cell_type": "code",
   "execution_count": null,
   "id": "765e6668",
   "metadata": {},
   "outputs": [],
   "source": []
  },
  {
   "cell_type": "markdown",
   "id": "36c325e9",
   "metadata": {},
   "source": [
    "Homo"
   ]
  },
  {
   "cell_type": "code",
   "execution_count": 831,
   "id": "70d1c8ce",
   "metadata": {},
   "outputs": [],
   "source": [
    "s1d = 13\n",
    "#aaa = mmn_queueing_jsq_weibull(4,8,weibull_scale_calculator(1/2.2,0.5),0.5,simulation_time=2000,simuseed=s1d)\n",
    "#bbb = mmn_queueing_redundancy_dos_weibull(4,4,8,weibull_scale_calculator(1/2.2,0.5),0.5,simulation_time=2000,simuseed=s1d)\n",
    "ccc = mmn_queueing_redundancy_doc_weibull(4,4,8,weibull_scale_calculator(1/2.2,0.5),0.5,simulation_time=2000,simuseed=s1d)"
   ]
  },
  {
   "cell_type": "code",
   "execution_count": null,
   "id": "bfd405b6",
   "metadata": {
    "scrolled": true
   },
   "outputs": [],
   "source": [
    "system_compare(ccc,ddd)"
   ]
  },
  {
   "cell_type": "code",
   "execution_count": null,
   "id": "f4ee3109",
   "metadata": {},
   "outputs": [],
   "source": [
    "ccc[8]"
   ]
  },
  {
   "cell_type": "code",
   "execution_count": null,
   "id": "be57d930",
   "metadata": {},
   "outputs": [],
   "source": []
  },
  {
   "cell_type": "code",
   "execution_count": null,
   "id": "59e6255b",
   "metadata": {},
   "outputs": [],
   "source": []
  },
  {
   "cell_type": "code",
   "execution_count": null,
   "id": "eb015d1a",
   "metadata": {},
   "outputs": [],
   "source": []
  },
  {
   "cell_type": "code",
   "execution_count": 425,
   "id": "0788f5e5",
   "metadata": {},
   "outputs": [],
   "source": [
    "#abcde = data2.iloc[:,:6]\n",
    "#abcde.columns = ['jsq1','jsq2','jiq','jswq','DOS','DOC']\n",
    "# abcde = data2.iloc[:,10:12]\n",
    "# abcde.columns = ['jsq1_weibull_inc','dos_weibull_inc']\n",
    "# abcde = data2.iloc[:,14:17]\n",
    "# abcde.columns = ['jsq1_weibull_dec','dos_weibull_dec','doc_weibull_dec']\n",
    "abcde = data3.iloc[:,14:17]\n",
    "abcde.columns = ['jsq1_weibull_dec','dos_weibull_dec','doc_weibull_dec']"
   ]
  },
  {
   "cell_type": "code",
   "execution_count": 426,
   "id": "fe75fa08",
   "metadata": {},
   "outputs": [
    {
     "data": {
      "text/html": [
       "<div>\n",
       "<style scoped>\n",
       "    .dataframe tbody tr th:only-of-type {\n",
       "        vertical-align: middle;\n",
       "    }\n",
       "\n",
       "    .dataframe tbody tr th {\n",
       "        vertical-align: top;\n",
       "    }\n",
       "\n",
       "    .dataframe thead th {\n",
       "        text-align: right;\n",
       "    }\n",
       "</style>\n",
       "<table border=\"1\" class=\"dataframe\">\n",
       "  <thead>\n",
       "    <tr style=\"text-align: right;\">\n",
       "      <th></th>\n",
       "      <th>jsq1_weibull_dec</th>\n",
       "      <th>dos_weibull_dec</th>\n",
       "      <th>doc_weibull_dec</th>\n",
       "    </tr>\n",
       "  </thead>\n",
       "  <tbody>\n",
       "    <tr>\n",
       "      <th>count</th>\n",
       "      <td>40.000</td>\n",
       "      <td>40.000</td>\n",
       "      <td>40.000</td>\n",
       "    </tr>\n",
       "    <tr>\n",
       "      <th>mean</th>\n",
       "      <td>5.849</td>\n",
       "      <td>5.512</td>\n",
       "      <td>0.063</td>\n",
       "    </tr>\n",
       "    <tr>\n",
       "      <th>std</th>\n",
       "      <td>1.693</td>\n",
       "      <td>3.382</td>\n",
       "      <td>0.003</td>\n",
       "    </tr>\n",
       "    <tr>\n",
       "      <th>min</th>\n",
       "      <td>3.676</td>\n",
       "      <td>2.701</td>\n",
       "      <td>0.054</td>\n",
       "    </tr>\n",
       "    <tr>\n",
       "      <th>25%</th>\n",
       "      <td>4.957</td>\n",
       "      <td>4.012</td>\n",
       "      <td>0.061</td>\n",
       "    </tr>\n",
       "    <tr>\n",
       "      <th>50%</th>\n",
       "      <td>5.510</td>\n",
       "      <td>4.511</td>\n",
       "      <td>0.064</td>\n",
       "    </tr>\n",
       "    <tr>\n",
       "      <th>75%</th>\n",
       "      <td>6.488</td>\n",
       "      <td>5.625</td>\n",
       "      <td>0.065</td>\n",
       "    </tr>\n",
       "    <tr>\n",
       "      <th>max</th>\n",
       "      <td>12.543</td>\n",
       "      <td>23.377</td>\n",
       "      <td>0.070</td>\n",
       "    </tr>\n",
       "  </tbody>\n",
       "</table>\n",
       "</div>"
      ],
      "text/plain": [
       "       jsq1_weibull_dec  dos_weibull_dec  doc_weibull_dec\n",
       "count            40.000           40.000           40.000\n",
       "mean              5.849            5.512            0.063\n",
       "std               1.693            3.382            0.003\n",
       "min               3.676            2.701            0.054\n",
       "25%               4.957            4.012            0.061\n",
       "50%               5.510            4.511            0.064\n",
       "75%               6.488            5.625            0.065\n",
       "max              12.543           23.377            0.070"
      ]
     },
     "execution_count": 426,
     "metadata": {},
     "output_type": "execute_result"
    }
   ],
   "source": [
    "abcde.describe().round(3)"
   ]
  },
  {
   "cell_type": "code",
   "execution_count": 428,
   "id": "4b0e6921",
   "metadata": {},
   "outputs": [
    {
     "data": {
      "image/png": "[encoded data removed]",
      "text/plain": [
       "<Figure size 432x288 with 1 Axes>"
      ]
     },
     "metadata": {
      "needs_background": "light"
     },
     "output_type": "display_data"
    }
   ],
   "source": [
    "fig, ax = plt.subplots()\n",
    "ax.boxplot(abcde)\n",
    "#ax.set_xticklabels(['jsq1','jsq2','jiq1','jswq','DOS','DOC'])\n",
    "#ax.set_xticklabels(['jsq1_weibull_inc','dos_weibull_inc'])\n",
    "ax.set_xticklabels(['jsq1_weibull_dec','dos_weibull_dec','doc_weibull_dec'])\n",
    "#ax.set_xticklabels(['jsq1','jsq2','jswq','DOS','DOC'])\n",
    "ax.set_ylabel('ACT')\n",
    "plt.show()"
   ]
  },
  {
   "cell_type": "code",
   "execution_count": null,
   "id": "0c8ef4dc",
   "metadata": {},
   "outputs": [],
   "source": []
  },
  {
   "cell_type": "code",
   "execution_count": 241,
   "id": "46640afc",
   "metadata": {},
   "outputs": [
    {
     "data": {
      "text/plain": [
       "Ttest_relResult(statistic=2.8311767550694005, pvalue=0.0072970001501378185)"
      ]
     },
     "execution_count": 241,
     "metadata": {},
     "output_type": "execute_result"
    }
   ],
   "source": [
    "stats.ttest_rel(abcde['jsq1'], abcde['jswq'])"
   ]
  },
  {
   "cell_type": "code",
   "execution_count": null,
   "id": "c535aed4",
   "metadata": {},
   "outputs": [],
   "source": []
  },
  {
   "cell_type": "code",
   "execution_count": 429,
   "id": "02fc1389",
   "metadata": {},
   "outputs": [
    {
     "data": {
      "text/html": [
       "<div>\n",
       "<style scoped>\n",
       "    .dataframe tbody tr th:only-of-type {\n",
       "        vertical-align: middle;\n",
       "    }\n",
       "\n",
       "    .dataframe tbody tr th {\n",
       "        vertical-align: top;\n",
       "    }\n",
       "\n",
       "    .dataframe thead th {\n",
       "        text-align: right;\n",
       "    }\n",
       "</style>\n",
       "<table border=\"1\" class=\"dataframe\">\n",
       "  <thead>\n",
       "    <tr style=\"text-align: right;\">\n",
       "      <th></th>\n",
       "      <th>jsq1_weibull_dec</th>\n",
       "      <th>dos_weibull_dec</th>\n",
       "      <th>doc_weibull_dec</th>\n",
       "    </tr>\n",
       "  </thead>\n",
       "  <tbody>\n",
       "    <tr>\n",
       "      <th>jsq1_weibull_dec</th>\n",
       "      <td>NaN</td>\n",
       "      <td>0.513</td>\n",
       "      <td>0.0</td>\n",
       "    </tr>\n",
       "    <tr>\n",
       "      <th>dos_weibull_dec</th>\n",
       "      <td>0.513</td>\n",
       "      <td>NaN</td>\n",
       "      <td>0.0</td>\n",
       "    </tr>\n",
       "    <tr>\n",
       "      <th>doc_weibull_dec</th>\n",
       "      <td>0.000</td>\n",
       "      <td>0.000</td>\n",
       "      <td>NaN</td>\n",
       "    </tr>\n",
       "  </tbody>\n",
       "</table>\n",
       "</div>"
      ],
      "text/plain": [
       "                  jsq1_weibull_dec  dos_weibull_dec  doc_weibull_dec\n",
       "jsq1_weibull_dec               NaN            0.513              0.0\n",
       "dos_weibull_dec              0.513              NaN              0.0\n",
       "doc_weibull_dec              0.000            0.000              NaN"
      ]
     },
     "execution_count": 429,
     "metadata": {},
     "output_type": "execute_result"
    }
   ],
   "source": [
    "col_n = abcde.columns\n",
    "res = np.zeros([3,3])\n",
    "for i in range(3):\n",
    "    for j in range(3):\n",
    "        res[i,j] = stats.ttest_rel(abcde[col_n[i]], abcde[col_n[j]])[1].round(3)\n",
    "res_df = pd.DataFrame(res)\n",
    "res_df.columns = col_n\n",
    "res_df.index = col_n\n",
    "res_df"
   ]
  },
  {
   "cell_type": "code",
   "execution_count": 430,
   "id": "a44fa9ac",
   "metadata": {},
   "outputs": [
    {
     "data": {
      "text/html": [
       "<div>\n",
       "<style scoped>\n",
       "    .dataframe tbody tr th:only-of-type {\n",
       "        vertical-align: middle;\n",
       "    }\n",
       "\n",
       "    .dataframe tbody tr th {\n",
       "        vertical-align: top;\n",
       "    }\n",
       "\n",
       "    .dataframe thead th {\n",
       "        text-align: right;\n",
       "    }\n",
       "</style>\n",
       "<table border=\"1\" class=\"dataframe\">\n",
       "  <thead>\n",
       "    <tr style=\"text-align: right;\">\n",
       "      <th></th>\n",
       "      <th>jsq1_weibull_dec</th>\n",
       "      <th>dos_weibull_dec</th>\n",
       "      <th>doc_weibull_dec</th>\n",
       "    </tr>\n",
       "  </thead>\n",
       "  <tbody>\n",
       "    <tr>\n",
       "      <th>jsq1_weibull_dec</th>\n",
       "      <td>NaN</td>\n",
       "      <td>0.660</td>\n",
       "      <td>21.633</td>\n",
       "    </tr>\n",
       "    <tr>\n",
       "      <th>dos_weibull_dec</th>\n",
       "      <td>-0.660</td>\n",
       "      <td>NaN</td>\n",
       "      <td>10.194</td>\n",
       "    </tr>\n",
       "    <tr>\n",
       "      <th>doc_weibull_dec</th>\n",
       "      <td>-21.633</td>\n",
       "      <td>-10.194</td>\n",
       "      <td>NaN</td>\n",
       "    </tr>\n",
       "  </tbody>\n",
       "</table>\n",
       "</div>"
      ],
      "text/plain": [
       "                  jsq1_weibull_dec  dos_weibull_dec  doc_weibull_dec\n",
       "jsq1_weibull_dec               NaN            0.660           21.633\n",
       "dos_weibull_dec             -0.660              NaN           10.194\n",
       "doc_weibull_dec            -21.633          -10.194              NaN"
      ]
     },
     "execution_count": 430,
     "metadata": {},
     "output_type": "execute_result"
    }
   ],
   "source": [
    "col_n = abcde.columns\n",
    "res = np.zeros([3,3])\n",
    "for i in range(3):\n",
    "    for j in range(3):\n",
    "        res[i,j] = stats.ttest_rel(abcde[col_n[i]], abcde[col_n[j]])[0].round(3)\n",
    "res_df = pd.DataFrame(res)\n",
    "res_df.columns = col_n\n",
    "res_df.index = col_n\n",
    "res_df"
   ]
  },
  {
   "cell_type": "code",
   "execution_count": null,
   "id": "24d8f647",
   "metadata": {},
   "outputs": [],
   "source": []
  },
  {
   "cell_type": "code",
   "execution_count": null,
   "id": "741ef724",
   "metadata": {},
   "outputs": [],
   "source": []
  },
  {
   "cell_type": "code",
   "execution_count": null,
   "id": "235b4a01",
   "metadata": {},
   "outputs": [],
   "source": []
  },
  {
   "cell_type": "code",
   "execution_count": null,
   "id": "056fa968",
   "metadata": {},
   "outputs": [],
   "source": []
  },
  {
   "cell_type": "markdown",
   "id": "b81eb11b",
   "metadata": {},
   "source": [
    "Hetero"
   ]
  },
  {
   "cell_type": "code",
   "execution_count": 170,
   "id": "85bbfba3",
   "metadata": {},
   "outputs": [],
   "source": [
    "scl_inc = [weibull_scale_calculator(1/1.5,2),weibull_scale_calculator(1/2,2),\\\n",
    "           weibull_scale_calculator(1/4,2),weibull_scale_calculator(1/1,2)]\n",
    "\n",
    "scl_dec = [weibull_scale_calculator(1/1.5,0.5),weibull_scale_calculator(1/2,0.5),\\\n",
    "           weibull_scale_calculator(1/4,0.5),weibull_scale_calculator(1/1,0.5)]"
   ]
  },
  {
   "cell_type": "code",
   "execution_count": 750,
   "id": "b3a51d49",
   "metadata": {},
   "outputs": [],
   "source": [
    "s1d = 40\n",
    "aaa = mmn_queueing_jsq_weibull(4,8,scl_dec,0.5,simulation_time=2000,simuseed=s1d)\n",
    "bbb = mmn_queueing_redundancy_dos_weibull(4,4,8,scl_dec,0.5,simulation_time=2000,simuseed=s1d)\n",
    "#ccc = mmn_queueing_redundancy_doc_weibull(4,4,8,scl_dec,0.5,simulation_time=2000,simuseed=s1d)\n",
    "#ddd = mmn_queueing_jsq(4,8,[1.5,2,4,1],simulation_time=2000,simuseed=s1d,policy='jsq2')\n",
    "#eee = mmn_queueing_jsq(4,8,2.2,simulation_time=2000,simuseed=s1d,policy='jsq1')\n",
    "#fff = mmn_queueing_redundancy_dos_identical(4,4,8,[1.5,2,4,1],simulation_time=2000,simuseed=s1d)"
   ]
  },
  {
   "cell_type": "code",
   "execution_count": null,
   "id": "762cd924",
   "metadata": {
    "scrolled": true
   },
   "outputs": [],
   "source": [
    "system_compare(aaa,bbb)"
   ]
  },
  {
   "cell_type": "code",
   "execution_count": null,
   "id": "4d88ac3f",
   "metadata": {},
   "outputs": [],
   "source": [
    "aaa[8]"
   ]
  },
  {
   "cell_type": "code",
   "execution_count": null,
   "id": "2433ac67",
   "metadata": {},
   "outputs": [],
   "source": [
    "bbb[8]"
   ]
  },
  {
   "cell_type": "code",
   "execution_count": null,
   "id": "7328c41c",
   "metadata": {},
   "outputs": [],
   "source": []
  },
  {
   "cell_type": "code",
   "execution_count": null,
   "id": "7dd0e5e6",
   "metadata": {},
   "outputs": [],
   "source": []
  },
  {
   "cell_type": "code",
   "execution_count": null,
   "id": "e3bfb3f7",
   "metadata": {},
   "outputs": [],
   "source": []
  },
  {
   "cell_type": "markdown",
   "id": "87d35fc9",
   "metadata": {},
   "source": [
    "other"
   ]
  },
  {
   "cell_type": "markdown",
   "id": "9c7469ca",
   "metadata": {},
   "source": [
    "All stable homo"
   ]
  },
  {
   "cell_type": "code",
   "execution_count": null,
   "id": "5ca781da",
   "metadata": {},
   "outputs": [],
   "source": [
    "system_compare(hetero_weibull_dos_dec,hetero_weibull_doc_dec)"
   ]
  },
  {
   "cell_type": "code",
   "execution_count": null,
   "id": "aef8e3e2",
   "metadata": {},
   "outputs": [],
   "source": [
    "hetero_weibull_doc_dec[8]"
   ]
  },
  {
   "cell_type": "code",
   "execution_count": null,
   "id": "788e95b8",
   "metadata": {},
   "outputs": [],
   "source": []
  },
  {
   "cell_type": "code",
   "execution_count": 275,
   "id": "5a7cf77c",
   "metadata": {},
   "outputs": [],
   "source": [
    "stab_sys = mmn_queueing_jsq(4,8,8.2,simulation_time=5000,simuseed=1) #homo_exp_jsq1"
   ]
  },
  {
   "cell_type": "code",
   "execution_count": 292,
   "id": "966897a4",
   "metadata": {},
   "outputs": [],
   "source": [
    "homo_exp_jsq2 = mmn_queueing_jsq(4,8,8.2,simulation_time=5000,simuseed=2,policy='jsq2')"
   ]
  },
  {
   "cell_type": "code",
   "execution_count": 293,
   "id": "ab1d3452",
   "metadata": {},
   "outputs": [],
   "source": [
    "homo_exp_jiq1 = mmn_queueing_jsq(4,8,8.2,simulation_time=5000,simuseed=3,policy='jiq1')"
   ]
  },
  {
   "cell_type": "code",
   "execution_count": 294,
   "id": "db93bc7b",
   "metadata": {},
   "outputs": [],
   "source": [
    "homo_exp_jswq = mmn_queueing_jsq(4,8,8.2,simulation_time=5000,simuseed=4,policy='jswq')"
   ]
  },
  {
   "cell_type": "code",
   "execution_count": 302,
   "id": "a2392d23",
   "metadata": {},
   "outputs": [],
   "source": [
    "homo_exp_dos = mmn_queueing_redundancy_dos(4,4,8,8.2,simulation_time=5000,simuseed=5)"
   ]
  },
  {
   "cell_type": "code",
   "execution_count": 303,
   "id": "c1f7679a",
   "metadata": {},
   "outputs": [],
   "source": [
    "homo_exp_doc = mmn_queueing_redundancy_doc(4,4,8,8.2,simulation_time=5000,simuseed=6)"
   ]
  },
  {
   "cell_type": "code",
   "execution_count": 307,
   "id": "ae9cce07",
   "metadata": {},
   "outputs": [],
   "source": [
    "homo_exp_ident_dos = mmn_queueing_redundancy_dos_identical(4,4,8,8.2,simulation_time=5000,simuseed=7)"
   ]
  },
  {
   "cell_type": "code",
   "execution_count": 308,
   "id": "9dfd69b9",
   "metadata": {},
   "outputs": [],
   "source": [
    "homo_exp_ident_doc = mmn_queueing_redundancy_doc_identical(4,4,8,8.2,simulation_time=5000,simuseed=8)"
   ]
  },
  {
   "cell_type": "code",
   "execution_count": 312,
   "id": "74ffc480",
   "metadata": {},
   "outputs": [],
   "source": [
    "homo_weibull_jsq1_inc = mmn_queueing_jsq_weibull(4,8,weibull_scale_calculator(1/8.2,2),2,simulation_time=5000,simuseed=9)"
   ]
  },
  {
   "cell_type": "code",
   "execution_count": 313,
   "id": "b8d7b1da",
   "metadata": {},
   "outputs": [],
   "source": [
    "homo_weibull_dos_inc = mmn_queueing_redundancy_doc_weibull(4,4,8,weibull_scale_calculator(1/8.2,2),2,simulation_time=5000,simuseed=10)"
   ]
  },
  {
   "cell_type": "code",
   "execution_count": 317,
   "id": "28febc43",
   "metadata": {},
   "outputs": [],
   "source": [
    "homo_weibull_doc_inc = mmn_queueing_redundancy_doc_weibull(4,4,8,weibull_scale_calculator(1/8.2,2),2,simulation_time=5000,simuseed=11)"
   ]
  },
  {
   "cell_type": "code",
   "execution_count": 318,
   "id": "44aa9bee",
   "metadata": {},
   "outputs": [],
   "source": [
    "homo_weibull_jsq1_dec = mmn_queueing_jsq_weibull(4,8,weibull_scale_calculator(1/8.2,0.5),0.5,simulation_time=5000,simuseed=12)"
   ]
  },
  {
   "cell_type": "code",
   "execution_count": 322,
   "id": "50d3534a",
   "metadata": {},
   "outputs": [],
   "source": [
    "homo_weibull_dos_dec = mmn_queueing_redundancy_doc_weibull(4,4,8,weibull_scale_calculator(1/8.2,0.5),0.5,simulation_time=5000,simuseed=13)"
   ]
  },
  {
   "cell_type": "code",
   "execution_count": 324,
   "id": "32a7be90",
   "metadata": {},
   "outputs": [],
   "source": [
    "homo_weibull_doc_dec = mmn_queueing_redundancy_doc_weibull(4,4,8,weibull_scale_calculator(1/8.2,0.5),0.5,simulation_time=5000,simuseed=14)"
   ]
  },
  {
   "cell_type": "code",
   "execution_count": null,
   "id": "35858ed1",
   "metadata": {},
   "outputs": [],
   "source": []
  },
  {
   "cell_type": "markdown",
   "id": "aa9e0682",
   "metadata": {},
   "source": [
    "All stable hetero"
   ]
  },
  {
   "cell_type": "code",
   "execution_count": 328,
   "id": "0a2f2b60",
   "metadata": {},
   "outputs": [],
   "source": [
    "hetero_exp_jsq1 = mmn_queueing_jsq(4,8,[6,8,16,4],simulation_time=5000,simuseed=1)"
   ]
  },
  {
   "cell_type": "code",
   "execution_count": 329,
   "id": "471447ca",
   "metadata": {},
   "outputs": [],
   "source": [
    "hetero_exp_jsq2 = mmn_queueing_jsq(4,8,[6,8,16,4],simulation_time=5000,simuseed=2,policy='jsq2')"
   ]
  },
  {
   "cell_type": "code",
   "execution_count": 330,
   "id": "d84adbd3",
   "metadata": {},
   "outputs": [],
   "source": [
    "hetero_exp_jiq1 = mmn_queueing_jsq(4,8,[6,8,16,4],simulation_time=5000,simuseed=3,policy='jiq1')"
   ]
  },
  {
   "cell_type": "code",
   "execution_count": 331,
   "id": "8de75b5a",
   "metadata": {},
   "outputs": [],
   "source": [
    "hetero_exp_jswq = mmn_queueing_jsq(4,8,[6,8,16,4],simulation_time=5000,simuseed=4,policy='jswq')"
   ]
  },
  {
   "cell_type": "code",
   "execution_count": 338,
   "id": "3edbdc83",
   "metadata": {},
   "outputs": [],
   "source": [
    "hetero_exp_dos = mmn_queueing_redundancy_dos(4,4,8,[6,8,16,4],simulation_time=5000,simuseed=5)"
   ]
  },
  {
   "cell_type": "code",
   "execution_count": 339,
   "id": "cbc062d3",
   "metadata": {},
   "outputs": [],
   "source": [
    "hetero_exp_doc = mmn_queueing_redundancy_doc(4,4,8,[6,8,16,4],simulation_time=5000,simuseed=6)"
   ]
  },
  {
   "cell_type": "code",
   "execution_count": 340,
   "id": "d58977b0",
   "metadata": {},
   "outputs": [],
   "source": [
    "hetero_exp_ident_dos = mmn_queueing_redundancy_dos_identical(4,4,8,[6,8,16,4],simulation_time=5000,simuseed=7)"
   ]
  },
  {
   "cell_type": "code",
   "execution_count": 341,
   "id": "d4f9dd52",
   "metadata": {},
   "outputs": [],
   "source": [
    "hetero_exp_ident_doc = mmn_queueing_redundancy_doc_identical(4,4,8,[6,8,16,4],simulation_time=5000,simuseed=8)"
   ]
  },
  {
   "cell_type": "code",
   "execution_count": 348,
   "id": "124a1ecf",
   "metadata": {},
   "outputs": [],
   "source": [
    "hetero_weibull_jsq1_inc = mmn_queueing_jsq_weibull(4,8,[weibull_scale_calculator(1/6,2),weibull_scale_calculator(1/8,2),\\\n",
    "                                                 weibull_scale_calculator(1/16,2),weibull_scale_calculator(1/4,2)],\n",
    "                                                 2,simulation_time=5000,simuseed=9)"
   ]
  },
  {
   "cell_type": "code",
   "execution_count": 349,
   "id": "da0e6d6b",
   "metadata": {},
   "outputs": [],
   "source": [
    "hetero_weibull_dos_inc = mmn_queueing_redundancy_doc_weibull(4,4,8,[weibull_scale_calculator(1/6,2),weibull_scale_calculator(1/8,2),\\\n",
    "                                                 weibull_scale_calculator(1/16,2),weibull_scale_calculator(1/4,2)],\n",
    "                                                             2,simulation_time=5000,simuseed=10)"
   ]
  },
  {
   "cell_type": "code",
   "execution_count": 353,
   "id": "7fe86588",
   "metadata": {},
   "outputs": [],
   "source": [
    "hetero_weibull_doc_inc = mmn_queueing_redundancy_doc_weibull(4,4,8,[weibull_scale_calculator(1/6,2),weibull_scale_calculator(1/8,2),\\\n",
    "                                                 weibull_scale_calculator(1/16,2),weibull_scale_calculator(1/4,2)],\n",
    "                                                             2,simulation_time=5000,simuseed=11)"
   ]
  },
  {
   "cell_type": "code",
   "execution_count": 354,
   "id": "22843457",
   "metadata": {},
   "outputs": [],
   "source": [
    "hetero_weibull_jsq1_dec = mmn_queueing_jsq_weibull(4,8,[weibull_scale_calculator(1/6,0.5),weibull_scale_calculator(1/8,0.5),\\\n",
    "                                                 weibull_scale_calculator(1/16,0.5),weibull_scale_calculator(1/4,0.5)],\n",
    "                                                   0.5,simulation_time=5000,simuseed=12)"
   ]
  },
  {
   "cell_type": "code",
   "execution_count": 364,
   "id": "f0cfdbcf",
   "metadata": {},
   "outputs": [],
   "source": [
    "hetero_weibull_dos_dec = mmn_queueing_redundancy_doc_weibull(4,4,8,[weibull_scale_calculator(1/6,0.5),weibull_scale_calculator(1/8,0.5),\\\n",
    "                                                 weibull_scale_calculator(1/16,0.5),weibull_scale_calculator(1/4,0.5)],\n",
    "                                                             0.5,simulation_time=5000,simuseed=13)"
   ]
  },
  {
   "cell_type": "code",
   "execution_count": 365,
   "id": "b8bf1809",
   "metadata": {},
   "outputs": [],
   "source": [
    "hetero_weibull_doc_dec = mmn_queueing_redundancy_doc_weibull(4,4,8,[weibull_scale_calculator(1/6,0.5),weibull_scale_calculator(1/8,0.5),\\\n",
    "                                                 weibull_scale_calculator(1/16,0.5),weibull_scale_calculator(1/4,0.5)],\n",
    "                                                        0.5,simulation_time=5000,simuseed=14)"
   ]
  },
  {
   "cell_type": "code",
   "execution_count": null,
   "id": "431b4001",
   "metadata": {},
   "outputs": [],
   "source": []
  },
  {
   "cell_type": "code",
   "execution_count": null,
   "id": "a997155b",
   "metadata": {},
   "outputs": [],
   "source": []
  },
  {
   "cell_type": "code",
   "execution_count": null,
   "id": "a7793fde",
   "metadata": {},
   "outputs": [],
   "source": []
  },
  {
   "cell_type": "markdown",
   "id": "94dc3a77",
   "metadata": {},
   "source": [
    "All unstable homo"
   ]
  },
  {
   "cell_type": "code",
   "execution_count": null,
   "id": "67f2f22b",
   "metadata": {},
   "outputs": [],
   "source": [
    "unstable_homo_weibull_doc_dec[6]"
   ]
  },
  {
   "cell_type": "code",
   "execution_count": null,
   "id": "ac487aa5",
   "metadata": {},
   "outputs": [],
   "source": []
  },
  {
   "cell_type": "code",
   "execution_count": 369,
   "id": "139c4a88",
   "metadata": {},
   "outputs": [],
   "source": [
    "unstable_homo_exp_jsq1 = mmn_queueing_jsq(4,8,1.2,simulation_time=5000,simuseed=1)"
   ]
  },
  {
   "cell_type": "code",
   "execution_count": 370,
   "id": "bcf75f01",
   "metadata": {},
   "outputs": [],
   "source": [
    "unstable_homo_exp_jsq2 = mmn_queueing_jsq(4,8,1.2,simulation_time=5000,simuseed=2,policy='jsq2')"
   ]
  },
  {
   "cell_type": "code",
   "execution_count": 385,
   "id": "fe699161",
   "metadata": {},
   "outputs": [],
   "source": [
    "unstable_homo_exp_jiq1 = mmn_queueing_jsq(4,8,1.2,simulation_time=5000,simuseed=3,policy='jiq1')"
   ]
  },
  {
   "cell_type": "code",
   "execution_count": 386,
   "id": "dfba21f8",
   "metadata": {},
   "outputs": [],
   "source": [
    "unstable_homo_exp_jswq = mmn_queueing_jsq(4,8,1.2,simulation_time=5000,simuseed=4,policy='jswq')"
   ]
  },
  {
   "cell_type": "code",
   "execution_count": 389,
   "id": "34da186b",
   "metadata": {},
   "outputs": [],
   "source": [
    "unstable_homo_exp_dos = mmn_queueing_redundancy_dos(4,4,8,1.2,simulation_time=5000,simuseed=5)"
   ]
  },
  {
   "cell_type": "code",
   "execution_count": 390,
   "id": "c1135f9c",
   "metadata": {},
   "outputs": [],
   "source": [
    "unstable_homo_exp_doc = mmn_queueing_redundancy_doc(4,4,8,1.2,simulation_time=5000,simuseed=6)"
   ]
  },
  {
   "cell_type": "code",
   "execution_count": 393,
   "id": "ffab1840",
   "metadata": {},
   "outputs": [],
   "source": [
    "unstable_homo_exp_ident_dos = mmn_queueing_redundancy_dos_identical(4,4,8,1.2,simulation_time=5000,simuseed=7)"
   ]
  },
  {
   "cell_type": "code",
   "execution_count": 394,
   "id": "00163f88",
   "metadata": {},
   "outputs": [],
   "source": [
    "unstable_homo_exp_ident_doc = mmn_queueing_redundancy_doc_identical(4,4,8,1.2,simulation_time=5000,simuseed=8)"
   ]
  },
  {
   "cell_type": "code",
   "execution_count": 397,
   "id": "1f345f66",
   "metadata": {},
   "outputs": [],
   "source": [
    "unstable_homo_weibull_jsq1_inc = mmn_queueing_jsq_weibull(4,8,weibull_scale_calculator(1/1.2,2),2,simulation_time=5000,simuseed=9)"
   ]
  },
  {
   "cell_type": "code",
   "execution_count": 398,
   "id": "7211486e",
   "metadata": {},
   "outputs": [],
   "source": [
    "unstable_homo_weibull_dos_inc = mmn_queueing_redundancy_doc_weibull(4,4,8,weibull_scale_calculator(1/1.2,2),2,simulation_time=5000,simuseed=10)"
   ]
  },
  {
   "cell_type": "code",
   "execution_count": 406,
   "id": "033d501f",
   "metadata": {},
   "outputs": [],
   "source": [
    "unstable_homo_weibull_doc_inc = mmn_queueing_redundancy_doc_weibull(4,4,8,weibull_scale_calculator(1/1.2,2),2,simulation_time=5000,simuseed=11)"
   ]
  },
  {
   "cell_type": "code",
   "execution_count": 407,
   "id": "f8a2e559",
   "metadata": {},
   "outputs": [],
   "source": [
    "unstable_homo_weibull_jsq1_dec = mmn_queueing_jsq_weibull(4,8,weibull_scale_calculator(1/1.2,0.5),0.5,simulation_time=5000,simuseed=12)"
   ]
  },
  {
   "cell_type": "code",
   "execution_count": 410,
   "id": "8786d85d",
   "metadata": {},
   "outputs": [],
   "source": [
    "unstable_homo_weibull_dos_dec = mmn_queueing_redundancy_doc_weibull(4,4,8,weibull_scale_calculator(1/1.2,0.5),0.5,simulation_time=5000,simuseed=13)"
   ]
  },
  {
   "cell_type": "code",
   "execution_count": 411,
   "id": "49210eb2",
   "metadata": {},
   "outputs": [],
   "source": [
    "unstable_homo_weibull_doc_dec = mmn_queueing_redundancy_doc_weibull(4,4,8,weibull_scale_calculator(1/1.2,0.5),0.5,simulation_time=5000,simuseed=14)"
   ]
  },
  {
   "cell_type": "code",
   "execution_count": null,
   "id": "4881bdb2",
   "metadata": {},
   "outputs": [],
   "source": []
  },
  {
   "cell_type": "markdown",
   "id": "c0ae3a1d",
   "metadata": {},
   "source": [
    "All unstable hetero"
   ]
  },
  {
   "cell_type": "code",
   "execution_count": 451,
   "id": "75c9047b",
   "metadata": {},
   "outputs": [
    {
     "data": {
      "text/html": [
       "<div>\n",
       "<style scoped>\n",
       "    .dataframe tbody tr th:only-of-type {\n",
       "        vertical-align: middle;\n",
       "    }\n",
       "\n",
       "    .dataframe tbody tr th {\n",
       "        vertical-align: top;\n",
       "    }\n",
       "\n",
       "    .dataframe thead th {\n",
       "        text-align: right;\n",
       "    }\n",
       "</style>\n",
       "<table border=\"1\" class=\"dataframe\">\n",
       "  <thead>\n",
       "    <tr style=\"text-align: right;\">\n",
       "      <th></th>\n",
       "      <th>Server1</th>\n",
       "      <th>Server2</th>\n",
       "      <th>Server3</th>\n",
       "      <th>Server4</th>\n",
       "      <th>Grand total</th>\n",
       "    </tr>\n",
       "  </thead>\n",
       "  <tbody>\n",
       "    <tr>\n",
       "      <th>Arrived customers</th>\n",
       "      <td>7076</td>\n",
       "      <td>13961</td>\n",
       "      <td>8934</td>\n",
       "      <td>9864</td>\n",
       "      <td>39835</td>\n",
       "    </tr>\n",
       "    <tr>\n",
       "      <th>Completed services</th>\n",
       "      <td>7070</td>\n",
       "      <td>13955</td>\n",
       "      <td>8928</td>\n",
       "      <td>9858</td>\n",
       "      <td>39811</td>\n",
       "    </tr>\n",
       "  </tbody>\n",
       "</table>\n",
       "</div>"
      ],
      "text/plain": [
       "                    Server1  Server2  Server3  Server4  Grand total\n",
       "Arrived customers      7076    13961     8934     9864        39835\n",
       "Completed services     7070    13955     8928     9858        39811"
      ]
     },
     "execution_count": 451,
     "metadata": {},
     "output_type": "execute_result"
    }
   ],
   "source": [
    "unstable_hetero_weibull_dos_dec[6]"
   ]
  },
  {
   "cell_type": "code",
   "execution_count": null,
   "id": "22752912",
   "metadata": {},
   "outputs": [],
   "source": []
  },
  {
   "cell_type": "code",
   "execution_count": 414,
   "id": "6334fd76",
   "metadata": {},
   "outputs": [],
   "source": [
    "unstable_hetero_exp_jsq1 = mmn_queueing_jsq(4,8,[0.5,2,0.8,1],simulation_time=5000,simuseed=1)"
   ]
  },
  {
   "cell_type": "code",
   "execution_count": 415,
   "id": "e526b677",
   "metadata": {},
   "outputs": [],
   "source": [
    "unstable_hetero_exp_jsq2 = mmn_queueing_jsq(4,8,[0.5,2,0.8,1],simulation_time=5000,simuseed=2,policy='jsq2')"
   ]
  },
  {
   "cell_type": "code",
   "execution_count": 416,
   "id": "d667ac57",
   "metadata": {},
   "outputs": [],
   "source": [
    "unstable_hetero_exp_jiq1 = mmn_queueing_jsq(4,8,[0.5,2,0.8,1],simulation_time=5000,simuseed=3,policy='jiq1')"
   ]
  },
  {
   "cell_type": "code",
   "execution_count": 417,
   "id": "91a388e8",
   "metadata": {},
   "outputs": [],
   "source": [
    "unstable_hetero_exp_jswq = mmn_queueing_jsq(4,8,[0.5,2,0.8,1],simulation_time=5000,simuseed=4,policy='jswq')"
   ]
  },
  {
   "cell_type": "code",
   "execution_count": 431,
   "id": "247dc967",
   "metadata": {},
   "outputs": [],
   "source": [
    "unstable_hetero_exp_dos = mmn_queueing_redundancy_dos(4,4,8,[0.5,2,0.8,1],simulation_time=5000,simuseed=5)"
   ]
  },
  {
   "cell_type": "code",
   "execution_count": 432,
   "id": "5fc89c9d",
   "metadata": {},
   "outputs": [],
   "source": [
    "unstable_hetero_exp_doc = mmn_queueing_redundancy_doc(4,4,8,[0.5,2,0.8,1],simulation_time=5000,simuseed=6)"
   ]
  },
  {
   "cell_type": "code",
   "execution_count": 435,
   "id": "3383405f",
   "metadata": {},
   "outputs": [],
   "source": [
    "unstable_hetero_exp_ident_dos = mmn_queueing_redundancy_dos_identical(4,4,8,[0.5,2,0.8,1],simulation_time=5000,simuseed=7)"
   ]
  },
  {
   "cell_type": "code",
   "execution_count": 436,
   "id": "436e6279",
   "metadata": {},
   "outputs": [],
   "source": [
    "unstable_hetero_exp_ident_doc = mmn_queueing_redundancy_doc_identical(4,4,8,[0.5,2,0.8,1],simulation_time=5000,simuseed=8)"
   ]
  },
  {
   "cell_type": "code",
   "execution_count": 439,
   "id": "75ae8d72",
   "metadata": {},
   "outputs": [],
   "source": [
    "unstable_hetero_weibull_jsq1_inc = mmn_queueing_jsq_weibull(4,8,[weibull_scale_calculator(1/0.5,2),weibull_scale_calculator(1/2,2),\\\n",
    "                                                 weibull_scale_calculator(1/0.8,2),weibull_scale_calculator(1/1,2)],\n",
    "                                                 2,simulation_time=5000,simuseed=9)"
   ]
  },
  {
   "cell_type": "code",
   "execution_count": 440,
   "id": "3fa423be",
   "metadata": {},
   "outputs": [],
   "source": [
    "unstable_hetero_weibull_dos_inc = mmn_queueing_redundancy_doc_weibull(4,4,8,[weibull_scale_calculator(1/0.5,2),weibull_scale_calculator(1/2,2),\\\n",
    "                                                 weibull_scale_calculator(1/0.8,2),weibull_scale_calculator(1/1,2)],\n",
    "                                                             2,simulation_time=5000,simuseed=10)"
   ]
  },
  {
   "cell_type": "code",
   "execution_count": 443,
   "id": "42ff244f",
   "metadata": {},
   "outputs": [],
   "source": [
    "unstable_hetero_weibull_doc_inc = mmn_queueing_redundancy_doc_weibull(4,4,8,[weibull_scale_calculator(1/0.5,2),weibull_scale_calculator(1/2,2),\\\n",
    "                                                 weibull_scale_calculator(1/0.8,2),weibull_scale_calculator(1/1,2)],\n",
    "                                                             2,simulation_time=5000,simuseed=11)"
   ]
  },
  {
   "cell_type": "code",
   "execution_count": 444,
   "id": "b3a831c8",
   "metadata": {},
   "outputs": [],
   "source": [
    "unstable_hetero_weibull_jsq1_dec = mmn_queueing_jsq_weibull(4,8,[weibull_scale_calculator(1/0.5,0.5),weibull_scale_calculator(1/2,0.5),\\\n",
    "                                                 weibull_scale_calculator(1/0.8,0.5),weibull_scale_calculator(1/1,0.5)],\n",
    "                                                   0.5,simulation_time=5000,simuseed=12)"
   ]
  },
  {
   "cell_type": "code",
   "execution_count": 447,
   "id": "62e36e7c",
   "metadata": {},
   "outputs": [],
   "source": [
    "unstable_hetero_weibull_dos_dec = mmn_queueing_redundancy_doc_weibull(4,4,8,[weibull_scale_calculator(1/0.5,0.5),weibull_scale_calculator(1/2,0.5),\\\n",
    "                                                 weibull_scale_calculator(1/0.8,0.5),weibull_scale_calculator(1/1,0.5)],\n",
    "                                                             0.5,simulation_time=5000,simuseed=13)"
   ]
  },
  {
   "cell_type": "code",
   "execution_count": 448,
   "id": "b9f6e872",
   "metadata": {},
   "outputs": [],
   "source": [
    "unstable_hetero_weibull_doc_dec = mmn_queueing_redundancy_doc_weibull(4,4,8,[weibull_scale_calculator(1/0.5,0.5),weibull_scale_calculator(1/2,0.5),\\\n",
    "                                                 weibull_scale_calculator(1/0.8,0.5),weibull_scale_calculator(1/1,0.5)],\n",
    "                                                        0.5,simulation_time=5000,simuseed=14)"
   ]
  },
  {
   "cell_type": "code",
   "execution_count": null,
   "id": "e685cae3",
   "metadata": {},
   "outputs": [],
   "source": []
  },
  {
   "cell_type": "code",
   "execution_count": null,
   "id": "1b5c54ee",
   "metadata": {},
   "outputs": [],
   "source": []
  },
  {
   "cell_type": "code",
   "execution_count": 269,
   "id": "f6bbe6a7",
   "metadata": {},
   "outputs": [],
   "source": [
    "oo2 = mmn_queueing_jsq(4,8,2.2,simulation_time=1000,simuseed=1)"
   ]
  },
  {
   "cell_type": "code",
   "execution_count": 273,
   "id": "36007c76",
   "metadata": {},
   "outputs": [],
   "source": [
    "oo1 = mmn_queueing_redundancy_doc_identical(4,4,8,8.2,simulation_time=1000,simuseed=1)"
   ]
  },
  {
   "cell_type": "code",
   "execution_count": 281,
   "id": "5e2b1a42",
   "metadata": {},
   "outputs": [],
   "source": [
    "oo3 = mmn_queueing_redundancy_doc_weibull(4,4,8,weibull_scale_calculator(1/8.2,2),2,simulation_time=1000,simuseed=1)"
   ]
  },
  {
   "cell_type": "code",
   "execution_count": 286,
   "id": "319cfe31",
   "metadata": {},
   "outputs": [],
   "source": [
    "oo4 = mmn_queueing_jsq(4,8,[6,8,16,4],simulation_time=1000,simuseed=1,policy='jiq1')"
   ]
  },
  {
   "cell_type": "code",
   "execution_count": 288,
   "id": "7e20073d",
   "metadata": {},
   "outputs": [],
   "source": [
    "oo5 = mmn_queueing_redundancy_doc_identical(4,4,8,[6,8,16,4],simulation_time=1000,simuseed=1)"
   ]
  },
  {
   "cell_type": "code",
   "execution_count": 290,
   "id": "583e333f",
   "metadata": {},
   "outputs": [],
   "source": [
    "oo6 = mmn_queueing_redundancy_doc_weibull(4,4,8,[weibull_scale_calculator(1/6,2),weibull_scale_calculator(1/8,2),\\\n",
    "                                                 weibull_scale_calculator(1/16,2),weibull_scale_calculator(1/4,2)],\n",
    "                                          2,simulation_time=1000,simuseed=1)"
   ]
  },
  {
   "cell_type": "code",
   "execution_count": null,
   "id": "25faf8b2",
   "metadata": {},
   "outputs": [],
   "source": []
  },
  {
   "cell_type": "code",
   "execution_count": 291,
   "id": "250a2bd2",
   "metadata": {},
   "outputs": [
    {
     "data": {
      "image/png": "[encoded data removed]",
      "text/plain": [
       "<Figure size 432x288 with 1 Axes>"
      ]
     },
     "metadata": {
      "needs_background": "light"
     },
     "output_type": "display_data"
    },
    {
     "data": {
      "image/png": "[encoded data removed]",
      "text/plain": [
       "<Figure size 432x288 with 1 Axes>"
      ]
     },
     "metadata": {
      "needs_background": "light"
     },
     "output_type": "display_data"
    }
   ],
   "source": [
    "system_compare(oo2,oo6)"
   ]
  },
  {
   "cell_type": "code",
   "execution_count": null,
   "id": "e1298901",
   "metadata": {},
   "outputs": [],
   "source": []
  },
  {
   "cell_type": "code",
   "execution_count": null,
   "id": "0cb90e65",
   "metadata": {},
   "outputs": [],
   "source": []
  },
  {
   "cell_type": "code",
   "execution_count": null,
   "id": "d61e1951",
   "metadata": {},
   "outputs": [],
   "source": []
  },
  {
   "cell_type": "markdown",
   "id": "afa10459",
   "metadata": {},
   "source": [
    "More"
   ]
  },
  {
   "cell_type": "code",
   "execution_count": 455,
   "id": "62bd20d9",
   "metadata": {},
   "outputs": [],
   "source": [
    "ayy1 = mmn_queueing_redundancy_dos(4,4,8,2.2,simulation_time=1000,simuseed=1)"
   ]
  },
  {
   "cell_type": "code",
   "execution_count": 456,
   "id": "b50da1df",
   "metadata": {},
   "outputs": [],
   "source": [
    "ayy2 = mmn_queueing_redundancy_dos(4,3,8,2.2,simulation_time=1000,simuseed=2)"
   ]
  },
  {
   "cell_type": "code",
   "execution_count": 457,
   "id": "712d0d25",
   "metadata": {},
   "outputs": [],
   "source": [
    "ayy3 = mmn_queueing_redundancy_dos(4,2,8,2.2,simulation_time=1000,simuseed=3)"
   ]
  },
  {
   "cell_type": "code",
   "execution_count": 458,
   "id": "b4ddd281",
   "metadata": {},
   "outputs": [],
   "source": [
    "ayy4 = mmn_queueing_redundancy_dos(4,1,8,2.2,simulation_time=1000,simuseed=4)"
   ]
  },
  {
   "cell_type": "code",
   "execution_count": 473,
   "id": "a79e54e9",
   "metadata": {},
   "outputs": [],
   "source": [
    "ayy5 = mmn_queueing_redundancy_doc(4,4,8,2.2,simulation_time=3000,simuseed=5)"
   ]
  },
  {
   "cell_type": "code",
   "execution_count": 464,
   "id": "401bc2c7",
   "metadata": {},
   "outputs": [],
   "source": [
    "ayy6 = mmn_queueing_redundancy_doc(4,3,8,2.2,simulation_time=1000,simuseed=6)"
   ]
  },
  {
   "cell_type": "code",
   "execution_count": 465,
   "id": "e331ea44",
   "metadata": {},
   "outputs": [],
   "source": [
    "ayy7 = mmn_queueing_redundancy_doc(4,2,8,2.2,simulation_time=1000,simuseed=7)"
   ]
  },
  {
   "cell_type": "code",
   "execution_count": 474,
   "id": "a0abe7c7",
   "metadata": {},
   "outputs": [],
   "source": [
    "ayy8 = mmn_queueing_redundancy_doc(4,1,8,2.2,simulation_time=3000,simuseed=8)"
   ]
  },
  {
   "cell_type": "code",
   "execution_count": 475,
   "id": "4948f4a3",
   "metadata": {},
   "outputs": [
    {
     "data": {
      "image/png": "[encoded data removed]",
      "text/plain": [
       "<Figure size 432x288 with 1 Axes>"
      ]
     },
     "metadata": {
      "needs_background": "light"
     },
     "output_type": "display_data"
    },
    {
     "data": {
      "image/png": "[encoded data removed]",
      "text/plain": [
       "<Figure size 432x288 with 1 Axes>"
      ]
     },
     "metadata": {
      "needs_background": "light"
     },
     "output_type": "display_data"
    }
   ],
   "source": [
    "system_compare(ayy5,ayy8)"
   ]
  },
  {
   "cell_type": "code",
   "execution_count": null,
   "id": "c3b13cb4",
   "metadata": {},
   "outputs": [],
   "source": []
  },
  {
   "cell_type": "code",
   "execution_count": null,
   "id": "0599ac1b",
   "metadata": {},
   "outputs": [],
   "source": []
  },
  {
   "cell_type": "code",
   "execution_count": null,
   "id": "40061f86",
   "metadata": {},
   "outputs": [],
   "source": []
  }
 ],
 "metadata": {
  "kernelspec": {
   "display_name": "Python 3",
   "language": "python",
   "name": "python3"
  },
  "language_info": {
   "codemirror_mode": {
    "name": "ipython",
    "version": 3
   },
   "file_extension": ".py",
   "mimetype": "text/x-python",
   "name": "python",
   "nbconvert_exporter": "python",
   "pygments_lexer": "ipython3",
   "version": "3.8.8"
  }
 },
 "nbformat": 4,
 "nbformat_minor": 5
}
