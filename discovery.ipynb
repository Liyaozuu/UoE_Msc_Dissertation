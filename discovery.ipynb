{
 "cells": [
  {
   "cell_type": "code",
   "execution_count": 1,
   "id": "b133326c",
   "metadata": {},
   "outputs": [],
   "source": [
    "import numpy as np\n",
    "import pandas as pd\n",
    "import random\n",
    "import math\n",
    "import statistics as stat\n",
    "import matplotlib.pyplot as plt\n",
    "import itertools\n",
    "import warnings\n",
    "from simul_file import mmn_queueing_jsq, queue_length_time_graph, \\\n",
    "                        mmn_queueing_redundancy_dos, mmn_queueing_redundancy_doc, \\\n",
    "                        mmn_queueing_redundancy_dos_identical, \\\n",
    "                        mmn_queueing_redundancy_doc_identical, \\\n",
    "                        mmn_queueing_redundancy_dos_weibull, \\\n",
    "                        mmn_queueing_redundancy_doc_weibull,\\\n",
    "                        mmn_queueing_jsq_weibull, weibull_scale_calculator, \\\n",
    "                        system_compare_exp"
   ]
  },
  {
   "cell_type": "code",
   "execution_count": null,
   "id": "dc2a4484",
   "metadata": {},
   "outputs": [],
   "source": [
    "mmn_queueing_jsq(n,arrival_rate,service_rate,simulation_time=60,simuseed=math.nan,policy=\"jsq1\")\n",
    "queue_length_time_graph(event_calendar,other_stat,gtype=\"queue\",sq_no=math.nan)\n",
    "mmn_queueing_redundancy_dos(n,d,arrival_rate,service_rate,simulation_time=60,simuseed=math.nan)\n",
    "mmn_queueing_redundancy_doc(n,d,arrival_rate,service_rate,simulation_time=60,simuseed=math.nan)\n",
    "mmn_queueing_redundancy_dos_identical(n,d,arrival_rate,service_rate,simulation_time=60,simuseed=math.nan)\n",
    "mmn_queueing_redundancy_doc_identical(n,d,arrival_rate,service_rate,simulation_time=60,simuseed=math.nan)\n",
    "mmn_queueing_redundancy_dos_weibull(n,d,arrival_rate,scale,shape,simulation_time=60,simuseed=math.nan)\n",
    "mmn_queueing_redundancy_doc_weibull(n,d,arrival_rate,scale,shape,simulation_time=60,simuseed=math.nan)\n",
    "mmn_queueing_jsq_weibull(n,arrival_rate,scale,shape,simulation_time=60,simuseed=math.nan)\n",
    "weibull_scale_calculator(desired_mean,shape)\n",
    "system_compare_exp(system1,system2)"
   ]
  },
  {
   "cell_type": "code",
   "execution_count": null,
   "id": "e641f75f",
   "metadata": {},
   "outputs": [],
   "source": [
    "aaa = mmn_queueing_jsq(5,14,[3,1,4,2,5],simulation_time=1000,simuseed=8,policy=\"jsq1\")\n",
    "bbb = mmn_queueing_redundancy_dos(5,3,14,[3,1,4,2,5],simulation_time=1000,simuseed=8)\n",
    "ccc = mmn_queueing_redundancy_doc(5,3,14,[3,1,4,2,5],simulation_time=1000,simuseed=8)"
   ]
  },
  {
   "cell_type": "code",
   "execution_count": null,
   "id": "761fa224",
   "metadata": {},
   "outputs": [],
   "source": []
  },
  {
   "cell_type": "code",
   "execution_count": 2,
   "id": "a0a2351a",
   "metadata": {},
   "outputs": [],
   "source": [
    "aaa = mmn_queueing_jsq(5,10,2.2,simulation_time=1000,simuseed=8,policy=\"jsq1\")"
   ]
  },
  {
   "cell_type": "code",
   "execution_count": 6,
   "id": "9a177a62",
   "metadata": {},
   "outputs": [],
   "source": [
    "dm = 1/2.2\n",
    "shp = 2\n",
    "bbb = mmn_queueing_redundancy_dos_weibull(5,5,10,weibull_scale_calculator(dm,shp),\\\n",
    "                                          shp,simulation_time=1000,simuseed=8)\n",
    "ccc = mmn_queueing_redundancy_doc_weibull(5,5,10,weibull_scale_calculator(dm,shp),\\\n",
    "                                          shp,simulation_time=1000,simuseed=8)"
   ]
  },
  {
   "cell_type": "code",
   "execution_count": 8,
   "id": "0d66b454",
   "metadata": {},
   "outputs": [
    {
     "name": "stdout",
     "output_type": "stream",
     "text": [
      "System 1 is significantly better than system 2\n",
      "System 1 is better on 99.8% of the time\n",
      "System 2 is better on 0.0% of the time\n"
     ]
    },
    {
     "data": {
      "image/png": "[encoded data removed]",
      "text/plain": [
       "<Figure size 432x288 with 1 Axes>"
      ]
     },
     "metadata": {
      "needs_background": "light"
     },
     "output_type": "display_data"
    }
   ],
   "source": [
    "system_compare_exp(aaa,ccc)"
   ]
  },
  {
   "cell_type": "code",
   "execution_count": null,
   "id": "044dc1a9",
   "metadata": {},
   "outputs": [],
   "source": []
  },
  {
   "cell_type": "code",
   "execution_count": null,
   "id": "3fe03f29",
   "metadata": {},
   "outputs": [],
   "source": []
  },
  {
   "cell_type": "code",
   "execution_count": null,
   "id": "db5da428",
   "metadata": {},
   "outputs": [],
   "source": []
  },
  {
   "cell_type": "code",
   "execution_count": null,
   "id": "2ae59e52",
   "metadata": {},
   "outputs": [],
   "source": []
  },
  {
   "cell_type": "code",
   "execution_count": null,
   "id": "4a85c40c",
   "metadata": {},
   "outputs": [],
   "source": []
  },
  {
   "cell_type": "code",
   "execution_count": null,
   "id": "604d1bc3",
   "metadata": {},
   "outputs": [],
   "source": []
  },
  {
   "cell_type": "code",
   "execution_count": null,
   "id": "7bb57088",
   "metadata": {},
   "outputs": [],
   "source": []
  },
  {
   "cell_type": "code",
   "execution_count": null,
   "id": "b188434f",
   "metadata": {},
   "outputs": [],
   "source": []
  }
 ],
 "metadata": {
  "kernelspec": {
   "display_name": "Python 3",
   "language": "python",
   "name": "python3"
  },
  "language_info": {
   "codemirror_mode": {
    "name": "ipython",
    "version": 3
   },
   "file_extension": ".py",
   "mimetype": "text/x-python",
   "name": "python",
   "nbconvert_exporter": "python",
   "pygments_lexer": "ipython3",
   "version": "3.8.8"
  }
 },
 "nbformat": 4,
 "nbformat_minor": 5
}
