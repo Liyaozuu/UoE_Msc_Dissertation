{
 "cells": [
  {
   "cell_type": "code",
   "execution_count": 170,
   "id": "b133326c",
   "metadata": {},
   "outputs": [],
   "source": [
    "import numpy as np\n",
    "import pandas as pd\n",
    "import random\n",
    "import math\n",
    "import statistics as stat\n",
    "import matplotlib.pyplot as plt\n",
    "from scipy import stats\n",
    "import itertools\n",
    "import warnings\n",
    "warnings.simplefilter(action='ignore', category=FutureWarning)\n",
    "import bisect\n",
    "from simul_file import mmn_queueing_jsq, queue_length_time_graph, \\\n",
    "                        mmn_queueing_redundancy_dos, mmn_queueing_redundancy_doc, \\\n",
    "                        mmn_queueing_redundancy_dos_identical, \\\n",
    "                        mmn_queueing_redundancy_doc_identical, \\\n",
    "                        mmn_queueing_redundancy_dos_weibull, \\\n",
    "                        mmn_queueing_redundancy_doc_weibull,\\\n",
    "                        mmn_queueing_jsq_weibull, weibull_scale_calculator, \\\n",
    "                        system_compare\n",
    "data1 = pd.read_excel(\"result_data.xlsx\",sheet_name=\"simutime\")\n",
    "data2 = pd.read_excel(\"result_data.xlsx\",sheet_name=\"homo\")\n",
    "data3 = pd.read_excel(\"result_data.xlsx\",sheet_name=\"heter\")"
   ]
  },
  {
   "cell_type": "code",
   "execution_count": null,
   "id": "dc2a4484",
   "metadata": {},
   "outputs": [],
   "source": [
    "mmn_queueing_jsq(n,arrival_rate,service_rate,simulation_time=60,simuseed=math.nan,policy=\"jsq1\")\n",
    "queue_length_time_graph(event_calendar,other_stat,gtype=\"queue\",sq_no=math.nan)\n",
    "mmn_queueing_redundancy_dos(n,d,arrival_rate,service_rate,simulation_time=60,simuseed=math.nan)\n",
    "mmn_queueing_redundancy_doc(n,d,arrival_rate,service_rate,simulation_time=60,simuseed=math.nan)\n",
    "mmn_queueing_redundancy_dos_identical(n,d,arrival_rate,service_rate,simulation_time=60,simuseed=math.nan)\n",
    "mmn_queueing_redundancy_doc_identical(n,d,arrival_rate,service_rate,simulation_time=60,simuseed=math.nan)\n",
    "mmn_queueing_redundancy_dos_weibull(n,d,arrival_rate,scale,shape,simulation_time=60,simuseed=math.nan)\n",
    "mmn_queueing_redundancy_doc_weibull(n,d,arrival_rate,scale,shape,simulation_time=60,simuseed=math.nan)\n",
    "mmn_queueing_jsq_weibull(n,arrival_rate,scale,shape,simulation_time=60,simuseed=math.nan)\n",
    "weibull_scale_calculator(desired_mean,shape)\n",
    "system_compare(system1,system2)"
   ]
  },
  {
   "cell_type": "code",
   "execution_count": null,
   "id": "281afbc2",
   "metadata": {},
   "outputs": [],
   "source": []
  },
  {
   "cell_type": "code",
   "execution_count": null,
   "id": "499b749b",
   "metadata": {},
   "outputs": [],
   "source": []
  },
  {
   "cell_type": "code",
   "execution_count": 5,
   "id": "e641f75f",
   "metadata": {},
   "outputs": [],
   "source": [
    "aaa = mmn_queueing_jsq(4,8,2.2,simulation_time=3000,simuseed=8,policy=\"jsq1\")\n",
    "bbb = mmn_queueing_redundancy_dos(4,4,8,2.2,simulation_time=3000,simuseed=8)\n",
    "#ccc = mmn_queueing_redundancy_doc(4,4,8,2.2,simulation_time=1000,simuseed=8)"
   ]
  },
  {
   "cell_type": "code",
   "execution_count": null,
   "id": "761fa224",
   "metadata": {},
   "outputs": [],
   "source": []
  },
  {
   "cell_type": "code",
   "execution_count": 4,
   "id": "a0a2351a",
   "metadata": {},
   "outputs": [],
   "source": [
    "dm = 1/2.2\n",
    "shp = 1\n",
    "aaa = mmn_queueing_jsq_weibull(5,10,weibull_scale_calculator(dm,shp),2,simulation_time=1000,simuseed=8)"
   ]
  },
  {
   "cell_type": "code",
   "execution_count": 5,
   "id": "9a177a62",
   "metadata": {},
   "outputs": [],
   "source": [
    "dm = 1/2.2\n",
    "shp = 1\n",
    "bbb = mmn_queueing_redundancy_dos_weibull(5,5,10,weibull_scale_calculator(dm,shp),\\\n",
    "                                          shp,simulation_time=1000,simuseed=8)\n",
    "ccc = mmn_queueing_redundancy_doc_weibull(5,5,10,weibull_scale_calculator(dm,shp),\\\n",
    "                                          shp,simulation_time=1000,simuseed=8)"
   ]
  },
  {
   "cell_type": "code",
   "execution_count": null,
   "id": "0d66b454",
   "metadata": {},
   "outputs": [],
   "source": [
    "system_compare(aaa,bbb)"
   ]
  },
  {
   "cell_type": "code",
   "execution_count": null,
   "id": "604d1bc3",
   "metadata": {},
   "outputs": [],
   "source": []
  },
  {
   "cell_type": "code",
   "execution_count": null,
   "id": "e7b7447e",
   "metadata": {},
   "outputs": [],
   "source": []
  },
  {
   "cell_type": "code",
   "execution_count": null,
   "id": "dd786ea7",
   "metadata": {},
   "outputs": [],
   "source": []
  },
  {
   "cell_type": "code",
   "execution_count": null,
   "id": "c47600e8",
   "metadata": {},
   "outputs": [],
   "source": []
  },
  {
   "cell_type": "code",
   "execution_count": null,
   "id": "0b1cdbdc",
   "metadata": {},
   "outputs": [],
   "source": [
    "lb = 3\n",
    "ub = 14\n",
    "\n",
    "sys1 = np.array([])\n",
    "sys2 = np.array([])\n",
    "sys3 = np.array([])\n",
    "for i in range(lb,ub):\n",
    "    sys1 = np.append(sys1,mmn_queueing_jsq(5,i,[3,1,4,2,5],simulation_time=300,simuseed=66,policy=\"jsq1\")[5]['Grand Average cycle time'][0])\n",
    "    sys2 = np.append(sys2,mmn_queueing_redundancy_dos(5,5,i,[3,1,4,2,5],simulation_time=300,simuseed=66)[5]['Grand Average cycle time'][0])\n",
    "    sys3 = np.append(sys3,mmn_queueing_redundancy_doc(5,5,i,[3,1,4,2,5],simulation_time=300,simuseed=66)[5]['Grand Average cycle time'][0])\n",
    "\n",
    "\n",
    "plt.plot(np.arange(lb,ub),sys1,label='system1')\n",
    "plt.plot(np.arange(lb,ub),sys2,label='system2')\n",
    "plt.plot(np.arange(lb,ub),sys3,label='system3')\n",
    "plt.title('Comparison of three systems')\n",
    "plt.xlabel('Arrival rate')\n",
    "plt.ylabel('ACT')\n",
    "plt.legend()"
   ]
  },
  {
   "cell_type": "code",
   "execution_count": null,
   "id": "fb7cb249",
   "metadata": {},
   "outputs": [],
   "source": []
  },
  {
   "cell_type": "code",
   "execution_count": null,
   "id": "91704607",
   "metadata": {},
   "outputs": [],
   "source": []
  },
  {
   "cell_type": "code",
   "execution_count": null,
   "id": "e6c14da1",
   "metadata": {},
   "outputs": [],
   "source": []
  },
  {
   "cell_type": "code",
   "execution_count": 36,
   "id": "2b0f7fa8",
   "metadata": {},
   "outputs": [],
   "source": [
    "aaa = mmn_queueing_jsq(5,14,[3,1,4,2,5],simulation_time=1000,simuseed=66,policy=\"jsq1\")"
   ]
  },
  {
   "cell_type": "code",
   "execution_count": 42,
   "id": "f23d0ecd",
   "metadata": {},
   "outputs": [],
   "source": [
    "bbb = mmn_queueing_jsq(5,15.01,[3,1,4,2,5],simulation_time=1000,simuseed=88,policy=\"jsq1\")"
   ]
  },
  {
   "cell_type": "code",
   "execution_count": null,
   "id": "a90502f3",
   "metadata": {},
   "outputs": [],
   "source": [
    "a0pos = aaa[0]['Time'].to_numpy()[np.where(aaa[0]['Server1 Queue']==0)[0]]\n",
    "b0pos = bbb[0]['Time'].to_numpy()[np.where(bbb[0]['Server1 Queue']==0)[0]]\n",
    "data = [a0pos, b0pos]\n",
    "fig, ax = plt.subplots()\n",
    "ax.boxplot(data,vert=False)\n",
    "ax.set_yticklabels(['Stable system', 'Unstable system'])\n",
    "ax.set_xlabel('Simulation Time')\n",
    "ax.set_title('boxplot example')\n",
    "plt.show()"
   ]
  },
  {
   "cell_type": "code",
   "execution_count": null,
   "id": "57b3d7ba",
   "metadata": {},
   "outputs": [],
   "source": []
  },
  {
   "cell_type": "code",
   "execution_count": null,
   "id": "96c38b6a",
   "metadata": {},
   "outputs": [],
   "source": []
  },
  {
   "cell_type": "code",
   "execution_count": null,
   "id": "e55203ab",
   "metadata": {},
   "outputs": [],
   "source": []
  },
  {
   "cell_type": "code",
   "execution_count": null,
   "id": "68348612",
   "metadata": {},
   "outputs": [],
   "source": []
  },
  {
   "cell_type": "markdown",
   "id": "862070e3",
   "metadata": {},
   "source": [
    "How long is long?"
   ]
  },
  {
   "cell_type": "code",
   "execution_count": 395,
   "id": "d75ad534",
   "metadata": {
    "scrolled": true
   },
   "outputs": [],
   "source": [
    "s1d = 39\n",
    "aaa = mmn_queueing_jsq(4,8,2.2,simulation_time=2000,policy=\"jsq1\")\n",
    "#bbb = mmn_queueing_redundancy_dos(4,4,8,2.2,simulation_time=6000,simuseed=s1d)\n",
    "ccc = mmn_queueing_redundancy_doc(4,4,8,2.2,simulation_time=2000,simuseed=s1d)"
   ]
  },
  {
   "cell_type": "code",
   "execution_count": null,
   "id": "941e53b5",
   "metadata": {
    "scrolled": false
   },
   "outputs": [],
   "source": [
    "system_compare(aaa,ccc)"
   ]
  },
  {
   "cell_type": "code",
   "execution_count": null,
   "id": "b3569b33",
   "metadata": {
    "scrolled": true
   },
   "outputs": [],
   "source": [
    "aaa[8][aaa[8]['Finish']<2000]"
   ]
  },
  {
   "cell_type": "code",
   "execution_count": null,
   "id": "049a53ef",
   "metadata": {
    "scrolled": true
   },
   "outputs": [],
   "source": [
    "aaa[8]"
   ]
  },
  {
   "cell_type": "code",
   "execution_count": 190,
   "id": "ff8e309c",
   "metadata": {},
   "outputs": [],
   "source": [
    "def yyy(system1):\n",
    "    \n",
    "    bbb = system1[0].iloc[np.where(system1[0][\"Time\"][1:].to_numpy() != system1[0][\"Next Customer\"][:-1].to_numpy())[0][:-1]+1,:]\n",
    "    sys1_timing = system1[8]\n",
    "    sys1_timing['act'] = sys1_timing['Finish'] - sys1_timing['Start']\n",
    "    sys1_timing['cma'] = sys1_timing['act'].expanding().mean()\n",
    "\n",
    "    plt.plot(bbb['Time'],sys1_timing['cma'],label='jsq1')\n",
    "    #plt.title('Warm up period')\n",
    "    plt.xlabel('Time')\n",
    "    plt.ylabel('ACT')\n",
    "    plt.legend()"
   ]
  },
  {
   "cell_type": "code",
   "execution_count": null,
   "id": "a680ff00",
   "metadata": {},
   "outputs": [],
   "source": [
    "yyy(aaa)"
   ]
  },
  {
   "cell_type": "code",
   "execution_count": null,
   "id": "14d48b4c",
   "metadata": {},
   "outputs": [],
   "source": []
  },
  {
   "cell_type": "code",
   "execution_count": null,
   "id": "e8c39685",
   "metadata": {},
   "outputs": [],
   "source": []
  },
  {
   "cell_type": "code",
   "execution_count": 337,
   "id": "26cef425",
   "metadata": {},
   "outputs": [],
   "source": [
    "s1d = 30\n",
    "#aaa = mmn_queueing_jsq_weibull(4,8,weibull_scale_calculator(1/2.2,0.5),0.5,simulation_time=2000,simuseed=s1d)\n",
    "#bbb = mmn_queueing_redundancy_dos_weibull(4,4,8,weibull_scale_calculator(1/2.2,0.5),0.5,simulation_time=2000,simuseed=s1d)\n",
    "#ccc = mmn_queueing_redundancy_doc_weibull(4,4,8,weibull_scale_calculator(1/2.2,0.5),0.5,simulation_time=2000,simuseed=s1d)\n",
    "#ddd = mmn_queueing_jsq(4,8,2.2,simulation_time=4000,simuseed=s1d,policy='jiq1')\n",
    "#eee = mmn_queueing_jsq(4,8,2.2,simulation_time=4000,simuseed=s1d,policy='jsq1')\n",
    "fff = mmn_queueing_redundancy_doc(4,4,8,2.2,simulation_time=4000,simuseed=s1d)"
   ]
  },
  {
   "cell_type": "code",
   "execution_count": null,
   "id": "195a1715",
   "metadata": {
    "scrolled": true
   },
   "outputs": [],
   "source": [
    "system_compare(fff,eee)"
   ]
  },
  {
   "cell_type": "code",
   "execution_count": null,
   "id": "c0d696ff",
   "metadata": {},
   "outputs": [],
   "source": [
    "fff[8]"
   ]
  },
  {
   "cell_type": "code",
   "execution_count": null,
   "id": "a94bac7b",
   "metadata": {},
   "outputs": [],
   "source": []
  },
  {
   "cell_type": "code",
   "execution_count": null,
   "id": "9a1b0f72",
   "metadata": {},
   "outputs": [],
   "source": []
  },
  {
   "cell_type": "code",
   "execution_count": 342,
   "id": "e095257e",
   "metadata": {},
   "outputs": [
    {
     "data": {
      "text/plain": [
       "Ttest_relResult(statistic=0.6235277145514919, pvalue=0.53656774714141)"
      ]
     },
     "execution_count": 342,
     "metadata": {},
     "output_type": "execute_result"
    }
   ],
   "source": [
    "stats.ttest_rel(data1['jsq_2000'], data1['jsq_4000'])"
   ]
  },
  {
   "cell_type": "code",
   "execution_count": 343,
   "id": "49f52c76",
   "metadata": {},
   "outputs": [
    {
     "data": {
      "text/plain": [
       "Ttest_relResult(statistic=0.46367188623859523, pvalue=0.6454603855924186)"
      ]
     },
     "execution_count": 343,
     "metadata": {},
     "output_type": "execute_result"
    }
   ],
   "source": [
    "stats.ttest_rel(data1['jiq_2000'], data1['jiq_4000'])"
   ]
  },
  {
   "cell_type": "code",
   "execution_count": 344,
   "id": "c3eab2bd",
   "metadata": {},
   "outputs": [
    {
     "data": {
      "text/plain": [
       "Ttest_relResult(statistic=0.6235277145514919, pvalue=0.53656774714141)"
      ]
     },
     "execution_count": 344,
     "metadata": {},
     "output_type": "execute_result"
    }
   ],
   "source": [
    "stats.ttest_rel(data1['jswq_2000'], data1['jswq_4000'])"
   ]
  },
  {
   "cell_type": "code",
   "execution_count": 345,
   "id": "82318fb1",
   "metadata": {},
   "outputs": [
    {
     "data": {
      "text/plain": [
       "Ttest_relResult(statistic=-0.7595495376631464, pvalue=0.45209084262645827)"
      ]
     },
     "execution_count": 345,
     "metadata": {},
     "output_type": "execute_result"
    }
   ],
   "source": [
    "stats.ttest_rel(data1['dos_2000'], data1['dos_4000'])"
   ]
  },
  {
   "cell_type": "code",
   "execution_count": 346,
   "id": "5d1109d7",
   "metadata": {},
   "outputs": [
    {
     "data": {
      "text/plain": [
       "Ttest_relResult(statistic=-0.2864186565457613, pvalue=0.7760735547786916)"
      ]
     },
     "execution_count": 346,
     "metadata": {},
     "output_type": "execute_result"
    }
   ],
   "source": [
    "stats.ttest_rel(data1['doc_2000'], data1['doc_4000'])"
   ]
  },
  {
   "cell_type": "code",
   "execution_count": null,
   "id": "e840a441",
   "metadata": {},
   "outputs": [],
   "source": []
  },
  {
   "cell_type": "code",
   "execution_count": null,
   "id": "d64dcdcb",
   "metadata": {},
   "outputs": [],
   "source": []
  },
  {
   "cell_type": "code",
   "execution_count": null,
   "id": "d11c70b6",
   "metadata": {},
   "outputs": [],
   "source": []
  },
  {
   "cell_type": "code",
   "execution_count": null,
   "id": "a8d088de",
   "metadata": {},
   "outputs": [],
   "source": []
  },
  {
   "cell_type": "markdown",
   "id": "94be413b",
   "metadata": {},
   "source": [
    "Stability Analysis"
   ]
  },
  {
   "cell_type": "code",
   "execution_count": null,
   "id": "a5c29545",
   "metadata": {},
   "outputs": [],
   "source": [
    "queue_length_time_graph(event_calendar,other_stat,gtype=\"queue\",sq_no=math.nan)"
   ]
  },
  {
   "cell_type": "code",
   "execution_count": null,
   "id": "e690fb0d",
   "metadata": {},
   "outputs": [],
   "source": []
  },
  {
   "cell_type": "code",
   "execution_count": null,
   "id": "92431194",
   "metadata": {},
   "outputs": [],
   "source": []
  },
  {
   "cell_type": "code",
   "execution_count": null,
   "id": "765e6668",
   "metadata": {},
   "outputs": [],
   "source": []
  },
  {
   "cell_type": "markdown",
   "id": "36c325e9",
   "metadata": {},
   "source": [
    "Homo"
   ]
  },
  {
   "cell_type": "code",
   "execution_count": 831,
   "id": "70d1c8ce",
   "metadata": {},
   "outputs": [],
   "source": [
    "s1d = 13\n",
    "#aaa = mmn_queueing_jsq_weibull(4,8,weibull_scale_calculator(1/2.2,0.5),0.5,simulation_time=2000,simuseed=s1d)\n",
    "#bbb = mmn_queueing_redundancy_dos_weibull(4,4,8,weibull_scale_calculator(1/2.2,0.5),0.5,simulation_time=2000,simuseed=s1d)\n",
    "ccc = mmn_queueing_redundancy_doc_weibull(4,4,8,weibull_scale_calculator(1/2.2,0.5),0.5,simulation_time=2000,simuseed=s1d)"
   ]
  },
  {
   "cell_type": "code",
   "execution_count": null,
   "id": "bfd405b6",
   "metadata": {
    "scrolled": true
   },
   "outputs": [],
   "source": [
    "system_compare(ccc,ddd)"
   ]
  },
  {
   "cell_type": "code",
   "execution_count": null,
   "id": "f4ee3109",
   "metadata": {},
   "outputs": [],
   "source": [
    "ccc[8]"
   ]
  },
  {
   "cell_type": "code",
   "execution_count": null,
   "id": "faf0312e",
   "metadata": {},
   "outputs": [],
   "source": []
  },
  {
   "cell_type": "code",
   "execution_count": null,
   "id": "056fa968",
   "metadata": {},
   "outputs": [],
   "source": []
  },
  {
   "cell_type": "code",
   "execution_count": null,
   "id": "0fbb9abd",
   "metadata": {},
   "outputs": [],
   "source": []
  },
  {
   "cell_type": "markdown",
   "id": "b81eb11b",
   "metadata": {},
   "source": [
    "Hetero"
   ]
  },
  {
   "cell_type": "code",
   "execution_count": null,
   "id": "b3a51d49",
   "metadata": {},
   "outputs": [],
   "source": [
    "s1d = 35\n",
    "#aaa = mmn_queueing_jsq_weibull(4,8,weibull_scale_calculator(1/2.2,0.5),0.5,simulation_time=2000,simuseed=s1d)\n",
    "#bbb = mmn_queueing_redundancy_dos_weibull(4,4,8,weibull_scale_calculator(1/2.2,0.5),0.5,simulation_time=2000,simuseed=s1d)\n",
    "#ccc = mmn_queueing_redundancy_doc_weibull(4,4,8,weibull_scale_calculator(1/2.2,0.5),0.5,simulation_time=2000,simuseed=s1d)\n",
    "#ddd = mmn_queueing_jsq(4,8,[1.5,2,4,1],simulation_time=2000,simuseed=s1d,policy='jsq2')\n",
    "#eee = mmn_queueing_jsq(4,8,2.2,simulation_time=2000,simuseed=s1d,policy='jsq1')\n",
    "fff = mmn_queueing_redundancy_dos(4,4,8,[1.5,2,4,1],simulation_time=2000,simuseed=s1d)"
   ]
  },
  {
   "cell_type": "code",
   "execution_count": null,
   "id": "762cd924",
   "metadata": {
    "scrolled": true
   },
   "outputs": [],
   "source": [
    "system_compare(fff,eee)"
   ]
  },
  {
   "cell_type": "code",
   "execution_count": 443,
   "id": "4d88ac3f",
   "metadata": {},
   "outputs": [
    {
     "data": {
      "text/html": [
       "<div>\n",
       "<style scoped>\n",
       "    .dataframe tbody tr th:only-of-type {\n",
       "        vertical-align: middle;\n",
       "    }\n",
       "\n",
       "    .dataframe tbody tr th {\n",
       "        vertical-align: top;\n",
       "    }\n",
       "\n",
       "    .dataframe thead th {\n",
       "        text-align: right;\n",
       "    }\n",
       "</style>\n",
       "<table border=\"1\" class=\"dataframe\">\n",
       "  <thead>\n",
       "    <tr style=\"text-align: right;\">\n",
       "      <th></th>\n",
       "      <th>Arrival_label</th>\n",
       "      <th>Start</th>\n",
       "      <th>Queue</th>\n",
       "      <th>Finish</th>\n",
       "      <th>Server</th>\n",
       "      <th>act</th>\n",
       "      <th>cma</th>\n",
       "    </tr>\n",
       "  </thead>\n",
       "  <tbody>\n",
       "    <tr>\n",
       "      <th>1</th>\n",
       "      <td>1.0</td>\n",
       "      <td>0.049817</td>\n",
       "      <td>0.049817</td>\n",
       "      <td>0.569811</td>\n",
       "      <td>3.0</td>\n",
       "      <td>0.519994</td>\n",
       "      <td>0.519994</td>\n",
       "    </tr>\n",
       "    <tr>\n",
       "      <th>2</th>\n",
       "      <td>2.0</td>\n",
       "      <td>0.560718</td>\n",
       "      <td>0.560718</td>\n",
       "      <td>0.690143</td>\n",
       "      <td>1.0</td>\n",
       "      <td>0.129425</td>\n",
       "      <td>0.324709</td>\n",
       "    </tr>\n",
       "    <tr>\n",
       "      <th>3</th>\n",
       "      <td>3.0</td>\n",
       "      <td>0.560768</td>\n",
       "      <td>0.560768</td>\n",
       "      <td>0.787451</td>\n",
       "      <td>2.0</td>\n",
       "      <td>0.226682</td>\n",
       "      <td>0.292034</td>\n",
       "    </tr>\n",
       "    <tr>\n",
       "      <th>4</th>\n",
       "      <td>4.0</td>\n",
       "      <td>0.600007</td>\n",
       "      <td>0.600007</td>\n",
       "      <td>1.458411</td>\n",
       "      <td>4.0</td>\n",
       "      <td>0.858404</td>\n",
       "      <td>0.433626</td>\n",
       "    </tr>\n",
       "    <tr>\n",
       "      <th>5</th>\n",
       "      <td>5.0</td>\n",
       "      <td>0.639019</td>\n",
       "      <td>0.639019</td>\n",
       "      <td>1.637150</td>\n",
       "      <td>3.0</td>\n",
       "      <td>0.998131</td>\n",
       "      <td>0.546527</td>\n",
       "    </tr>\n",
       "    <tr>\n",
       "      <th>...</th>\n",
       "      <td>...</td>\n",
       "      <td>...</td>\n",
       "      <td>...</td>\n",
       "      <td>...</td>\n",
       "      <td>...</td>\n",
       "      <td>...</td>\n",
       "      <td>...</td>\n",
       "    </tr>\n",
       "    <tr>\n",
       "      <th>16163</th>\n",
       "      <td>16163.0</td>\n",
       "      <td>1997.544333</td>\n",
       "      <td>1999.298613</td>\n",
       "      <td>1999.433647</td>\n",
       "      <td>3.0</td>\n",
       "      <td>1.889314</td>\n",
       "      <td>3.222877</td>\n",
       "    </tr>\n",
       "    <tr>\n",
       "      <th>16164</th>\n",
       "      <td>16164.0</td>\n",
       "      <td>1997.810558</td>\n",
       "      <td>1999.433647</td>\n",
       "      <td>1999.814784</td>\n",
       "      <td>3.0</td>\n",
       "      <td>2.004226</td>\n",
       "      <td>3.222802</td>\n",
       "    </tr>\n",
       "    <tr>\n",
       "      <th>16165</th>\n",
       "      <td>16165.0</td>\n",
       "      <td>1998.206086</td>\n",
       "      <td>1999.556319</td>\n",
       "      <td>1999.790466</td>\n",
       "      <td>1.0</td>\n",
       "      <td>1.584380</td>\n",
       "      <td>3.222701</td>\n",
       "    </tr>\n",
       "    <tr>\n",
       "      <th>16166</th>\n",
       "      <td>16166.0</td>\n",
       "      <td>1998.470232</td>\n",
       "      <td>1999.568873</td>\n",
       "      <td>1999.849893</td>\n",
       "      <td>2.0</td>\n",
       "      <td>1.379662</td>\n",
       "      <td>3.222587</td>\n",
       "    </tr>\n",
       "    <tr>\n",
       "      <th>16167</th>\n",
       "      <td>16167.0</td>\n",
       "      <td>1998.569830</td>\n",
       "      <td>1999.790466</td>\n",
       "      <td>1999.936963</td>\n",
       "      <td>1.0</td>\n",
       "      <td>1.367133</td>\n",
       "      <td>3.222472</td>\n",
       "    </tr>\n",
       "  </tbody>\n",
       "</table>\n",
       "<p>16166 rows × 7 columns</p>\n",
       "</div>"
      ],
      "text/plain": [
       "       Arrival_label        Start        Queue       Finish  Server       act  \\\n",
       "1                1.0     0.049817     0.049817     0.569811     3.0  0.519994   \n",
       "2                2.0     0.560718     0.560718     0.690143     1.0  0.129425   \n",
       "3                3.0     0.560768     0.560768     0.787451     2.0  0.226682   \n",
       "4                4.0     0.600007     0.600007     1.458411     4.0  0.858404   \n",
       "5                5.0     0.639019     0.639019     1.637150     3.0  0.998131   \n",
       "...              ...          ...          ...          ...     ...       ...   \n",
       "16163        16163.0  1997.544333  1999.298613  1999.433647     3.0  1.889314   \n",
       "16164        16164.0  1997.810558  1999.433647  1999.814784     3.0  2.004226   \n",
       "16165        16165.0  1998.206086  1999.556319  1999.790466     1.0  1.584380   \n",
       "16166        16166.0  1998.470232  1999.568873  1999.849893     2.0  1.379662   \n",
       "16167        16167.0  1998.569830  1999.790466  1999.936963     1.0  1.367133   \n",
       "\n",
       "            cma  \n",
       "1      0.519994  \n",
       "2      0.324709  \n",
       "3      0.292034  \n",
       "4      0.433626  \n",
       "5      0.546527  \n",
       "...         ...  \n",
       "16163  3.222877  \n",
       "16164  3.222802  \n",
       "16165  3.222701  \n",
       "16166  3.222587  \n",
       "16167  3.222472  \n",
       "\n",
       "[16166 rows x 7 columns]"
      ]
     },
     "execution_count": 443,
     "metadata": {},
     "output_type": "execute_result"
    }
   ],
   "source": [
    "fff[8]"
   ]
  },
  {
   "cell_type": "code",
   "execution_count": null,
   "id": "01198551",
   "metadata": {},
   "outputs": [],
   "source": []
  },
  {
   "cell_type": "code",
   "execution_count": null,
   "id": "24b7ae8a",
   "metadata": {},
   "outputs": [],
   "source": []
  },
  {
   "cell_type": "code",
   "execution_count": null,
   "id": "657aecf0",
   "metadata": {},
   "outputs": [],
   "source": []
  },
  {
   "cell_type": "code",
   "execution_count": null,
   "id": "f32f0113",
   "metadata": {},
   "outputs": [],
   "source": []
  },
  {
   "cell_type": "code",
   "execution_count": null,
   "id": "30a3d55b",
   "metadata": {},
   "outputs": [],
   "source": []
  },
  {
   "cell_type": "code",
   "execution_count": null,
   "id": "87ede247",
   "metadata": {},
   "outputs": [],
   "source": []
  },
  {
   "cell_type": "code",
   "execution_count": null,
   "id": "f08c836a",
   "metadata": {},
   "outputs": [],
   "source": []
  },
  {
   "cell_type": "code",
   "execution_count": null,
   "id": "41b1b6f7",
   "metadata": {},
   "outputs": [],
   "source": []
  },
  {
   "cell_type": "code",
   "execution_count": null,
   "id": "21784141",
   "metadata": {},
   "outputs": [],
   "source": []
  },
  {
   "cell_type": "code",
   "execution_count": null,
   "id": "2ced4c02",
   "metadata": {},
   "outputs": [],
   "source": []
  },
  {
   "cell_type": "code",
   "execution_count": null,
   "id": "250a2bd2",
   "metadata": {},
   "outputs": [],
   "source": []
  },
  {
   "cell_type": "code",
   "execution_count": null,
   "id": "e1298901",
   "metadata": {},
   "outputs": [],
   "source": []
  },
  {
   "cell_type": "code",
   "execution_count": null,
   "id": "0cb90e65",
   "metadata": {},
   "outputs": [],
   "source": []
  }
 ],
 "metadata": {
  "kernelspec": {
   "display_name": "Python 3",
   "language": "python",
   "name": "python3"
  },
  "language_info": {
   "codemirror_mode": {
    "name": "ipython",
    "version": 3
   },
   "file_extension": ".py",
   "mimetype": "text/x-python",
   "name": "python",
   "nbconvert_exporter": "python",
   "pygments_lexer": "ipython3",
   "version": "3.8.8"
  }
 },
 "nbformat": 4,
 "nbformat_minor": 5
}
