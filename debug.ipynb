{
 "cells": [
  {
   "cell_type": "code",
   "execution_count": 1,
   "id": "d02f263f",
   "metadata": {},
   "outputs": [],
   "source": [
    "import numpy as np\n",
    "import pandas as pd\n",
    "import random\n",
    "import math\n",
    "import statistics as stat\n",
    "import matplotlib.pyplot as plt\n",
    "import itertools\n",
    "import warnings\n",
    "from simul_file import mmn_queueing_jsq, queue_length_time_graph, \\\n",
    "                        mmn_queueing_redundancy_dos, mmn_queueing_redundancy_doc, \\\n",
    "                        mmn_queueing_redundancy_dos_identical, \\\n",
    "                        mmn_queueing_redundancy_doc_identical, \\\n",
    "                        mmn_queueing_redundancy_dos_weibull, \\\n",
    "                        mmn_queueing_redundancy_doc_weibull,\\\n",
    "                        mmn_queueing_jsq_weibull"
   ]
  },
  {
   "cell_type": "code",
   "execution_count": null,
   "id": "f1052590",
   "metadata": {},
   "outputs": [],
   "source": []
  },
  {
   "cell_type": "code",
   "execution_count": null,
   "id": "6a950112",
   "metadata": {},
   "outputs": [],
   "source": []
  },
  {
   "cell_type": "code",
   "execution_count": null,
   "id": "0450fbba",
   "metadata": {},
   "outputs": [],
   "source": []
  },
  {
   "cell_type": "code",
   "execution_count": null,
   "id": "85de499c",
   "metadata": {},
   "outputs": [],
   "source": []
  }
 ],
 "metadata": {
  "kernelspec": {
   "display_name": "Python 3",
   "language": "python",
   "name": "python3"
  },
  "language_info": {
   "codemirror_mode": {
    "name": "ipython",
    "version": 3
   },
   "file_extension": ".py",
   "mimetype": "text/x-python",
   "name": "python",
   "nbconvert_exporter": "python",
   "pygments_lexer": "ipython3",
   "version": "3.8.8"
  }
 },
 "nbformat": 4,
 "nbformat_minor": 5
}
